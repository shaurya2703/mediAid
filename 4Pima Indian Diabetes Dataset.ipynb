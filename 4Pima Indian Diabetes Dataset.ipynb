{
 "cells": [
  {
   "cell_type": "code",
   "execution_count": 1,
   "metadata": {},
   "outputs": [],
   "source": [
    "import pandas as pd\n",
    "import numpy as np\n",
    "import matplotlib.pyplot as plt\n",
    "from sklearn.metrics import accuracy_score\n",
    "from sklearn.metrics import classification_report , confusion_matrix\n",
    "import seaborn as sns\n",
    "import warnings\n",
    "warnings.filterwarnings('ignore')"
   ]
  },
  {
   "cell_type": "code",
   "execution_count": 2,
   "metadata": {},
   "outputs": [],
   "source": [
    "df = pd.read_csv(r'C:\\Users\\Downloads\\228_482_bundle_archive\\diabetes.csv')"
   ]
  },
  {
   "cell_type": "code",
   "execution_count": 3,
   "metadata": {},
   "outputs": [
    {
     "data": {
      "text/html": [
       "<div>\n",
       "<style scoped>\n",
       "    .dataframe tbody tr th:only-of-type {\n",
       "        vertical-align: middle;\n",
       "    }\n",
       "\n",
       "    .dataframe tbody tr th {\n",
       "        vertical-align: top;\n",
       "    }\n",
       "\n",
       "    .dataframe thead th {\n",
       "        text-align: right;\n",
       "    }\n",
       "</style>\n",
       "<table border=\"1\" class=\"dataframe\">\n",
       "  <thead>\n",
       "    <tr style=\"text-align: right;\">\n",
       "      <th></th>\n",
       "      <th>Pregnancies</th>\n",
       "      <th>Glucose</th>\n",
       "      <th>BloodPressure</th>\n",
       "      <th>SkinThickness</th>\n",
       "      <th>Insulin</th>\n",
       "      <th>BMI</th>\n",
       "      <th>DiabetesPedigreeFunction</th>\n",
       "      <th>Age</th>\n",
       "      <th>Outcome</th>\n",
       "    </tr>\n",
       "  </thead>\n",
       "  <tbody>\n",
       "    <tr>\n",
       "      <th>0</th>\n",
       "      <td>6</td>\n",
       "      <td>148</td>\n",
       "      <td>72</td>\n",
       "      <td>35</td>\n",
       "      <td>0</td>\n",
       "      <td>33.6</td>\n",
       "      <td>0.627</td>\n",
       "      <td>50</td>\n",
       "      <td>1</td>\n",
       "    </tr>\n",
       "    <tr>\n",
       "      <th>1</th>\n",
       "      <td>1</td>\n",
       "      <td>85</td>\n",
       "      <td>66</td>\n",
       "      <td>29</td>\n",
       "      <td>0</td>\n",
       "      <td>26.6</td>\n",
       "      <td>0.351</td>\n",
       "      <td>31</td>\n",
       "      <td>0</td>\n",
       "    </tr>\n",
       "    <tr>\n",
       "      <th>2</th>\n",
       "      <td>8</td>\n",
       "      <td>183</td>\n",
       "      <td>64</td>\n",
       "      <td>0</td>\n",
       "      <td>0</td>\n",
       "      <td>23.3</td>\n",
       "      <td>0.672</td>\n",
       "      <td>32</td>\n",
       "      <td>1</td>\n",
       "    </tr>\n",
       "    <tr>\n",
       "      <th>3</th>\n",
       "      <td>1</td>\n",
       "      <td>89</td>\n",
       "      <td>66</td>\n",
       "      <td>23</td>\n",
       "      <td>94</td>\n",
       "      <td>28.1</td>\n",
       "      <td>0.167</td>\n",
       "      <td>21</td>\n",
       "      <td>0</td>\n",
       "    </tr>\n",
       "    <tr>\n",
       "      <th>4</th>\n",
       "      <td>0</td>\n",
       "      <td>137</td>\n",
       "      <td>40</td>\n",
       "      <td>35</td>\n",
       "      <td>168</td>\n",
       "      <td>43.1</td>\n",
       "      <td>2.288</td>\n",
       "      <td>33</td>\n",
       "      <td>1</td>\n",
       "    </tr>\n",
       "  </tbody>\n",
       "</table>\n",
       "</div>"
      ],
      "text/plain": [
       "   Pregnancies  Glucose  BloodPressure  SkinThickness  Insulin   BMI  \\\n",
       "0            6      148             72             35        0  33.6   \n",
       "1            1       85             66             29        0  26.6   \n",
       "2            8      183             64              0        0  23.3   \n",
       "3            1       89             66             23       94  28.1   \n",
       "4            0      137             40             35      168  43.1   \n",
       "\n",
       "   DiabetesPedigreeFunction  Age  Outcome  \n",
       "0                     0.627   50        1  \n",
       "1                     0.351   31        0  \n",
       "2                     0.672   32        1  \n",
       "3                     0.167   21        0  \n",
       "4                     2.288   33        1  "
      ]
     },
     "execution_count": 3,
     "metadata": {},
     "output_type": "execute_result"
    }
   ],
   "source": [
    "df.head()"
   ]
  },
  {
   "cell_type": "code",
   "execution_count": 4,
   "metadata": {},
   "outputs": [
    {
     "data": {
      "text/html": [
       "<div>\n",
       "<style scoped>\n",
       "    .dataframe tbody tr th:only-of-type {\n",
       "        vertical-align: middle;\n",
       "    }\n",
       "\n",
       "    .dataframe tbody tr th {\n",
       "        vertical-align: top;\n",
       "    }\n",
       "\n",
       "    .dataframe thead th {\n",
       "        text-align: right;\n",
       "    }\n",
       "</style>\n",
       "<table border=\"1\" class=\"dataframe\">\n",
       "  <thead>\n",
       "    <tr style=\"text-align: right;\">\n",
       "      <th></th>\n",
       "      <th>Pregnancies</th>\n",
       "      <th>Glucose</th>\n",
       "      <th>BloodPressure</th>\n",
       "      <th>SkinThickness</th>\n",
       "      <th>Insulin</th>\n",
       "      <th>BMI</th>\n",
       "      <th>DiabetesPedigreeFunction</th>\n",
       "      <th>Age</th>\n",
       "      <th>Outcome</th>\n",
       "    </tr>\n",
       "  </thead>\n",
       "  <tbody>\n",
       "    <tr>\n",
       "      <th>count</th>\n",
       "      <td>768.000000</td>\n",
       "      <td>768.000000</td>\n",
       "      <td>768.000000</td>\n",
       "      <td>768.000000</td>\n",
       "      <td>768.000000</td>\n",
       "      <td>768.000000</td>\n",
       "      <td>768.000000</td>\n",
       "      <td>768.000000</td>\n",
       "      <td>768.000000</td>\n",
       "    </tr>\n",
       "    <tr>\n",
       "      <th>mean</th>\n",
       "      <td>3.845052</td>\n",
       "      <td>120.894531</td>\n",
       "      <td>69.105469</td>\n",
       "      <td>20.536458</td>\n",
       "      <td>79.799479</td>\n",
       "      <td>31.992578</td>\n",
       "      <td>0.471876</td>\n",
       "      <td>33.240885</td>\n",
       "      <td>0.348958</td>\n",
       "    </tr>\n",
       "    <tr>\n",
       "      <th>std</th>\n",
       "      <td>3.369578</td>\n",
       "      <td>31.972618</td>\n",
       "      <td>19.355807</td>\n",
       "      <td>15.952218</td>\n",
       "      <td>115.244002</td>\n",
       "      <td>7.884160</td>\n",
       "      <td>0.331329</td>\n",
       "      <td>11.760232</td>\n",
       "      <td>0.476951</td>\n",
       "    </tr>\n",
       "    <tr>\n",
       "      <th>min</th>\n",
       "      <td>0.000000</td>\n",
       "      <td>0.000000</td>\n",
       "      <td>0.000000</td>\n",
       "      <td>0.000000</td>\n",
       "      <td>0.000000</td>\n",
       "      <td>0.000000</td>\n",
       "      <td>0.078000</td>\n",
       "      <td>21.000000</td>\n",
       "      <td>0.000000</td>\n",
       "    </tr>\n",
       "    <tr>\n",
       "      <th>25%</th>\n",
       "      <td>1.000000</td>\n",
       "      <td>99.000000</td>\n",
       "      <td>62.000000</td>\n",
       "      <td>0.000000</td>\n",
       "      <td>0.000000</td>\n",
       "      <td>27.300000</td>\n",
       "      <td>0.243750</td>\n",
       "      <td>24.000000</td>\n",
       "      <td>0.000000</td>\n",
       "    </tr>\n",
       "    <tr>\n",
       "      <th>50%</th>\n",
       "      <td>3.000000</td>\n",
       "      <td>117.000000</td>\n",
       "      <td>72.000000</td>\n",
       "      <td>23.000000</td>\n",
       "      <td>30.500000</td>\n",
       "      <td>32.000000</td>\n",
       "      <td>0.372500</td>\n",
       "      <td>29.000000</td>\n",
       "      <td>0.000000</td>\n",
       "    </tr>\n",
       "    <tr>\n",
       "      <th>75%</th>\n",
       "      <td>6.000000</td>\n",
       "      <td>140.250000</td>\n",
       "      <td>80.000000</td>\n",
       "      <td>32.000000</td>\n",
       "      <td>127.250000</td>\n",
       "      <td>36.600000</td>\n",
       "      <td>0.626250</td>\n",
       "      <td>41.000000</td>\n",
       "      <td>1.000000</td>\n",
       "    </tr>\n",
       "    <tr>\n",
       "      <th>max</th>\n",
       "      <td>17.000000</td>\n",
       "      <td>199.000000</td>\n",
       "      <td>122.000000</td>\n",
       "      <td>99.000000</td>\n",
       "      <td>846.000000</td>\n",
       "      <td>67.100000</td>\n",
       "      <td>2.420000</td>\n",
       "      <td>81.000000</td>\n",
       "      <td>1.000000</td>\n",
       "    </tr>\n",
       "  </tbody>\n",
       "</table>\n",
       "</div>"
      ],
      "text/plain": [
       "       Pregnancies     Glucose  BloodPressure  SkinThickness     Insulin  \\\n",
       "count   768.000000  768.000000     768.000000     768.000000  768.000000   \n",
       "mean      3.845052  120.894531      69.105469      20.536458   79.799479   \n",
       "std       3.369578   31.972618      19.355807      15.952218  115.244002   \n",
       "min       0.000000    0.000000       0.000000       0.000000    0.000000   \n",
       "25%       1.000000   99.000000      62.000000       0.000000    0.000000   \n",
       "50%       3.000000  117.000000      72.000000      23.000000   30.500000   \n",
       "75%       6.000000  140.250000      80.000000      32.000000  127.250000   \n",
       "max      17.000000  199.000000     122.000000      99.000000  846.000000   \n",
       "\n",
       "              BMI  DiabetesPedigreeFunction         Age     Outcome  \n",
       "count  768.000000                768.000000  768.000000  768.000000  \n",
       "mean    31.992578                  0.471876   33.240885    0.348958  \n",
       "std      7.884160                  0.331329   11.760232    0.476951  \n",
       "min      0.000000                  0.078000   21.000000    0.000000  \n",
       "25%     27.300000                  0.243750   24.000000    0.000000  \n",
       "50%     32.000000                  0.372500   29.000000    0.000000  \n",
       "75%     36.600000                  0.626250   41.000000    1.000000  \n",
       "max     67.100000                  2.420000   81.000000    1.000000  "
      ]
     },
     "execution_count": 4,
     "metadata": {},
     "output_type": "execute_result"
    }
   ],
   "source": [
    "df.describe()"
   ]
  },
  {
   "cell_type": "code",
   "execution_count": 4,
   "metadata": {},
   "outputs": [
    {
     "name": "stdout",
     "output_type": "stream",
     "text": [
      "<class 'pandas.core.frame.DataFrame'>\n",
      "RangeIndex: 768 entries, 0 to 767\n",
      "Data columns (total 9 columns):\n",
      " #   Column                    Non-Null Count  Dtype  \n",
      "---  ------                    --------------  -----  \n",
      " 0   Pregnancies               768 non-null    int64  \n",
      " 1   Glucose                   768 non-null    int64  \n",
      " 2   BloodPressure             768 non-null    int64  \n",
      " 3   SkinThickness             768 non-null    int64  \n",
      " 4   Insulin                   768 non-null    int64  \n",
      " 5   BMI                       768 non-null    float64\n",
      " 6   DiabetesPedigreeFunction  768 non-null    float64\n",
      " 7   Age                       768 non-null    int64  \n",
      " 8   Outcome                   768 non-null    int64  \n",
      "dtypes: float64(2), int64(7)\n",
      "memory usage: 54.1 KB\n"
     ]
    }
   ],
   "source": [
    "df.info()"
   ]
  },
  {
   "cell_type": "code",
   "execution_count": 5,
   "metadata": {},
   "outputs": [
    {
     "data": {
      "text/plain": [
       "array([148,  85, 183,  89, 137, 116,  78, 115, 197, 125, 110, 168, 139,\n",
       "       189, 166, 100, 118, 107, 103, 126,  99, 196, 119, 143, 147,  97,\n",
       "       145, 117, 109, 158,  88,  92, 122, 138, 102,  90, 111, 180, 133,\n",
       "       106, 171, 159, 146,  71, 105, 101, 176, 150,  73, 187,  84,  44,\n",
       "       141, 114,  95, 129,  79,   0,  62, 131, 112, 113,  74,  83, 136,\n",
       "        80, 123,  81, 134, 142, 144,  93, 163, 151,  96, 155,  76, 160,\n",
       "       124, 162, 132, 120, 173, 170, 128, 108, 154,  57, 156, 153, 188,\n",
       "       152, 104,  87,  75, 179, 130, 194, 181, 135, 184, 140, 177, 164,\n",
       "        91, 165,  86, 193, 191, 161, 167,  77, 182, 157, 178,  61,  98,\n",
       "       127,  82,  72, 172,  94, 175, 195,  68, 186, 198, 121,  67, 174,\n",
       "       199,  56, 169, 149,  65, 190], dtype=int64)"
      ]
     },
     "execution_count": 5,
     "metadata": {},
     "output_type": "execute_result"
    }
   ],
   "source": [
    "df['Glucose'].unique()"
   ]
  },
  {
   "cell_type": "code",
   "execution_count": 6,
   "metadata": {},
   "outputs": [
    {
     "data": {
      "text/plain": [
       "array([ 72,  66,  64,  40,  74,  50,   0,  70,  96,  92,  80,  60,  84,\n",
       "        30,  88,  90,  94,  76,  82,  75,  58,  78,  68, 110,  56,  62,\n",
       "        85,  86,  48,  44,  65, 108,  55, 122,  54,  52,  98, 104,  95,\n",
       "        46, 102, 100,  61,  24,  38, 106, 114], dtype=int64)"
      ]
     },
     "execution_count": 6,
     "metadata": {},
     "output_type": "execute_result"
    }
   ],
   "source": [
    "\n",
    "\n",
    "\n",
    "df['BloodPressure'].unique()"
   ]
  },
  {
   "cell_type": "code",
   "execution_count": 7,
   "metadata": {},
   "outputs": [
    {
     "data": {
      "text/plain": [
       "array([35, 29,  0, 23, 32, 45, 19, 47, 38, 30, 41, 33, 26, 15, 36, 11, 31,\n",
       "       37, 42, 25, 18, 24, 39, 27, 21, 34, 10, 60, 13, 20, 22, 28, 54, 40,\n",
       "       51, 56, 14, 17, 50, 44, 12, 46, 16,  7, 52, 43, 48,  8, 49, 63, 99],\n",
       "      dtype=int64)"
      ]
     },
     "execution_count": 7,
     "metadata": {},
     "output_type": "execute_result"
    }
   ],
   "source": [
    "df['SkinThickness'].unique()"
   ]
  },
  {
   "cell_type": "code",
   "execution_count": 8,
   "metadata": {},
   "outputs": [
    {
     "data": {
      "text/plain": [
       "array([  0,  94, 168,  88, 543, 846, 175, 230,  83,  96, 235, 146, 115,\n",
       "       140, 110, 245,  54, 192, 207,  70, 240,  82,  36,  23, 300, 342,\n",
       "       304, 142, 128,  38, 100,  90, 270,  71, 125, 176,  48,  64, 228,\n",
       "        76, 220,  40, 152,  18, 135, 495,  37,  51,  99, 145, 225,  49,\n",
       "        50,  92, 325,  63, 284, 119, 204, 155, 485,  53, 114, 105, 285,\n",
       "       156,  78, 130,  55,  58, 160, 210, 318,  44, 190, 280,  87, 271,\n",
       "       129, 120, 478,  56,  32, 744, 370,  45, 194, 680, 402, 258, 375,\n",
       "       150,  67,  57, 116, 278, 122, 545,  75,  74, 182, 360, 215, 184,\n",
       "        42, 132, 148, 180, 205,  85, 231,  29,  68,  52, 255, 171,  73,\n",
       "       108,  43, 167, 249, 293,  66, 465,  89, 158,  84,  72,  59,  81,\n",
       "       196, 415, 275, 165, 579, 310,  61, 474, 170, 277,  60,  14,  95,\n",
       "       237, 191, 328, 250, 480, 265, 193,  79,  86, 326, 188, 106,  65,\n",
       "       166, 274,  77, 126, 330, 600, 185,  25,  41, 272, 321, 144,  15,\n",
       "       183,  91,  46, 440, 159, 540, 200, 335, 387,  22, 291, 392, 178,\n",
       "       127, 510,  16, 112], dtype=int64)"
      ]
     },
     "execution_count": 8,
     "metadata": {},
     "output_type": "execute_result"
    }
   ],
   "source": [
    "df['Insulin'].unique()"
   ]
  },
  {
   "cell_type": "code",
   "execution_count": 9,
   "metadata": {},
   "outputs": [
    {
     "data": {
      "text/plain": [
       "array([33.6, 26.6, 23.3, 28.1, 43.1, 25.6, 31. , 35.3, 30.5,  0. , 37.6,\n",
       "       38. , 27.1, 30.1, 25.8, 30. , 45.8, 29.6, 43.3, 34.6, 39.3, 35.4,\n",
       "       39.8, 29. , 36.6, 31.1, 39.4, 23.2, 22.2, 34.1, 36. , 31.6, 24.8,\n",
       "       19.9, 27.6, 24. , 33.2, 32.9, 38.2, 37.1, 34. , 40.2, 22.7, 45.4,\n",
       "       27.4, 42. , 29.7, 28. , 39.1, 19.4, 24.2, 24.4, 33.7, 34.7, 23. ,\n",
       "       37.7, 46.8, 40.5, 41.5, 25. , 25.4, 32.8, 32.5, 42.7, 19.6, 28.9,\n",
       "       28.6, 43.4, 35.1, 32. , 24.7, 32.6, 43.2, 22.4, 29.3, 24.6, 48.8,\n",
       "       32.4, 38.5, 26.5, 19.1, 46.7, 23.8, 33.9, 20.4, 28.7, 49.7, 39. ,\n",
       "       26.1, 22.5, 39.6, 29.5, 34.3, 37.4, 33.3, 31.2, 28.2, 53.2, 34.2,\n",
       "       26.8, 55. , 42.9, 34.5, 27.9, 38.3, 21.1, 33.8, 30.8, 36.9, 39.5,\n",
       "       27.3, 21.9, 40.6, 47.9, 50. , 25.2, 40.9, 37.2, 44.2, 29.9, 31.9,\n",
       "       28.4, 43.5, 32.7, 67.1, 45. , 34.9, 27.7, 35.9, 22.6, 33.1, 30.4,\n",
       "       52.3, 24.3, 22.9, 34.8, 30.9, 40.1, 23.9, 37.5, 35.5, 42.8, 42.6,\n",
       "       41.8, 35.8, 37.8, 28.8, 23.6, 35.7, 36.7, 45.2, 44. , 46.2, 35. ,\n",
       "       43.6, 44.1, 18.4, 29.2, 25.9, 32.1, 36.3, 40. , 25.1, 27.5, 45.6,\n",
       "       27.8, 24.9, 25.3, 37.9, 27. , 26. , 38.7, 20.8, 36.1, 30.7, 32.3,\n",
       "       52.9, 21. , 39.7, 25.5, 26.2, 19.3, 38.1, 23.5, 45.5, 23.1, 39.9,\n",
       "       36.8, 21.8, 41. , 42.2, 34.4, 27.2, 36.5, 29.8, 39.2, 38.4, 36.2,\n",
       "       48.3, 20. , 22.3, 45.7, 23.7, 22.1, 42.1, 42.4, 18.2, 26.4, 45.3,\n",
       "       37. , 24.5, 32.2, 59.4, 21.2, 26.7, 30.2, 46.1, 41.3, 38.8, 35.2,\n",
       "       42.3, 40.7, 46.5, 33.5, 37.3, 30.3, 26.3, 21.7, 36.4, 28.5, 26.9,\n",
       "       38.6, 31.3, 19.5, 20.1, 40.8, 23.4, 28.3, 38.9, 57.3, 35.6, 49.6,\n",
       "       44.6, 24.1, 44.5, 41.2, 49.3, 46.3])"
      ]
     },
     "execution_count": 9,
     "metadata": {},
     "output_type": "execute_result"
    }
   ],
   "source": [
    "df['BMI'].unique()"
   ]
  },
  {
   "cell_type": "code",
   "execution_count": 10,
   "metadata": {
    "scrolled": true
   },
   "outputs": [
    {
     "data": {
      "text/plain": [
       "array([0.627, 0.351, 0.672, 0.167, 2.288, 0.201, 0.248, 0.134, 0.158,\n",
       "       0.232, 0.191, 0.537, 1.441, 0.398, 0.587, 0.484, 0.551, 0.254,\n",
       "       0.183, 0.529, 0.704, 0.388, 0.451, 0.263, 0.205, 0.257, 0.487,\n",
       "       0.245, 0.337, 0.546, 0.851, 0.267, 0.188, 0.512, 0.966, 0.42 ,\n",
       "       0.665, 0.503, 1.39 , 0.271, 0.696, 0.235, 0.721, 0.294, 1.893,\n",
       "       0.564, 0.586, 0.344, 0.305, 0.491, 0.526, 0.342, 0.467, 0.718,\n",
       "       0.962, 1.781, 0.173, 0.304, 0.27 , 0.699, 0.258, 0.203, 0.855,\n",
       "       0.845, 0.334, 0.189, 0.867, 0.411, 0.583, 0.231, 0.396, 0.14 ,\n",
       "       0.391, 0.37 , 0.307, 0.102, 0.767, 0.237, 0.227, 0.698, 0.178,\n",
       "       0.324, 0.153, 0.165, 0.443, 0.261, 0.277, 0.761, 0.255, 0.13 ,\n",
       "       0.323, 0.356, 0.325, 1.222, 0.179, 0.262, 0.283, 0.93 , 0.801,\n",
       "       0.207, 0.287, 0.336, 0.247, 0.199, 0.543, 0.192, 0.588, 0.539,\n",
       "       0.22 , 0.654, 0.223, 0.759, 0.26 , 0.404, 0.186, 0.278, 0.496,\n",
       "       0.452, 0.403, 0.741, 0.361, 1.114, 0.457, 0.647, 0.088, 0.597,\n",
       "       0.532, 0.703, 0.159, 0.268, 0.286, 0.318, 0.272, 0.572, 0.096,\n",
       "       1.4  , 0.218, 0.085, 0.399, 0.432, 1.189, 0.687, 0.137, 0.637,\n",
       "       0.833, 0.229, 0.817, 0.204, 0.368, 0.743, 0.722, 0.256, 0.709,\n",
       "       0.471, 0.495, 0.18 , 0.542, 0.773, 0.678, 0.719, 0.382, 0.319,\n",
       "       0.19 , 0.956, 0.084, 0.725, 0.299, 0.244, 0.745, 0.615, 1.321,\n",
       "       0.64 , 0.142, 0.374, 0.383, 0.578, 0.136, 0.395, 0.187, 0.905,\n",
       "       0.15 , 0.874, 0.236, 0.787, 0.407, 0.605, 0.151, 0.289, 0.355,\n",
       "       0.29 , 0.375, 0.164, 0.431, 0.742, 0.514, 0.464, 1.224, 1.072,\n",
       "       0.805, 0.209, 0.666, 0.101, 0.198, 0.652, 2.329, 0.089, 0.645,\n",
       "       0.238, 0.394, 0.293, 0.479, 0.686, 0.831, 0.582, 0.446, 0.402,\n",
       "       1.318, 0.329, 1.213, 0.427, 0.282, 0.143, 0.38 , 0.284, 0.249,\n",
       "       0.926, 0.557, 0.092, 0.655, 1.353, 0.612, 0.2  , 0.226, 0.997,\n",
       "       0.933, 1.101, 0.078, 0.24 , 1.136, 0.128, 0.422, 0.251, 0.677,\n",
       "       0.296, 0.454, 0.744, 0.881, 0.28 , 0.259, 0.619, 0.808, 0.34 ,\n",
       "       0.434, 0.757, 0.613, 0.692, 0.52 , 0.412, 0.84 , 0.839, 0.156,\n",
       "       0.215, 0.326, 1.391, 0.875, 0.313, 0.433, 0.626, 1.127, 0.315,\n",
       "       0.345, 0.129, 0.527, 0.197, 0.731, 0.148, 0.123, 0.127, 0.122,\n",
       "       1.476, 0.166, 0.932, 0.343, 0.893, 0.331, 0.472, 0.673, 0.389,\n",
       "       0.485, 0.349, 0.279, 0.346, 0.252, 0.243, 0.58 , 0.559, 0.302,\n",
       "       0.569, 0.378, 0.385, 0.499, 0.306, 0.234, 2.137, 1.731, 0.545,\n",
       "       0.225, 0.816, 0.528, 0.509, 1.021, 0.821, 0.947, 1.268, 0.221,\n",
       "       0.66 , 0.239, 0.949, 0.444, 0.463, 0.803, 1.6  , 0.944, 0.196,\n",
       "       0.241, 0.161, 0.135, 0.376, 1.191, 0.702, 0.674, 1.076, 0.534,\n",
       "       1.095, 0.554, 0.624, 0.219, 0.507, 0.561, 0.421, 0.516, 0.264,\n",
       "       0.328, 0.233, 0.108, 1.138, 0.147, 0.727, 0.435, 0.497, 0.23 ,\n",
       "       0.955, 2.42 , 0.658, 0.33 , 0.51 , 0.285, 0.415, 0.381, 0.832,\n",
       "       0.498, 0.212, 0.364, 1.001, 0.46 , 0.733, 0.416, 0.705, 1.022,\n",
       "       0.269, 0.6  , 0.571, 0.607, 0.17 , 0.21 , 0.126, 0.711, 0.466,\n",
       "       0.162, 0.419, 0.63 , 0.365, 0.536, 1.159, 0.629, 0.292, 0.145,\n",
       "       1.144, 0.174, 0.547, 0.163, 0.738, 0.314, 0.968, 0.409, 0.297,\n",
       "       0.525, 0.154, 0.771, 0.107, 0.493, 0.717, 0.917, 0.501, 1.251,\n",
       "       0.735, 0.804, 0.661, 0.549, 0.825, 0.423, 1.034, 0.16 , 0.341,\n",
       "       0.68 , 0.591, 0.3  , 0.121, 0.502, 0.401, 0.601, 0.748, 0.338,\n",
       "       0.43 , 0.892, 0.813, 0.693, 0.575, 0.371, 0.206, 0.417, 1.154,\n",
       "       0.925, 0.175, 1.699, 0.682, 0.194, 0.4  , 0.1  , 1.258, 0.482,\n",
       "       0.138, 0.593, 0.878, 0.157, 1.282, 0.141, 0.246, 1.698, 1.461,\n",
       "       0.347, 0.362, 0.393, 0.144, 0.732, 0.115, 0.465, 0.649, 0.871,\n",
       "       0.149, 0.695, 0.303, 0.61 , 0.73 , 0.447, 0.455, 0.133, 0.155,\n",
       "       1.162, 1.292, 0.182, 1.394, 0.217, 0.631, 0.88 , 0.614, 0.332,\n",
       "       0.366, 0.181, 0.828, 0.335, 0.856, 0.886, 0.439, 0.253, 0.598,\n",
       "       0.904, 0.483, 0.565, 0.118, 0.177, 0.176, 0.295, 0.441, 0.352,\n",
       "       0.826, 0.97 , 0.595, 0.317, 0.265, 0.646, 0.426, 0.56 , 0.515,\n",
       "       0.453, 0.785, 0.734, 1.174, 0.488, 0.358, 1.096, 0.408, 1.182,\n",
       "       0.222, 1.057, 0.766, 0.171])"
      ]
     },
     "execution_count": 10,
     "metadata": {},
     "output_type": "execute_result"
    }
   ],
   "source": [
    "df['DiabetesPedigreeFunction'].unique()"
   ]
  },
  {
   "cell_type": "code",
   "execution_count": null,
   "metadata": {},
   "outputs": [],
   "source": []
  },
  {
   "cell_type": "code",
   "execution_count": 11,
   "metadata": {},
   "outputs": [
    {
     "data": {
      "text/plain": [
       "array([50, 31, 32, 21, 33, 30, 26, 29, 53, 54, 34, 57, 59, 51, 27, 41, 43,\n",
       "       22, 38, 60, 28, 45, 35, 46, 56, 37, 48, 40, 25, 24, 58, 42, 44, 39,\n",
       "       36, 23, 61, 69, 62, 55, 65, 47, 52, 66, 49, 63, 67, 72, 81, 64, 70,\n",
       "       68], dtype=int64)"
      ]
     },
     "execution_count": 11,
     "metadata": {},
     "output_type": "execute_result"
    }
   ],
   "source": [
    "df['Age'].unique()"
   ]
  },
  {
   "cell_type": "code",
   "execution_count": 12,
   "metadata": {},
   "outputs": [
    {
     "data": {
      "text/html": [
       "<div>\n",
       "<style scoped>\n",
       "    .dataframe tbody tr th:only-of-type {\n",
       "        vertical-align: middle;\n",
       "    }\n",
       "\n",
       "    .dataframe tbody tr th {\n",
       "        vertical-align: top;\n",
       "    }\n",
       "\n",
       "    .dataframe thead th {\n",
       "        text-align: right;\n",
       "    }\n",
       "</style>\n",
       "<table border=\"1\" class=\"dataframe\">\n",
       "  <thead>\n",
       "    <tr style=\"text-align: right;\">\n",
       "      <th></th>\n",
       "      <th>Pregnancies</th>\n",
       "      <th>Glucose</th>\n",
       "      <th>BloodPressure</th>\n",
       "      <th>SkinThickness</th>\n",
       "      <th>Insulin</th>\n",
       "      <th>BMI</th>\n",
       "      <th>DiabetesPedigreeFunction</th>\n",
       "      <th>Age</th>\n",
       "      <th>Outcome</th>\n",
       "    </tr>\n",
       "  </thead>\n",
       "  <tbody>\n",
       "    <tr>\n",
       "      <th>count</th>\n",
       "      <td>768.000000</td>\n",
       "      <td>768.000000</td>\n",
       "      <td>768.000000</td>\n",
       "      <td>768.000000</td>\n",
       "      <td>768.000000</td>\n",
       "      <td>768.000000</td>\n",
       "      <td>768.000000</td>\n",
       "      <td>768.000000</td>\n",
       "      <td>768.000000</td>\n",
       "    </tr>\n",
       "    <tr>\n",
       "      <th>mean</th>\n",
       "      <td>3.845052</td>\n",
       "      <td>120.894531</td>\n",
       "      <td>69.105469</td>\n",
       "      <td>20.536458</td>\n",
       "      <td>79.799479</td>\n",
       "      <td>31.992578</td>\n",
       "      <td>0.471876</td>\n",
       "      <td>33.240885</td>\n",
       "      <td>0.348958</td>\n",
       "    </tr>\n",
       "    <tr>\n",
       "      <th>std</th>\n",
       "      <td>3.369578</td>\n",
       "      <td>31.972618</td>\n",
       "      <td>19.355807</td>\n",
       "      <td>15.952218</td>\n",
       "      <td>115.244002</td>\n",
       "      <td>7.884160</td>\n",
       "      <td>0.331329</td>\n",
       "      <td>11.760232</td>\n",
       "      <td>0.476951</td>\n",
       "    </tr>\n",
       "    <tr>\n",
       "      <th>min</th>\n",
       "      <td>0.000000</td>\n",
       "      <td>0.000000</td>\n",
       "      <td>0.000000</td>\n",
       "      <td>0.000000</td>\n",
       "      <td>0.000000</td>\n",
       "      <td>0.000000</td>\n",
       "      <td>0.078000</td>\n",
       "      <td>21.000000</td>\n",
       "      <td>0.000000</td>\n",
       "    </tr>\n",
       "    <tr>\n",
       "      <th>25%</th>\n",
       "      <td>1.000000</td>\n",
       "      <td>99.000000</td>\n",
       "      <td>62.000000</td>\n",
       "      <td>0.000000</td>\n",
       "      <td>0.000000</td>\n",
       "      <td>27.300000</td>\n",
       "      <td>0.243750</td>\n",
       "      <td>24.000000</td>\n",
       "      <td>0.000000</td>\n",
       "    </tr>\n",
       "    <tr>\n",
       "      <th>50%</th>\n",
       "      <td>3.000000</td>\n",
       "      <td>117.000000</td>\n",
       "      <td>72.000000</td>\n",
       "      <td>23.000000</td>\n",
       "      <td>30.500000</td>\n",
       "      <td>32.000000</td>\n",
       "      <td>0.372500</td>\n",
       "      <td>29.000000</td>\n",
       "      <td>0.000000</td>\n",
       "    </tr>\n",
       "    <tr>\n",
       "      <th>75%</th>\n",
       "      <td>6.000000</td>\n",
       "      <td>140.250000</td>\n",
       "      <td>80.000000</td>\n",
       "      <td>32.000000</td>\n",
       "      <td>127.250000</td>\n",
       "      <td>36.600000</td>\n",
       "      <td>0.626250</td>\n",
       "      <td>41.000000</td>\n",
       "      <td>1.000000</td>\n",
       "    </tr>\n",
       "    <tr>\n",
       "      <th>max</th>\n",
       "      <td>17.000000</td>\n",
       "      <td>199.000000</td>\n",
       "      <td>122.000000</td>\n",
       "      <td>99.000000</td>\n",
       "      <td>846.000000</td>\n",
       "      <td>67.100000</td>\n",
       "      <td>2.420000</td>\n",
       "      <td>81.000000</td>\n",
       "      <td>1.000000</td>\n",
       "    </tr>\n",
       "  </tbody>\n",
       "</table>\n",
       "</div>"
      ],
      "text/plain": [
       "       Pregnancies     Glucose  BloodPressure  SkinThickness     Insulin  \\\n",
       "count   768.000000  768.000000     768.000000     768.000000  768.000000   \n",
       "mean      3.845052  120.894531      69.105469      20.536458   79.799479   \n",
       "std       3.369578   31.972618      19.355807      15.952218  115.244002   \n",
       "min       0.000000    0.000000       0.000000       0.000000    0.000000   \n",
       "25%       1.000000   99.000000      62.000000       0.000000    0.000000   \n",
       "50%       3.000000  117.000000      72.000000      23.000000   30.500000   \n",
       "75%       6.000000  140.250000      80.000000      32.000000  127.250000   \n",
       "max      17.000000  199.000000     122.000000      99.000000  846.000000   \n",
       "\n",
       "              BMI  DiabetesPedigreeFunction         Age     Outcome  \n",
       "count  768.000000                768.000000  768.000000  768.000000  \n",
       "mean    31.992578                  0.471876   33.240885    0.348958  \n",
       "std      7.884160                  0.331329   11.760232    0.476951  \n",
       "min      0.000000                  0.078000   21.000000    0.000000  \n",
       "25%     27.300000                  0.243750   24.000000    0.000000  \n",
       "50%     32.000000                  0.372500   29.000000    0.000000  \n",
       "75%     36.600000                  0.626250   41.000000    1.000000  \n",
       "max     67.100000                  2.420000   81.000000    1.000000  "
      ]
     },
     "execution_count": 12,
     "metadata": {},
     "output_type": "execute_result"
    }
   ],
   "source": [
    "df.describe()"
   ]
  },
  {
   "cell_type": "markdown",
   "metadata": {},
   "source": [
    "# What is \"normal\" blood pressure?\n",
    "    A blood pressure reading has a top number (systolic) and bottom number (diastolic). \n",
    "    Normal blood pressure is less than 120 over 80 (120/80). \n",
    "    People whose blood pressure is above the normal range should ask their doctor how to lower it."
   ]
  },
  {
   "cell_type": "markdown",
   "metadata": {},
   "source": [
    "# Gestational diabetes\n",
    "    Gestational diabetes is a type of diabetes that develops during pregnancy. \n",
    "    Diabetes means your blood glucose, also called blood sugar, is too high. \n",
    "    Too much glucose in your blood is not good for you or your baby. Gestational diabetes is usually diagnosed in the\n",
    "    24th to 28th week of pregnancy."
   ]
  },
  {
   "cell_type": "markdown",
   "metadata": {},
   "source": [
    "# GLUCOSE\n",
    "    If your blood glucose level is higher than 190 mg/dL (10.6 mmol/L) after the one-hour test, \n",
    "    you'll be diagnosed with gestational diabetes. \n",
    "    For the three-hour test: A normal fasting blood glucose level is lower than 95 mg/dL (5.3 mmol/L)."
   ]
  },
  {
   "cell_type": "markdown",
   "metadata": {},
   "source": [
    "# What is a normal 2 hour glucose tolerance test?\n",
    "    Normal Results\n",
    "    Normal blood values for a 75 gram OGTT used to check for type 2 diabetes in those who are not pregnant:\n",
    "    Fasting: \\60 to 100 mg/dL (3.3 to 5.5 mmol/L) 1 hour: less than 200 mg/dL (11.1 mmol/L) 2 hours: less than 140 mg/dL (7.8 mmol/L)"
   ]
  },
  {
   "cell_type": "markdown",
   "metadata": {},
   "source": [
    "\n",
    "# What is a healthy insulin level?\n",
    "    Reference Range\n",
    "    Insulin Level\tInsulin Level (SI Units*)\n",
    "    Fasting\t< 25 mIU/L\t< 174 pmol/L\n",
    "    30 minutes after glucose administration\t30-230 mIU/L\t208-1597 pmol/L\n",
    "    1 hour after glucose administration\t18-276 mIU/L\t125-1917 pmol/L\n",
    "    2 hour after glucose administration\t16-166 mIU/L\t111-1153 pmol/L"
   ]
  },
  {
   "cell_type": "markdown",
   "metadata": {},
   "source": [
    "# What is too low of a BMI?\n",
    "    You can check if you're underweight by using our BMI healthy weight calculator, which shows your body mass index (BMI). \n",
    "    If your BMI is below 18.5, this suggests that your weight may be too low. \n",
    "    If you're underweight, or you're concerned that someone you know is, tell a GP or practice nurse."
   ]
  },
  {
   "cell_type": "raw",
   "metadata": {},
   "source": [
    "PREGNANT      : Number of times pregnant\n",
    "GLUCOSE       : Plasma glucose concentration a 2 hours in an oral glucose tolerance test\n",
    "BloodPressure : Diastolic blood pressure (mm Hg)\n",
    "SkinThickness : Triceps skin fold thickness (mm)\n",
    "Insulin       : 2-Hour serum insulin (mu U/ml)\n",
    "BMI           : Body mass index (weight in kg/(height in m)^2)\n",
    "Diabetes pedigree : Diabetes pedigree function\n",
    "AGE           : Age (years)\n",
    "\n"
   ]
  },
  {
   "cell_type": "code",
   "execution_count": 13,
   "metadata": {},
   "outputs": [
    {
     "data": {
      "text/plain": [
       "<matplotlib.axes._subplots.AxesSubplot at 0x1f0aa31f188>"
      ]
     },
     "execution_count": 13,
     "metadata": {},
     "output_type": "execute_result"
    },
    {
     "data": {
      "image/png": "[encoded data removed]",
      "text/plain": [
       "<Figure size 432x288 with 1 Axes>"
      ]
     },
     "metadata": {
      "needs_background": "light"
     },
     "output_type": "display_data"
    }
   ],
   "source": [
    "sns.countplot(df.Outcome)"
   ]
  },
  {
   "cell_type": "code",
   "execution_count": 14,
   "metadata": {},
   "outputs": [
    {
     "data": {
      "text/plain": [
       "Outcome                     1.000000\n",
       "Glucose                     0.466581\n",
       "BMI                         0.292695\n",
       "Age                         0.238356\n",
       "Pregnancies                 0.221898\n",
       "DiabetesPedigreeFunction    0.173844\n",
       "Insulin                     0.130548\n",
       "SkinThickness               0.074752\n",
       "BloodPressure               0.065068\n",
       "Name: Outcome, dtype: float64"
      ]
     },
     "execution_count": 14,
     "metadata": {},
     "output_type": "execute_result"
    }
   ],
   "source": [
    "\n",
    "\n",
    "\n",
    "corr_matrix = df.corr()\n",
    "corr_matrix['Outcome'].sort_values(ascending=False)"
   ]
  },
  {
   "cell_type": "code",
   "execution_count": 15,
   "metadata": {},
   "outputs": [
    {
     "data": {
      "text/html": [
       "<div>\n",
       "<style scoped>\n",
       "    .dataframe tbody tr th:only-of-type {\n",
       "        vertical-align: middle;\n",
       "    }\n",
       "\n",
       "    .dataframe tbody tr th {\n",
       "        vertical-align: top;\n",
       "    }\n",
       "\n",
       "    .dataframe thead th {\n",
       "        text-align: right;\n",
       "    }\n",
       "</style>\n",
       "<table border=\"1\" class=\"dataframe\">\n",
       "  <thead>\n",
       "    <tr style=\"text-align: right;\">\n",
       "      <th></th>\n",
       "      <th>Pregnancies</th>\n",
       "      <th>Glucose</th>\n",
       "      <th>BloodPressure</th>\n",
       "      <th>SkinThickness</th>\n",
       "      <th>Insulin</th>\n",
       "      <th>BMI</th>\n",
       "      <th>DiabetesPedigreeFunction</th>\n",
       "      <th>Age</th>\n",
       "      <th>Outcome</th>\n",
       "    </tr>\n",
       "  </thead>\n",
       "  <tbody>\n",
       "    <tr>\n",
       "      <th>Pregnancies</th>\n",
       "      <td>1.000000</td>\n",
       "      <td>0.129459</td>\n",
       "      <td>0.141282</td>\n",
       "      <td>-0.081672</td>\n",
       "      <td>-0.073535</td>\n",
       "      <td>0.017683</td>\n",
       "      <td>-0.033523</td>\n",
       "      <td>0.544341</td>\n",
       "      <td>0.221898</td>\n",
       "    </tr>\n",
       "    <tr>\n",
       "      <th>Glucose</th>\n",
       "      <td>0.129459</td>\n",
       "      <td>1.000000</td>\n",
       "      <td>0.152590</td>\n",
       "      <td>0.057328</td>\n",
       "      <td>0.331357</td>\n",
       "      <td>0.221071</td>\n",
       "      <td>0.137337</td>\n",
       "      <td>0.263514</td>\n",
       "      <td>0.466581</td>\n",
       "    </tr>\n",
       "    <tr>\n",
       "      <th>BloodPressure</th>\n",
       "      <td>0.141282</td>\n",
       "      <td>0.152590</td>\n",
       "      <td>1.000000</td>\n",
       "      <td>0.207371</td>\n",
       "      <td>0.088933</td>\n",
       "      <td>0.281805</td>\n",
       "      <td>0.041265</td>\n",
       "      <td>0.239528</td>\n",
       "      <td>0.065068</td>\n",
       "    </tr>\n",
       "    <tr>\n",
       "      <th>SkinThickness</th>\n",
       "      <td>-0.081672</td>\n",
       "      <td>0.057328</td>\n",
       "      <td>0.207371</td>\n",
       "      <td>1.000000</td>\n",
       "      <td>0.436783</td>\n",
       "      <td>0.392573</td>\n",
       "      <td>0.183928</td>\n",
       "      <td>-0.113970</td>\n",
       "      <td>0.074752</td>\n",
       "    </tr>\n",
       "    <tr>\n",
       "      <th>Insulin</th>\n",
       "      <td>-0.073535</td>\n",
       "      <td>0.331357</td>\n",
       "      <td>0.088933</td>\n",
       "      <td>0.436783</td>\n",
       "      <td>1.000000</td>\n",
       "      <td>0.197859</td>\n",
       "      <td>0.185071</td>\n",
       "      <td>-0.042163</td>\n",
       "      <td>0.130548</td>\n",
       "    </tr>\n",
       "    <tr>\n",
       "      <th>BMI</th>\n",
       "      <td>0.017683</td>\n",
       "      <td>0.221071</td>\n",
       "      <td>0.281805</td>\n",
       "      <td>0.392573</td>\n",
       "      <td>0.197859</td>\n",
       "      <td>1.000000</td>\n",
       "      <td>0.140647</td>\n",
       "      <td>0.036242</td>\n",
       "      <td>0.292695</td>\n",
       "    </tr>\n",
       "    <tr>\n",
       "      <th>DiabetesPedigreeFunction</th>\n",
       "      <td>-0.033523</td>\n",
       "      <td>0.137337</td>\n",
       "      <td>0.041265</td>\n",
       "      <td>0.183928</td>\n",
       "      <td>0.185071</td>\n",
       "      <td>0.140647</td>\n",
       "      <td>1.000000</td>\n",
       "      <td>0.033561</td>\n",
       "      <td>0.173844</td>\n",
       "    </tr>\n",
       "    <tr>\n",
       "      <th>Age</th>\n",
       "      <td>0.544341</td>\n",
       "      <td>0.263514</td>\n",
       "      <td>0.239528</td>\n",
       "      <td>-0.113970</td>\n",
       "      <td>-0.042163</td>\n",
       "      <td>0.036242</td>\n",
       "      <td>0.033561</td>\n",
       "      <td>1.000000</td>\n",
       "      <td>0.238356</td>\n",
       "    </tr>\n",
       "    <tr>\n",
       "      <th>Outcome</th>\n",
       "      <td>0.221898</td>\n",
       "      <td>0.466581</td>\n",
       "      <td>0.065068</td>\n",
       "      <td>0.074752</td>\n",
       "      <td>0.130548</td>\n",
       "      <td>0.292695</td>\n",
       "      <td>0.173844</td>\n",
       "      <td>0.238356</td>\n",
       "      <td>1.000000</td>\n",
       "    </tr>\n",
       "  </tbody>\n",
       "</table>\n",
       "</div>"
      ],
      "text/plain": [
       "                          Pregnancies   Glucose  BloodPressure  SkinThickness  \\\n",
       "Pregnancies                  1.000000  0.129459       0.141282      -0.081672   \n",
       "Glucose                      0.129459  1.000000       0.152590       0.057328   \n",
       "BloodPressure                0.141282  0.152590       1.000000       0.207371   \n",
       "SkinThickness               -0.081672  0.057328       0.207371       1.000000   \n",
       "Insulin                     -0.073535  0.331357       0.088933       0.436783   \n",
       "BMI                          0.017683  0.221071       0.281805       0.392573   \n",
       "DiabetesPedigreeFunction    -0.033523  0.137337       0.041265       0.183928   \n",
       "Age                          0.544341  0.263514       0.239528      -0.113970   \n",
       "Outcome                      0.221898  0.466581       0.065068       0.074752   \n",
       "\n",
       "                           Insulin       BMI  DiabetesPedigreeFunction  \\\n",
       "Pregnancies              -0.073535  0.017683                 -0.033523   \n",
       "Glucose                   0.331357  0.221071                  0.137337   \n",
       "BloodPressure             0.088933  0.281805                  0.041265   \n",
       "SkinThickness             0.436783  0.392573                  0.183928   \n",
       "Insulin                   1.000000  0.197859                  0.185071   \n",
       "BMI                       0.197859  1.000000                  0.140647   \n",
       "DiabetesPedigreeFunction  0.185071  0.140647                  1.000000   \n",
       "Age                      -0.042163  0.036242                  0.033561   \n",
       "Outcome                   0.130548  0.292695                  0.173844   \n",
       "\n",
       "                               Age   Outcome  \n",
       "Pregnancies               0.544341  0.221898  \n",
       "Glucose                   0.263514  0.466581  \n",
       "BloodPressure             0.239528  0.065068  \n",
       "SkinThickness            -0.113970  0.074752  \n",
       "Insulin                  -0.042163  0.130548  \n",
       "BMI                       0.036242  0.292695  \n",
       "DiabetesPedigreeFunction  0.033561  0.173844  \n",
       "Age                       1.000000  0.238356  \n",
       "Outcome                   0.238356  1.000000  "
      ]
     },
     "execution_count": 15,
     "metadata": {},
     "output_type": "execute_result"
    }
   ],
   "source": [
    "corr_matrix1 = df.corr()\n",
    "corr_matrix1"
   ]
  },
  {
   "cell_type": "code",
   "execution_count": 16,
   "metadata": {},
   "outputs": [
    {
     "data": {
      "text/plain": [
       "117.0"
      ]
     },
     "execution_count": 16,
     "metadata": {},
     "output_type": "execute_result"
    }
   ],
   "source": [
    "df.Glucose.median()"
   ]
  },
  {
   "cell_type": "code",
   "execution_count": 17,
   "metadata": {},
   "outputs": [],
   "source": [
    "from sklearn.impute import SimpleImputer\n",
    "imp_median = SimpleImputer(missing_values=0, strategy='median')\n",
    "df['Glucose']=imp_median.fit_transform(df[['Glucose']])\n",
    "df['BloodPressure']=imp_median.fit_transform(df[['BloodPressure']])\n",
    "df['SkinThickness']=imp_median.fit_transform(df[['SkinThickness']])\n",
    "df['Insulin']=imp_median.fit_transform(df[['Insulin']])\n",
    "imp_mean = SimpleImputer(missing_values=0, strategy='mean')\n",
    "df['BMI']=imp_mean.fit_transform(df[['BMI']])\n",
    "\n",
    "\n",
    "\n"
   ]
  },
  {
   "cell_type": "code",
   "execution_count": 18,
   "metadata": {},
   "outputs": [
    {
     "data": {
      "text/html": [
       "<div>\n",
       "<style scoped>\n",
       "    .dataframe tbody tr th:only-of-type {\n",
       "        vertical-align: middle;\n",
       "    }\n",
       "\n",
       "    .dataframe tbody tr th {\n",
       "        vertical-align: top;\n",
       "    }\n",
       "\n",
       "    .dataframe thead th {\n",
       "        text-align: right;\n",
       "    }\n",
       "</style>\n",
       "<table border=\"1\" class=\"dataframe\">\n",
       "  <thead>\n",
       "    <tr style=\"text-align: right;\">\n",
       "      <th></th>\n",
       "      <th>Pregnancies</th>\n",
       "      <th>Glucose</th>\n",
       "      <th>BloodPressure</th>\n",
       "      <th>SkinThickness</th>\n",
       "      <th>Insulin</th>\n",
       "      <th>BMI</th>\n",
       "      <th>DiabetesPedigreeFunction</th>\n",
       "      <th>Age</th>\n",
       "      <th>Outcome</th>\n",
       "    </tr>\n",
       "  </thead>\n",
       "  <tbody>\n",
       "    <tr>\n",
       "      <th>0</th>\n",
       "      <td>6</td>\n",
       "      <td>148.0</td>\n",
       "      <td>72.0</td>\n",
       "      <td>35.0</td>\n",
       "      <td>125.0</td>\n",
       "      <td>33.6</td>\n",
       "      <td>0.627</td>\n",
       "      <td>50</td>\n",
       "      <td>1</td>\n",
       "    </tr>\n",
       "    <tr>\n",
       "      <th>1</th>\n",
       "      <td>1</td>\n",
       "      <td>85.0</td>\n",
       "      <td>66.0</td>\n",
       "      <td>29.0</td>\n",
       "      <td>125.0</td>\n",
       "      <td>26.6</td>\n",
       "      <td>0.351</td>\n",
       "      <td>31</td>\n",
       "      <td>0</td>\n",
       "    </tr>\n",
       "    <tr>\n",
       "      <th>2</th>\n",
       "      <td>8</td>\n",
       "      <td>183.0</td>\n",
       "      <td>64.0</td>\n",
       "      <td>29.0</td>\n",
       "      <td>125.0</td>\n",
       "      <td>23.3</td>\n",
       "      <td>0.672</td>\n",
       "      <td>32</td>\n",
       "      <td>1</td>\n",
       "    </tr>\n",
       "    <tr>\n",
       "      <th>3</th>\n",
       "      <td>1</td>\n",
       "      <td>89.0</td>\n",
       "      <td>66.0</td>\n",
       "      <td>23.0</td>\n",
       "      <td>94.0</td>\n",
       "      <td>28.1</td>\n",
       "      <td>0.167</td>\n",
       "      <td>21</td>\n",
       "      <td>0</td>\n",
       "    </tr>\n",
       "    <tr>\n",
       "      <th>4</th>\n",
       "      <td>0</td>\n",
       "      <td>137.0</td>\n",
       "      <td>40.0</td>\n",
       "      <td>35.0</td>\n",
       "      <td>168.0</td>\n",
       "      <td>43.1</td>\n",
       "      <td>2.288</td>\n",
       "      <td>33</td>\n",
       "      <td>1</td>\n",
       "    </tr>\n",
       "    <tr>\n",
       "      <th>...</th>\n",
       "      <td>...</td>\n",
       "      <td>...</td>\n",
       "      <td>...</td>\n",
       "      <td>...</td>\n",
       "      <td>...</td>\n",
       "      <td>...</td>\n",
       "      <td>...</td>\n",
       "      <td>...</td>\n",
       "      <td>...</td>\n",
       "    </tr>\n",
       "    <tr>\n",
       "      <th>763</th>\n",
       "      <td>10</td>\n",
       "      <td>101.0</td>\n",
       "      <td>76.0</td>\n",
       "      <td>48.0</td>\n",
       "      <td>180.0</td>\n",
       "      <td>32.9</td>\n",
       "      <td>0.171</td>\n",
       "      <td>63</td>\n",
       "      <td>0</td>\n",
       "    </tr>\n",
       "    <tr>\n",
       "      <th>764</th>\n",
       "      <td>2</td>\n",
       "      <td>122.0</td>\n",
       "      <td>70.0</td>\n",
       "      <td>27.0</td>\n",
       "      <td>125.0</td>\n",
       "      <td>36.8</td>\n",
       "      <td>0.340</td>\n",
       "      <td>27</td>\n",
       "      <td>0</td>\n",
       "    </tr>\n",
       "    <tr>\n",
       "      <th>765</th>\n",
       "      <td>5</td>\n",
       "      <td>121.0</td>\n",
       "      <td>72.0</td>\n",
       "      <td>23.0</td>\n",
       "      <td>112.0</td>\n",
       "      <td>26.2</td>\n",
       "      <td>0.245</td>\n",
       "      <td>30</td>\n",
       "      <td>0</td>\n",
       "    </tr>\n",
       "    <tr>\n",
       "      <th>766</th>\n",
       "      <td>1</td>\n",
       "      <td>126.0</td>\n",
       "      <td>60.0</td>\n",
       "      <td>29.0</td>\n",
       "      <td>125.0</td>\n",
       "      <td>30.1</td>\n",
       "      <td>0.349</td>\n",
       "      <td>47</td>\n",
       "      <td>1</td>\n",
       "    </tr>\n",
       "    <tr>\n",
       "      <th>767</th>\n",
       "      <td>1</td>\n",
       "      <td>93.0</td>\n",
       "      <td>70.0</td>\n",
       "      <td>31.0</td>\n",
       "      <td>125.0</td>\n",
       "      <td>30.4</td>\n",
       "      <td>0.315</td>\n",
       "      <td>23</td>\n",
       "      <td>0</td>\n",
       "    </tr>\n",
       "  </tbody>\n",
       "</table>\n",
       "<p>768 rows × 9 columns</p>\n",
       "</div>"
      ],
      "text/plain": [
       "     Pregnancies  Glucose  BloodPressure  SkinThickness  Insulin   BMI  \\\n",
       "0              6    148.0           72.0           35.0    125.0  33.6   \n",
       "1              1     85.0           66.0           29.0    125.0  26.6   \n",
       "2              8    183.0           64.0           29.0    125.0  23.3   \n",
       "3              1     89.0           66.0           23.0     94.0  28.1   \n",
       "4              0    137.0           40.0           35.0    168.0  43.1   \n",
       "..           ...      ...            ...            ...      ...   ...   \n",
       "763           10    101.0           76.0           48.0    180.0  32.9   \n",
       "764            2    122.0           70.0           27.0    125.0  36.8   \n",
       "765            5    121.0           72.0           23.0    112.0  26.2   \n",
       "766            1    126.0           60.0           29.0    125.0  30.1   \n",
       "767            1     93.0           70.0           31.0    125.0  30.4   \n",
       "\n",
       "     DiabetesPedigreeFunction  Age  Outcome  \n",
       "0                       0.627   50        1  \n",
       "1                       0.351   31        0  \n",
       "2                       0.672   32        1  \n",
       "3                       0.167   21        0  \n",
       "4                       2.288   33        1  \n",
       "..                        ...  ...      ...  \n",
       "763                     0.171   63        0  \n",
       "764                     0.340   27        0  \n",
       "765                     0.245   30        0  \n",
       "766                     0.349   47        1  \n",
       "767                     0.315   23        0  \n",
       "\n",
       "[768 rows x 9 columns]"
      ]
     },
     "execution_count": 18,
     "metadata": {},
     "output_type": "execute_result"
    }
   ],
   "source": [
    "df"
   ]
  },
  {
   "cell_type": "code",
   "execution_count": 19,
   "metadata": {},
   "outputs": [
    {
     "data": {
      "text/plain": [
       "<matplotlib.collections.PathCollection at 0x1f0aa728d08>"
      ]
     },
     "execution_count": 19,
     "metadata": {},
     "output_type": "execute_result"
    },
    {
     "data": {
      "image/png": "[encoded data removed]",
      "text/plain": [
       "<Figure size 432x288 with 1 Axes>"
      ]
     },
     "metadata": {
      "needs_background": "light"
     },
     "output_type": "display_data"
    }
   ],
   "source": [
    "plt.scatter(range(1,769),df.Glucose)\n"
   ]
  },
  {
   "cell_type": "code",
   "execution_count": 20,
   "metadata": {},
   "outputs": [
    {
     "data": {
      "text/plain": [
       "<matplotlib.collections.PathCollection at 0x1f0aa728908>"
      ]
     },
     "execution_count": 20,
     "metadata": {},
     "output_type": "execute_result"
    },
    {
     "data": {
      "image/png": "[encoded data removed]",
      "text/plain": [
       "<Figure size 432x288 with 1 Axes>"
      ]
     },
     "metadata": {
      "needs_background": "light"
     },
     "output_type": "display_data"
    }
   ],
   "source": [
    "plt.scatter(range(1,769),df.BMI)"
   ]
  },
  {
   "cell_type": "code",
   "execution_count": 21,
   "metadata": {},
   "outputs": [
    {
     "data": {
      "text/plain": [
       "<matplotlib.collections.PathCollection at 0x1f0aa7bd0c8>"
      ]
     },
     "execution_count": 21,
     "metadata": {},
     "output_type": "execute_result"
    },
    {
     "data": {
      "image/png": "[encoded data removed]",
      "text/plain": [
       "<Figure size 432x288 with 1 Axes>"
      ]
     },
     "metadata": {
      "needs_background": "light"
     },
     "output_type": "display_data"
    }
   ],
   "source": [
    "plt.scatter(range(1,769),df.Age)"
   ]
  },
  {
   "cell_type": "code",
   "execution_count": 5,
   "metadata": {},
   "outputs": [
    {
     "data": {
      "text/plain": [
       "<matplotlib.collections.PathCollection at 0x23268c5a948>"
      ]
     },
     "execution_count": 5,
     "metadata": {},
     "output_type": "execute_result"
    },
    {
     "data": {
      "image/png": "[encoded data removed]",
      "text/plain": [
       "<Figure size 432x288 with 1 Axes>"
      ]
     },
     "metadata": {
      "needs_background": "light"
     },
     "output_type": "display_data"
    }
   ],
   "source": [
    "plt.scatter(range(1,769),df.Insulin)"
   ]
  },
  {
   "cell_type": "code",
   "execution_count": 6,
   "metadata": {},
   "outputs": [
    {
     "data": {
      "text/plain": [
       "<matplotlib.collections.PathCollection at 0x23268ce1908>"
      ]
     },
     "execution_count": 6,
     "metadata": {},
     "output_type": "execute_result"
    },
    {
     "data": {
      "image/png": "[encoded data removed]",
      "text/plain": [
       "<Figure size 432x288 with 1 Axes>"
      ]
     },
     "metadata": {
      "needs_background": "light"
     },
     "output_type": "display_data"
    }
   ],
   "source": [
    "plt.scatter(range(1,769),df.DiabetesPedigreeFunction)\n"
   ]
  },
  {
   "cell_type": "code",
   "execution_count": 7,
   "metadata": {},
   "outputs": [
    {
     "data": {
      "text/plain": [
       "<matplotlib.collections.PathCollection at 0x23268d708c8>"
      ]
     },
     "execution_count": 7,
     "metadata": {},
     "output_type": "execute_result"
    },
    {
     "data": {
      "image/png": "[encoded data removed]",
      "text/plain": [
       "<Figure size 432x288 with 1 Axes>"
      ]
     },
     "metadata": {
      "needs_background": "light"
     },
     "output_type": "display_data"
    }
   ],
   "source": [
    "plt.scatter(range(1,769),df.SkinThickness)\n"
   ]
  },
  {
   "cell_type": "code",
   "execution_count": 22,
   "metadata": {},
   "outputs": [],
   "source": [
    "X= df.iloc[:,:-1].values\n",
    "\n",
    "Y = df.iloc[:,-1].values"
   ]
  },
  {
   "cell_type": "code",
   "execution_count": 23,
   "metadata": {},
   "outputs": [
    {
     "data": {
      "text/plain": [
       "((768, 8), (768,))"
      ]
     },
     "execution_count": 23,
     "metadata": {},
     "output_type": "execute_result"
    }
   ],
   "source": [
    "X.shape,Y.shape"
   ]
  },
  {
   "cell_type": "code",
   "execution_count": 24,
   "metadata": {},
   "outputs": [
    {
     "name": "stdout",
     "output_type": "stream",
     "text": [
      "X: [[  6.    148.     72.    ...  33.6     0.627  50.   ]\n",
      " [  1.     85.     66.    ...  26.6     0.351  31.   ]\n",
      " [  8.    183.     64.    ...  23.3     0.672  32.   ]\n",
      " ...\n",
      " [  5.    121.     72.    ...  26.2     0.245  30.   ]\n",
      " [  1.    126.     60.    ...  30.1     0.349  47.   ]\n",
      " [  1.     93.     70.    ...  30.4     0.315  23.   ]]\n",
      "Y: [1 0 1 0 1 0 1 0 1 1 0 1 0 1 1 1 1 1 0 1 0 0 1 1 1 1 1 0 0 0 0 1 0 0 0 0 0\n",
      " 1 1 1 0 0 0 1 0 1 0 0 1 0 0 0 0 1 0 0 1 0 0 0 0 1 0 0 1 0 1 0 0 0 1 0 1 0\n",
      " 0 0 0 0 1 0 0 0 0 0 1 0 0 0 1 0 0 0 0 1 0 0 0 0 0 1 1 0 0 0 0 0 0 0 0 1 1\n",
      " 1 0 0 1 1 1 0 0 0 1 0 0 0 1 1 0 0 1 1 1 1 1 0 0 0 0 0 0 0 0 0 0 1 0 0 0 0\n",
      " 0 0 0 0 1 0 1 1 0 0 0 1 0 0 0 0 1 1 0 0 0 0 1 1 0 0 0 1 0 1 0 1 0 0 0 0 0\n",
      " 1 1 1 1 1 0 0 1 1 0 1 0 1 1 1 0 0 0 0 0 0 1 1 0 1 0 0 0 1 1 1 1 0 1 1 1 1\n",
      " 0 0 0 0 0 1 0 0 1 1 0 0 0 1 1 1 1 0 0 0 1 1 0 1 0 0 0 0 0 0 0 0 1 1 0 0 0\n",
      " 1 0 1 0 0 1 0 1 0 0 1 1 0 0 0 0 0 1 0 0 0 1 0 0 1 1 0 0 1 0 0 0 1 1 1 0 0\n",
      " 1 0 1 0 1 1 0 1 0 0 1 0 1 1 0 0 1 0 1 0 0 1 0 1 0 1 1 1 0 0 1 0 1 0 0 0 1\n",
      " 0 0 0 0 1 1 1 0 0 0 0 0 0 0 0 0 1 0 0 0 0 0 1 1 1 0 1 1 0 0 1 0 0 1 0 0 1\n",
      " 1 0 0 0 0 1 0 0 1 0 0 0 0 0 0 0 1 1 1 0 0 1 0 0 1 0 0 1 0 1 1 0 1 0 1 0 1\n",
      " 0 1 1 0 0 0 0 1 1 0 1 0 1 0 0 0 0 1 1 0 1 0 1 0 0 0 0 0 1 0 0 0 0 1 0 0 1\n",
      " 1 1 0 0 1 0 0 1 0 0 0 1 0 0 1 0 0 0 0 0 0 0 0 0 1 0 0 0 0 0 0 0 1 0 0 0 1\n",
      " 0 0 0 1 1 0 0 0 0 0 0 0 1 0 0 0 0 1 0 0 0 1 0 0 0 1 0 0 0 1 0 0 0 0 1 1 0\n",
      " 0 0 0 0 0 1 0 0 0 0 0 0 0 0 0 0 0 1 0 0 0 1 1 1 1 0 0 1 1 0 0 0 0 0 0 0 0\n",
      " 0 0 0 0 0 1 1 0 0 0 0 0 0 0 1 0 0 0 0 0 0 0 1 0 1 1 0 0 0 1 0 1 0 1 0 1 0\n",
      " 1 0 0 1 0 0 1 0 0 0 0 1 1 0 1 0 0 0 0 1 1 0 1 0 0 0 1 1 0 0 0 0 0 0 0 0 0\n",
      " 0 1 0 0 0 0 1 0 0 1 0 0 0 1 0 0 0 1 1 1 0 0 0 0 0 0 1 0 0 0 1 0 1 1 1 1 0\n",
      " 1 1 0 0 0 0 0 0 0 1 1 0 1 0 0 1 0 1 0 0 0 0 0 1 0 1 0 1 0 1 1 0 0 0 0 1 1\n",
      " 0 0 0 1 0 1 1 0 0 1 0 0 1 1 0 0 1 0 0 1 0 0 0 0 0 0 0 1 1 1 0 0 0 0 0 0 1\n",
      " 1 0 0 1 0 0 1 0 1 1 1 0 0 1 1 1 0 1 0 1 0 1 0 0 0 0 1 0]\n"
     ]
    }
   ],
   "source": [
    "print(\"X:\",X)\n",
    "print(\"Y:\",Y)"
   ]
  },
  {
   "cell_type": "code",
   "execution_count": 25,
   "metadata": {},
   "outputs": [
    {
     "data": {
      "text/plain": [
       "array([1, 0, 1, 0, 1, 0, 1, 0, 1, 1, 0, 1, 0, 1, 1, 1, 1, 1, 0, 1, 0, 0,\n",
       "       1, 1, 1, 1, 1, 0, 0, 0, 0, 1, 0, 0, 0, 0, 0, 1, 1, 1, 0, 0, 0, 1,\n",
       "       0, 1, 0, 0, 1, 0, 0, 0, 0, 1, 0, 0, 1, 0, 0, 0, 0, 1, 0, 0, 1, 0,\n",
       "       1, 0, 0, 0, 1, 0, 1, 0, 0, 0, 0, 0, 1, 0, 0, 0, 0, 0, 1, 0, 0, 0,\n",
       "       1, 0, 0, 0, 0, 1, 0, 0, 0, 0, 0, 1, 1, 0, 0, 0, 0, 0, 0, 0, 0, 1,\n",
       "       1, 1, 0, 0, 1, 1, 1, 0, 0, 0, 1, 0, 0, 0, 1, 1, 0, 0, 1, 1, 1, 1,\n",
       "       1, 0, 0, 0, 0, 0, 0, 0, 0, 0, 0, 1, 0, 0, 0, 0, 0, 0, 0, 0, 1, 0,\n",
       "       1, 1, 0, 0, 0, 1, 0, 0, 0, 0, 1, 1, 0, 0, 0, 0, 1, 1, 0, 0, 0, 1,\n",
       "       0, 1, 0, 1, 0, 0, 0, 0, 0, 1, 1, 1, 1, 1, 0, 0, 1, 1, 0, 1, 0, 1,\n",
       "       1, 1, 0, 0, 0, 0, 0, 0, 1, 1, 0, 1, 0, 0, 0, 1, 1, 1, 1, 0, 1, 1,\n",
       "       1, 1, 0, 0, 0, 0, 0, 1, 0, 0, 1, 1, 0, 0, 0, 1, 1, 1, 1, 0, 0, 0,\n",
       "       1, 1, 0, 1, 0, 0, 0, 0, 0, 0, 0, 0, 1, 1, 0, 0, 0, 1, 0, 1, 0, 0,\n",
       "       1, 0, 1, 0, 0, 1, 1, 0, 0, 0, 0, 0, 1, 0, 0, 0, 1, 0, 0, 1, 1, 0,\n",
       "       0, 1, 0, 0, 0, 1, 1, 1, 0, 0, 1, 0, 1, 0, 1, 1, 0, 1, 0, 0, 1, 0,\n",
       "       1, 1, 0, 0, 1, 0, 1, 0, 0, 1, 0, 1, 0, 1, 1, 1, 0, 0, 1, 0, 1, 0,\n",
       "       0, 0, 1, 0, 0, 0, 0, 1, 1, 1, 0, 0, 0, 0, 0, 0, 0, 0, 0, 1, 0, 0,\n",
       "       0, 0, 0, 1, 1, 1, 0, 1, 1, 0, 0, 1, 0, 0, 1, 0, 0, 1, 1, 0, 0, 0,\n",
       "       0, 1, 0, 0, 1, 0, 0, 0, 0, 0, 0, 0, 1, 1, 1, 0, 0, 1, 0, 0, 1, 0,\n",
       "       0, 1, 0, 1, 1, 0, 1, 0, 1, 0, 1, 0, 1, 1, 0, 0, 0, 0, 1, 1, 0, 1,\n",
       "       0, 1, 0, 0, 0, 0, 1, 1, 0, 1, 0, 1, 0, 0, 0, 0, 0, 1, 0, 0, 0, 0,\n",
       "       1, 0, 0, 1, 1, 1, 0, 0, 1, 0, 0, 1, 0, 0, 0, 1, 0, 0, 1, 0, 0, 0,\n",
       "       0, 0, 0, 0, 0, 0, 1, 0, 0, 0, 0, 0, 0, 0, 1, 0, 0, 0, 1, 0, 0, 0,\n",
       "       1, 1, 0, 0, 0, 0, 0, 0, 0, 1, 0, 0, 0, 0, 1, 0, 0, 0, 1, 0, 0, 0,\n",
       "       1, 0, 0, 0, 1, 0, 0, 0, 0, 1, 1, 0, 0, 0, 0, 0, 0, 1, 0, 0, 0, 0,\n",
       "       0, 0, 0, 0, 0, 0, 0, 1, 0, 0, 0, 1, 1, 1, 1, 0, 0, 1, 1, 0, 0, 0,\n",
       "       0, 0, 0, 0, 0, 0, 0, 0, 0, 0, 1, 1, 0, 0, 0, 0, 0, 0, 0, 1, 0, 0,\n",
       "       0, 0, 0, 0, 0, 1, 0, 1, 1, 0, 0, 0, 1, 0, 1, 0, 1, 0, 1, 0, 1, 0,\n",
       "       0, 1, 0, 0, 1, 0, 0, 0, 0, 1, 1, 0, 1, 0, 0, 0, 0, 1, 1, 0, 1, 0,\n",
       "       0, 0, 1, 1, 0, 0, 0, 0, 0, 0, 0, 0, 0, 0, 1, 0, 0, 0, 0, 1, 0, 0,\n",
       "       1, 0, 0, 0, 1, 0, 0, 0, 1, 1, 1, 0, 0, 0, 0, 0, 0, 1, 0, 0, 0, 1,\n",
       "       0, 1, 1, 1, 1, 0, 1, 1, 0, 0, 0, 0, 0, 0, 0, 1, 1, 0, 1, 0, 0, 1,\n",
       "       0, 1, 0, 0, 0, 0, 0, 1, 0, 1, 0, 1, 0, 1, 1, 0, 0, 0, 0, 1, 1, 0,\n",
       "       0, 0, 1, 0, 1, 1, 0, 0, 1, 0, 0, 1, 1, 0, 0, 1, 0, 0, 1, 0, 0, 0,\n",
       "       0, 0, 0, 0, 1, 1, 1, 0, 0, 0, 0, 0, 0, 1, 1, 0, 0, 1, 0, 0, 1, 0,\n",
       "       1, 1, 1, 0, 0, 1, 1, 1, 0, 1, 0, 1, 0, 1, 0, 0, 0, 0, 1, 0],\n",
       "      dtype=int64)"
      ]
     },
     "execution_count": 25,
     "metadata": {},
     "output_type": "execute_result"
    }
   ],
   "source": [
    "\"\"\"X1 = df.drop(['Outcome'], axis=1)\n",
    "Y1= df.Outcome.values\n",
    "X1\n",
    "Y1\"\"\"\n",
    "Y"
   ]
  },
  {
   "cell_type": "code",
   "execution_count": 26,
   "metadata": {},
   "outputs": [],
   "source": [
    "from  sklearn.preprocessing import StandardScaler \n",
    "sc = StandardScaler()\n",
    "Xscaled = sc.fit_transform(X)\n"
   ]
  },
  {
   "cell_type": "code",
   "execution_count": 27,
   "metadata": {},
   "outputs": [],
   "source": [
    "from sklearn.model_selection import train_test_split\n",
    "X_train, X_test, Y_train, Y_test = train_test_split(Xscaled, Y, test_size = 0.1, random_state = 42)"
   ]
  },
  {
   "cell_type": "code",
   "execution_count": 28,
   "metadata": {},
   "outputs": [
    {
     "data": {
      "text/plain": [
       "((691, 8), (77, 8), (691,), (77,))"
      ]
     },
     "execution_count": 28,
     "metadata": {},
     "output_type": "execute_result"
    }
   ],
   "source": [
    "X_train.shape,X_test.shape,Y_train.shape,Y_test.shape"
   ]
  },
  {
   "cell_type": "code",
   "execution_count": null,
   "metadata": {},
   "outputs": [],
   "source": []
  },
  {
   "cell_type": "code",
   "execution_count": 29,
   "metadata": {},
   "outputs": [
    {
     "data": {
      "text/plain": [
       "array([[-0.25095213, -0.84344335, -1.35553305, ..., -1.12906883,\n",
       "         1.4258696 ,  0.49003012],\n",
       "       [-1.14185152, -0.15307315, -0.5283186 , ..., -0.24123743,\n",
       "         0.06379607, -0.95646168],\n",
       "       [ 0.04601433, -0.38319655,  1.62243896, ...,  0.74847627,\n",
       "        -0.84827977, -0.27575966],\n",
       "       ...,\n",
       "       [ 1.82781311, -0.67906949,  1.12611029, ...,  1.91284532,\n",
       "         2.00573238,  0.40494237],\n",
       "       [-1.14185152,  0.63592135, -0.03198993, ...,  1.4470977 ,\n",
       "        -0.8059981 , -0.36084741],\n",
       "       [-1.14185152,  0.10992502,  1.95332473, ..., -1.44927032,\n",
       "        -0.63385134, -1.04154944]])"
      ]
     },
     "execution_count": 29,
     "metadata": {},
     "output_type": "execute_result"
    }
   ],
   "source": [
    "X_train"
   ]
  },
  {
   "cell_type": "code",
   "execution_count": 30,
   "metadata": {},
   "outputs": [
    {
     "data": {
      "text/plain": [
       "array([[ 6.39947260e-01, -7.77693803e-01, -1.19009016e+00,\n",
       "         4.42994592e-01,  5.71411469e-01,  2.24510195e-01,\n",
       "        -1.26471402e-01,  8.30381132e-01],\n",
       "       [-5.47918591e-01, -3.17447008e-01,  2.16174400e-01,\n",
       "         3.29170622e-01, -1.81541243e-01,  4.71938618e-01,\n",
       "        -9.78144869e-01, -1.04154944e+00],\n",
       "       [-5.47918591e-01, -4.48946092e-01, -6.93761490e-01,\n",
       "        -1.23012884e-02, -1.81541243e-01, -2.41237425e-01,\n",
       "        -9.47943682e-01, -1.04154944e+00],\n",
       "       [ 1.23388019e+00, -4.81820863e-01,  6.29781623e-01,\n",
       "        -1.23012884e-02, -1.81541243e-01, -1.14362344e+00,\n",
       "         1.16009915e+00,  6.45913543e-02],\n",
       "       [ 9.36913723e-01,  4.71547498e-01,  1.45699607e+00,\n",
       "        -1.23012884e-02, -1.81541243e-01, -3.72228944e-01,\n",
       "        -7.90897511e-01,  1.42599540e+00],\n",
       "       [ 6.39947260e-01, -6.13319948e-01, -3.19899336e-02,\n",
       "         3.29170622e-01,  5.71411469e-01,  7.63030881e-01,\n",
       "        -4.46603982e-01,  1.85143417e+00],\n",
       "       [-8.44885053e-01, -1.66531262e+00, -2.01730460e+00,\n",
       "        -1.26436496e+00, -7.49151749e-01, -1.75491719e+00,\n",
       "        -4.49624101e-01, -9.56461683e-01],\n",
       "       [-1.14185152e+00, -1.53073153e-01, -3.19899336e-02,\n",
       "        -1.23012884e-02, -1.81541243e-01,  1.95400969e-01,\n",
       "         1.38962817e+00,  9.15468886e-01],\n",
       "       [ 4.60143347e-02,  1.06329338e+00, -3.19899336e-02,\n",
       "        -1.23012884e-02, -1.69957355e-01, -1.68464360e-01,\n",
       "        -4.04322320e-01,  3.19854614e-01],\n",
       "       [ 3.42980797e-01,  8.33169979e-01,  4.64338734e-01,\n",
       "        -1.23012884e-02, -1.81541243e-01,  1.80846356e-01,\n",
       "        -7.66736562e-01,  2.70231170e+00],\n",
       "       [ 1.82781311e+00, -3.50321779e-01, -1.97432823e-01,\n",
       "        -2.39949228e-01, -1.81541243e-01, -7.21539659e-01,\n",
       "        -9.99285700e-01,  5.75117873e-01],\n",
       "       [ 9.36913723e-01,  1.88516265e+00,  1.87060329e+00,\n",
       "         2.15346652e-01, -1.81541243e-01,  2.53619421e-01,\n",
       "        -9.29822970e-01,  2.27687294e+00],\n",
       "       [ 4.60143347e-02,  8.66044750e-01, -1.02464727e+00,\n",
       "        -2.39949228e-01,  2.05414912e+00, -2.26682812e-01,\n",
       "        -9.72104632e-01, -3.60847411e-01],\n",
       "       [ 3.42980797e-01, -8.43443345e-01,  1.33452955e-01,\n",
       "        -1.26436496e+00, -8.53406740e-01,  1.66291742e-01,\n",
       "         1.58593589e+00,  8.30381132e-01],\n",
       "       [-5.47918591e-01, -1.10644151e+00, -1.19009016e+00,\n",
       "        -3.53773198e-01, -1.44418502e+00, -5.90548141e-01,\n",
       "         8.88288474e-01, -9.56461683e-01],\n",
       "       [-8.44885053e-01,  1.09925016e-01, -1.85186171e+00,\n",
       "         1.23976238e+00,  3.04982048e-01,  1.22627903e-01,\n",
       "         1.48023173e+00, -4.45935165e-01],\n",
       "       [-2.50952128e-01, -1.23794060e+00, -3.19899336e-02,\n",
       "         3.29170622e-01, -1.81541243e-01,  6.90257815e-01,\n",
       "        -6.18750746e-01, -4.45935165e-01],\n",
       "       [ 3.42980797e-01, -1.17219106e+00, -3.62875712e-01,\n",
       "        -1.26125258e-01, -8.07071188e-01, -3.28565104e-01,\n",
       "        -3.25799235e-01, -7.86286177e-01],\n",
       "       [ 4.60143347e-02,  2.01666174e+00, -3.19899336e-02,\n",
       "        -1.23012884e-02, -1.81541243e-01, -5.90548141e-01,\n",
       "        -7.84857274e-01,  2.34766861e-01],\n",
       "       [-1.14185152e+00,  6.03046582e-01, -6.11040045e-01,\n",
       "        -3.53773198e-01, -1.23621803e-01,  1.47620692e+00,\n",
       "        -1.23451283e-01, -7.86286177e-01],\n",
       "       [ 3.42980797e-01, -5.80445177e-01,  1.33452955e-01,\n",
       "        -1.23012884e-02, -1.81541243e-01, -5.32329688e-01,\n",
       "        -9.63044276e-01,  1.25581990e+00],\n",
       "       [-8.44885053e-01, -1.10644151e+00,  4.64338734e-01,\n",
       "        -1.23012884e-02, -7.49151749e-01, -6.65820677e-02,\n",
       "        -3.22779116e-01, -3.60847411e-01],\n",
       "       [ 2.71871250e+00, -5.14695635e-01, -3.19899336e-02,\n",
       "         2.83329796e+00, -1.81541243e-01,  6.02930136e-01,\n",
       "        -8.87541309e-01,  1.00055664e+00],\n",
       "       [-8.44885053e-01, -8.43443345e-01, -6.93761490e-01,\n",
       "        -2.39949228e-01, -6.21728982e-01,  1.08073290e-01,\n",
       "        -5.52308136e-01, -1.04154944e+00],\n",
       "       [ 1.82781311e+00,  2.41424100e-01,  2.98895844e-01,\n",
       "        -1.26125258e-01, -2.16292906e-01,  5.01047845e-01,\n",
       "        -5.79489204e-01,  4.90030120e-01],\n",
       "       [ 9.36913723e-01,  2.04953651e+00,  9.60667401e-01,\n",
       "         4.42994592e-01, -1.81541243e-01,  4.42829392e-01,\n",
       "        -3.52980303e-01,  6.60205626e-01],\n",
       "       [ 6.39947260e-01, -4.16071321e-01, -1.02464727e+00,\n",
       "        -2.39949228e-01, -1.81541243e-01, -1.08540499e+00,\n",
       "        -8.02977986e-01, -5.31022918e-01],\n",
       "       [-8.44885053e-01, -7.11944261e-01,  1.33452955e-01,\n",
       "        -1.94730878e+00, -1.09666839e+00, -1.88590871e+00,\n",
       "        -9.75124750e-01, -4.45935165e-01],\n",
       "       [-5.47918591e-01, -6.46194719e-01,  1.12611029e+00,\n",
       "         7.84466502e-01, -2.39460682e-01,  1.89829071e+00,\n",
       "        -1.04156736e+00, -8.71373930e-01],\n",
       "       [-2.50952128e-01, -1.07356674e+00,  1.33452955e-01,\n",
       "        -1.49201290e+00, -6.44896758e-01, -2.99455878e-01,\n",
       "         2.38962958e-01,  4.04942367e-01],\n",
       "       [-1.14185152e+00,  1.32629155e+00,  2.98895844e-01,\n",
       "         3.06094590e+00, -4.71138440e-01,  3.01899592e+00,\n",
       "         8.67147643e-01, -7.01198424e-01],\n",
       "       [ 4.60143347e-02,  8.00295208e-01,  4.64338734e-01,\n",
       "        -1.23012884e-02, -1.81541243e-01,  8.79467786e-01,\n",
       "         1.45339279e-01,  2.87248721e+00],\n",
       "       [ 4.60143347e-02,  2.04953651e+00,  4.64338734e-01,\n",
       "         1.12593841e+00,  1.57920971e+00,  6.61148589e-01,\n",
       "        -6.27811103e-01, -1.90671905e-01],\n",
       "       [-1.14185152e+00,  1.49066540e+00, -3.19899336e-02,\n",
       "        -1.23012884e-02, -1.81541243e-01, -2.29182283e-02,\n",
       "         1.10875714e+00, -2.75759658e-01],\n",
       "       [-5.47918591e-01, -4.16071321e-01,  1.62243896e+00,\n",
       "        -1.23012884e-02, -1.81541243e-01,  1.49076154e+00,\n",
       "         1.12687785e+00,  1.76634642e+00],\n",
       "       [ 1.53084665e+00,  9.97543835e-01,  4.64338734e-01,\n",
       "         5.56818562e-01,  3.51317600e-01,  2.53619421e-01,\n",
       "         1.27184355e+00, -2.04963989e-02],\n",
       "       [-5.47918591e-01,  2.47690853e+00, -1.97432823e-01,\n",
       "         7.95537661e+00, -1.81541243e-01,  3.26392487e-01,\n",
       "         3.11445806e-01,  2.44704844e+00],\n",
       "       [-1.14185152e+00, -4.16071321e-01,  1.29155318e+00,\n",
       "         1.01522682e-01, -1.81541243e-01,  6.19099793e-03,\n",
       "         1.15707904e+00,  4.04942367e-01],\n",
       "       [ 2.42174604e+00, -2.15740685e-02,  4.64338734e-01,\n",
       "        -1.37818893e+00, -1.81541243e-01, -8.67085790e-01,\n",
       "        -6.42911696e-01,  2.44704844e+00],\n",
       "       [-1.14185152e+00,  3.07173642e-01, -3.19899336e-02,\n",
       "        -1.23012884e-02, -1.81541243e-01,  1.56353460e+00,\n",
       "        -6.09690390e-01, -6.16110671e-01],\n",
       "       [ 4.60143347e-02, -1.20506583e+00, -1.19009016e+00,\n",
       "        -8.09069079e-01, -1.06191672e+00, -6.77875819e-01,\n",
       "        -5.00966118e-01, -4.45935165e-01],\n",
       "       [-8.44885053e-01,  4.38672726e-01, -1.52097594e+00,\n",
       "        -1.23012884e-02, -1.81541243e-01, -8.37976564e-01,\n",
       "         6.49699098e-01,  2.44704844e+00],\n",
       "       [ 3.42980797e-01, -4.16071321e-01,  2.16174400e-01,\n",
       "        -3.53773198e-01, -1.81541243e-01,  5.15602458e-01,\n",
       "         2.23862365e-01,  2.27687294e+00],\n",
       "       [ 2.71871250e+00, -5.80445177e-01, -3.19899336e-02,\n",
       "        -1.23012884e-02, -1.81541243e-01, -1.83018973e-01,\n",
       "        -2.07672484e-02,  4.04942367e-01],\n",
       "       [ 6.39947260e-01, -9.74942430e-01,  1.62243896e+00,\n",
       "        -1.23012884e-02, -1.81541243e-01, -1.82769026e+00,\n",
       "        -8.57340122e-01, -4.45935165e-01],\n",
       "       [-2.50952128e-01,  1.19479246e+00,  2.98895844e-01,\n",
       "         7.84466502e-01,  1.20852530e+00, -1.24800520e-01,\n",
       "         1.14499856e+00, -4.45935165e-01],\n",
       "       [ 4.60143347e-02, -3.50321779e-01, -3.19899336e-02,\n",
       "         2.03653017e+00,  7.68337563e-01,  6.75703202e-01,\n",
       "         2.77284253e+00,  1.93652192e+00],\n",
       "       [ 3.42980797e-01, -8.76318116e-01, -3.19899336e-02,\n",
       "         4.42994592e-01, -1.81541243e-01,  7.63030881e-01,\n",
       "        -3.07678523e-01, -5.31022918e-01],\n",
       "       [ 1.23388019e+00, -3.17447008e-01, -3.19899336e-02,\n",
       "        -1.23012884e-02, -1.81541243e-01, -1.28916957e+00,\n",
       "         1.11177726e+00,  2.10669743e+00],\n",
       "       [-1.14185152e+00,  1.68791403e+00,  4.64338734e-01,\n",
       "         3.29170622e-01,  1.44020306e+00,  2.04383684e+00,\n",
       "         2.07519511e+00,  2.10669743e+00],\n",
       "       [ 4.60143347e-02, -9.09192887e-01, -6.11040045e-01,\n",
       "        -8.09069079e-01, -1.81541243e-01, -1.12906883e+00,\n",
       "        -9.78144869e-01, -1.04154944e+00],\n",
       "       [ 1.53084665e+00,  7.67420437e-01,  1.29155318e+00,\n",
       "         5.56818562e-01,  2.81814272e-01, -3.14010491e-01,\n",
       "         9.03389067e-01,  1.68125866e+00],\n",
       "       [ 2.42174604e+00,  6.03046582e-01,  7.95224512e-01,\n",
       "         1.58123429e+00,  2.13523633e+00,  9.81350078e-01,\n",
       "         1.69500228e-01,  2.10669743e+00],\n",
       "       [-5.47918591e-01,  4.05797955e-01, -1.97432823e-01,\n",
       "        -1.23012884e-02, -1.81541243e-01, -5.17775075e-01,\n",
       "         2.11781890e-01, -8.71373930e-01],\n",
       "       [-1.14185152e+00,  5.70171811e-01, -8.59204379e-01,\n",
       "        -1.37818893e+00,  8.03089227e-01, -1.50748877e+00,\n",
       "        -7.99957867e-01, -1.04154944e+00],\n",
       "       [-2.50952128e-01, -1.56668831e+00, -3.62875712e-01,\n",
       "        -1.26125258e-01, -1.10825227e+00, -4.01338170e-01,\n",
       "        -5.40227661e-01, -8.71373930e-01],\n",
       "       [ 3.42980797e-01,  1.19479246e+00, -1.97432823e-01,\n",
       "        -1.23012884e-02, -1.81541243e-01, -3.86783557e-01,\n",
       "        -7.99957867e-01,  2.53213620e+00],\n",
       "       [-2.50952128e-01, -1.36943968e+00, -3.19899336e-02,\n",
       "        -1.23012884e-02, -1.81541243e-01,  0.00000000e+00,\n",
       "        -8.99621783e-01, -9.56461683e-01],\n",
       "       [-5.47918591e-01, -2.15740685e-02, -1.97432823e-01,\n",
       "         3.29170622e-01, -5.29057879e-01,  9.66795465e-01,\n",
       "         1.25070271e+00, -8.71373930e-01],\n",
       "       [ 3.42980797e-01,  1.52354017e+00, -6.93761490e-01,\n",
       "        -1.23012884e-02, -1.81541243e-01,  6.44094505e-02,\n",
       "        -1.01740641e+00,  6.60205626e-01],\n",
       "       [ 1.23388019e+00,  1.06329338e+00,  4.64338734e-01,\n",
       "         3.29170622e-01, -1.81541243e-01, -8.36361521e-03,\n",
       "        -8.72098593e-02,  1.00055664e+00],\n",
       "       [-5.47918591e-01,  1.13007026e-02, -1.97432823e-01,\n",
       "        -2.39949228e-01, -1.81541243e-01,  6.32039363e-01,\n",
       "        -3.98282083e-01, -5.31022918e-01],\n",
       "       [ 6.39947260e-01,  2.41424100e-01,  1.45699607e+00,\n",
       "        -2.51642863e+00,  2.14682022e+00, -1.87135410e+00,\n",
       "         3.32586637e-01,  2.27687294e+00],\n",
       "       [ 2.42174604e+00, -9.74942430e-01, -8.59204379e-01,\n",
       "        -2.51642863e+00,  1.35911585e+00, -7.06985046e-01,\n",
       "         1.37150746e+00,  9.15468886e-01],\n",
       "       [-1.14185152e+00, -1.23794060e+00,  7.95224512e-01,\n",
       "         2.15346652e-01, -1.81541243e-01,  8.35803947e-01,\n",
       "        -7.21434781e-01, -8.71373930e-01],\n",
       "       [-1.14185152e+00,  8.33169979e-01,  1.04338885e+00,\n",
       "         2.83329796e+00, -1.81541243e-01,  1.50531615e+00,\n",
       "        -2.92577929e-01, -7.86286177e-01],\n",
       "       [-5.47918591e-01, -1.33656491e+00, -1.02464727e+00,\n",
       "        -8.09069079e-01, -1.81541243e-01, -6.92430433e-01,\n",
       "        -5.49288017e-01, -7.01198424e-01],\n",
       "       [ 3.42980797e-01,  5.04422269e-01,  2.94598207e+00,\n",
       "        -1.23012884e-02, -1.81541243e-01,  2.37859294e+00,\n",
       "        -7.39555494e-01,  3.19854614e-01],\n",
       "       [-1.14185152e+00, -5.80445177e-01,  2.98895844e-01,\n",
       "        -1.23012884e-02, -1.81541243e-01, -2.04600945e+00,\n",
       "         3.32586637e-01, -5.31022918e-01],\n",
       "       [-8.44885053e-01,  1.65503926e+00, -3.62875712e-01,\n",
       "         2.26417811e+00,  5.07754385e+00,  1.44709770e+00,\n",
       "         6.95000878e-01, -4.45935165e-01],\n",
       "       [ 9.36913723e-01,  9.31794292e-01, -5.28318601e-01,\n",
       "         1.46741032e+00,  2.33216243e+00,  3.26392487e-01,\n",
       "         7.43322777e-01,  7.45293379e-01],\n",
       "       [ 4.60143347e-02, -1.27081537e+00,  1.12611029e+00,\n",
       "        -1.15054099e+00, -1.81541243e-01, -4.59556622e-01,\n",
       "        -4.67744813e-01,  6.45913543e-02],\n",
       "       [ 1.53084665e+00, -1.00781720e+00, -3.62875712e-01,\n",
       "        -1.23012884e-02, -1.81541243e-01, -1.20184189e+00,\n",
       "        -8.21098698e-01,  2.10669743e+00],\n",
       "       [-1.14185152e+00, -8.76318116e-01,  1.04338885e+00,\n",
       "        -4.67597168e-01, -1.21250726e+00,  7.19367042e-01,\n",
       "        -6.79153120e-01, -7.86286177e-01],\n",
       "       [ 6.39947260e-01, -6.13319948e-01, -5.28318601e-01,\n",
       "        -1.23012884e-02, -1.81541243e-01, -1.18728728e+00,\n",
       "        -6.73112883e-01, -3.60847411e-01],\n",
       "       [ 3.42980797e-01, -6.13319948e-01,  2.94598207e+00,\n",
       "         8.98290472e-01, -1.81541243e-01,  9.81350078e-01,\n",
       "        -5.03986237e-01,  2.70231170e+00],\n",
       "       [-5.47918591e-01, -5.47570406e-01,  2.16174400e-01,\n",
       "        -1.23012884e-02, -1.81541243e-01, -1.33283341e+00,\n",
       "         2.66144026e-01,  1.68125866e+00]])"
      ]
     },
     "execution_count": 30,
     "metadata": {},
     "output_type": "execute_result"
    }
   ],
   "source": [
    "X_test"
   ]
  },
  {
   "cell_type": "code",
   "execution_count": 31,
   "metadata": {},
   "outputs": [
    {
     "data": {
      "text/plain": [
       "LogisticRegression(random_state=42)"
      ]
     },
     "execution_count": 31,
     "metadata": {},
     "output_type": "execute_result"
    }
   ],
   "source": [
    "#Using LogisticRegression\n",
    "from sklearn.linear_model import LogisticRegression\n",
    "LR = LogisticRegression(random_state=42)\n",
    "LR.fit(X_train,Y_train)"
   ]
  },
  {
   "cell_type": "code",
   "execution_count": 32,
   "metadata": {},
   "outputs": [],
   "source": [
    "YP = LR.predict(X_test)"
   ]
  },
  {
   "cell_type": "code",
   "execution_count": 33,
   "metadata": {},
   "outputs": [
    {
     "name": "stdout",
     "output_type": "stream",
     "text": [
      "0.7727930535455861\n",
      "0.7402597402597403\n",
      "0.7402597402597403\n",
      "[[40 10]\n",
      " [10 17]]\n"
     ]
    }
   ],
   "source": [
    "print(LR.score(X_train,Y_train))\n",
    "print(LR.score(X_test,Y_test))\n",
    "print(accuracy_score(Y_test,YP))\n",
    "print(confusion_matrix(Y_test,YP))"
   ]
  },
  {
   "cell_type": "code",
   "execution_count": 34,
   "metadata": {},
   "outputs": [
    {
     "data": {
      "text/plain": [
       "array([1, 1, 1, 1], dtype=int64)"
      ]
     },
     "execution_count": 34,
     "metadata": {},
     "output_type": "execute_result"
    }
   ],
   "source": [
    "LR.predict([[6,48.0,72.0,35.0,125.0,33.6,0.627,50],[1,85.0,66.0,29.0,125.0,26.6,0.351,31],[10,101.0,76.0,48.0,180.0,32.9,0.171,63],[2,122.0,70.0,27.0,125.0,36.8,0.340,27]])"
   ]
  },
  {
   "cell_type": "code",
   "execution_count": 69,
   "metadata": {},
   "outputs": [],
   "source": [
    "import pickle\n",
    "pickle.dump(LR,open('diabetesmodel.pkl','wb'))"
   ]
  },
  {
   "cell_type": "code",
   "execution_count": 36,
   "metadata": {},
   "outputs": [
    {
     "data": {
      "text/plain": [
       "DecisionTreeClassifier(random_state=42)"
      ]
     },
     "execution_count": 36,
     "metadata": {},
     "output_type": "execute_result"
    }
   ],
   "source": [
    "#Using DecisionTree\n",
    "from sklearn.tree import DecisionTreeClassifier\n",
    "DTR = DecisionTreeClassifier(random_state=42)\n",
    "DTR.fit(X_train, Y_train)"
   ]
  },
  {
   "cell_type": "code",
   "execution_count": 37,
   "metadata": {},
   "outputs": [
    {
     "data": {
      "text/plain": [
       "array([0, 0, 0, 0], dtype=int64)"
      ]
     },
     "execution_count": 37,
     "metadata": {},
     "output_type": "execute_result"
    }
   ],
   "source": [
    "DTR.predict([[6,48.0,72.0,35.0,125.0,33.6,0.627,50],[1,85.0,66.0,29.0,125.0,26.6,0.351,31],[10,101.0,76.0,48.0,180.0,32.9,0.171,63],[2,122.0,70.0,27.0,125.0,36.8,0.340,27]])"
   ]
  },
  {
   "cell_type": "code",
   "execution_count": 38,
   "metadata": {},
   "outputs": [],
   "source": [
    "YP1 = DTR.predict(X_test)"
   ]
  },
  {
   "cell_type": "code",
   "execution_count": 39,
   "metadata": {},
   "outputs": [
    {
     "name": "stdout",
     "output_type": "stream",
     "text": [
      "1.0\n",
      "0.7142857142857143\n",
      "0.7142857142857143\n",
      "[[37 13]\n",
      " [ 9 18]]\n"
     ]
    }
   ],
   "source": [
    "print(DTR.score(X_train,Y_train))\n",
    "print(DTR.score(X_test,Y_test))\n",
    "\n",
    "print(accuracy_score(Y_test,YP1))\n",
    "print(confusion_matrix(Y_test,YP1))"
   ]
  },
  {
   "cell_type": "code",
   "execution_count": 40,
   "metadata": {},
   "outputs": [
    {
     "data": {
      "text/plain": [
       "RandomForestClassifier(n_estimators=120, random_state=42)"
      ]
     },
     "execution_count": 40,
     "metadata": {},
     "output_type": "execute_result"
    }
   ],
   "source": [
    "from sklearn.ensemble import RandomForestClassifier\n",
    "RFG = RandomForestClassifier(n_estimators=120,random_state=42)\n",
    "RFG.fit(X_train,Y_train)"
   ]
  },
  {
   "cell_type": "code",
   "execution_count": 41,
   "metadata": {},
   "outputs": [],
   "source": [
    "YP2 = RFG.predict(X_test)"
   ]
  },
  {
   "cell_type": "code",
   "execution_count": 42,
   "metadata": {},
   "outputs": [
    {
     "data": {
      "text/plain": [
       "array([1, 1, 1, 1], dtype=int64)"
      ]
     },
     "execution_count": 42,
     "metadata": {},
     "output_type": "execute_result"
    }
   ],
   "source": [
    "RFG.predict([[6,48.0,72.0,35.0,125.0,33.6,0.627,50],[1,85.0,66.0,29.0,125.0,26.6,0.351,31],[10,101.0,76.0,48.0,180.0,32.9,0.171,63],[2,122.0,70.0,27.0,125.0,36.8,0.340,27]])\n"
   ]
  },
  {
   "cell_type": "code",
   "execution_count": 43,
   "metadata": {},
   "outputs": [
    {
     "name": "stdout",
     "output_type": "stream",
     "text": [
      "1.0\n",
      "0.7142857142857143\n",
      "0.7142857142857143\n",
      "[[37 13]\n",
      " [ 9 18]]\n"
     ]
    }
   ],
   "source": [
    "print(RFG.score(X_train,Y_train))\n",
    "print(RFG.score(X_test,Y_test))\n",
    "print(accuracy_score(Y_test,YP2))\n",
    "print(confusion_matrix(Y_test,YP2))\n"
   ]
  },
  {
   "cell_type": "code",
   "execution_count": 44,
   "metadata": {},
   "outputs": [
    {
     "name": "stdout",
     "output_type": "stream",
     "text": [
      "[1.0, 0.8181818181818182, 0.8441558441558441, 0.7272727272727273, 0.7922077922077922, 0.7402597402597403, 0.7662337662337663, 0.7272727272727273, 0.7272727272727273, 0.7532467532467533, 0.7402597402597403, 0.7532467532467533, 0.7532467532467533, 0.7402597402597403, 0.7402597402597403, 0.7272727272727273, 0.7272727272727273, 0.7142857142857143, 0.7142857142857143]\n"
     ]
    }
   ],
   "source": [
    "from sklearn.neighbors import KNeighborsClassifier\n",
    "from sklearn.metrics import accuracy_score\n",
    "Acc = []\n",
    "\n",
    "for i in range(1,20):\n",
    "    \n",
    "    knn = KNeighborsClassifier(n_neighbors=i)\n",
    "    knn.fit(X_test,Y_test)\n",
    "    yp = knn.predict(X_test)\n",
    "    Acc.append(accuracy_score(Y_test,yp))\n",
    "print(Acc)"
   ]
  },
  {
   "cell_type": "code",
   "execution_count": 45,
   "metadata": {},
   "outputs": [
    {
     "data": {
      "text/plain": [
       "[<matplotlib.lines.Line2D at 0x1f0ab0761c8>]"
      ]
     },
     "execution_count": 45,
     "metadata": {},
     "output_type": "execute_result"
    },
    {
     "data": {
      "image/png": "[encoded data removed]",
      "text/plain": [
       "<Figure size 432x288 with 1 Axes>"
      ]
     },
     "metadata": {
      "needs_background": "light"
     },
     "output_type": "display_data"
    }
   ],
   "source": [
    "plt.plot(range(1,20),Acc)"
   ]
  },
  {
   "cell_type": "code",
   "execution_count": 46,
   "metadata": {},
   "outputs": [
    {
     "data": {
      "text/plain": [
       "KNeighborsClassifier(metric='euclidean', n_neighbors=3)"
      ]
     },
     "execution_count": 46,
     "metadata": {},
     "output_type": "execute_result"
    }
   ],
   "source": [
    "from sklearn.neighbors import KNeighborsClassifier\n",
    "knn = KNeighborsClassifier(n_neighbors=3,metric=\"euclidean\")\n",
    "knn.fit(X_test,Y_test)"
   ]
  },
  {
   "cell_type": "code",
   "execution_count": 47,
   "metadata": {},
   "outputs": [
    {
     "name": "stdout",
     "output_type": "stream",
     "text": [
      "0.7395079594790159\n",
      "0.8441558441558441\n"
     ]
    }
   ],
   "source": [
    "print(knn.score(X_train,Y_train))\n",
    "print(knn.score(X_test,Y_test))\n",
    "\n"
   ]
  },
  {
   "cell_type": "code",
   "execution_count": 48,
   "metadata": {},
   "outputs": [
    {
     "data": {
      "text/plain": [
       "array([1, 1, 1], dtype=int64)"
      ]
     },
     "execution_count": 48,
     "metadata": {},
     "output_type": "execute_result"
    }
   ],
   "source": [
    "knn.predict([[1,48.0,72.0,35.0,125.0,33.6,0.627,50],[1,85.0,66.0,29.0,125.0,26.6,0.351,31],[10,101.0,76.0,48.0,180.0,32.9,0.171,63]])"
   ]
  },
  {
   "cell_type": "code",
   "execution_count": null,
   "metadata": {},
   "outputs": [],
   "source": []
  },
  {
   "cell_type": "code",
   "execution_count": 49,
   "metadata": {},
   "outputs": [
    {
     "data": {
      "text/html": [
       "<style  type=\"text/css\" >\n",
       "    #T_9880d208_e203_11ea_93a6_d4c9ef63ccb2 th {\n",
       "          text-align: left;\n",
       "    }    #T_9880d208_e203_11ea_93a6_d4c9ef63ccb2row0_col0 {\n",
       "            text-align:  left;\n",
       "        }    #T_9880d208_e203_11ea_93a6_d4c9ef63ccb2row0_col1 {\n",
       "            background-color:  yellow;\n",
       "            text-align:  left;\n",
       "        }    #T_9880d208_e203_11ea_93a6_d4c9ef63ccb2row0_col2 {\n",
       "            background-color:  yellow;\n",
       "            text-align:  left;\n",
       "        }    #T_9880d208_e203_11ea_93a6_d4c9ef63ccb2row0_col3 {\n",
       "            background-color:  yellow;\n",
       "            text-align:  left;\n",
       "        }    #T_9880d208_e203_11ea_93a6_d4c9ef63ccb2row0_col4 {\n",
       "            background-color:  yellow;\n",
       "            text-align:  left;\n",
       "        }    #T_9880d208_e203_11ea_93a6_d4c9ef63ccb2row0_col5 {\n",
       "            background-color:  yellow;\n",
       "            text-align:  left;\n",
       "        }    #T_9880d208_e203_11ea_93a6_d4c9ef63ccb2row0_col6 {\n",
       "            background-color:  yellow;\n",
       "            text-align:  left;\n",
       "        }    #T_9880d208_e203_11ea_93a6_d4c9ef63ccb2row0_col7 {\n",
       "            background-color:  yellow;\n",
       "            text-align:  left;\n",
       "        }    #T_9880d208_e203_11ea_93a6_d4c9ef63ccb2row0_col8 {\n",
       "            background-color:  lightgrey;\n",
       "            text-align:  left;\n",
       "        }    #T_9880d208_e203_11ea_93a6_d4c9ef63ccb2row1_col0 {\n",
       "            text-align:  left;\n",
       "        }    #T_9880d208_e203_11ea_93a6_d4c9ef63ccb2row1_col1 {\n",
       "            : ;\n",
       "            text-align:  left;\n",
       "        }    #T_9880d208_e203_11ea_93a6_d4c9ef63ccb2row1_col2 {\n",
       "            : ;\n",
       "            text-align:  left;\n",
       "        }    #T_9880d208_e203_11ea_93a6_d4c9ef63ccb2row1_col3 {\n",
       "            : ;\n",
       "            text-align:  left;\n",
       "        }    #T_9880d208_e203_11ea_93a6_d4c9ef63ccb2row1_col4 {\n",
       "            : ;\n",
       "            text-align:  left;\n",
       "        }    #T_9880d208_e203_11ea_93a6_d4c9ef63ccb2row1_col5 {\n",
       "            : ;\n",
       "            text-align:  left;\n",
       "        }    #T_9880d208_e203_11ea_93a6_d4c9ef63ccb2row1_col6 {\n",
       "            : ;\n",
       "            text-align:  left;\n",
       "        }    #T_9880d208_e203_11ea_93a6_d4c9ef63ccb2row1_col7 {\n",
       "            : ;\n",
       "            text-align:  left;\n",
       "        }    #T_9880d208_e203_11ea_93a6_d4c9ef63ccb2row1_col8 {\n",
       "            background-color:  lightgrey;\n",
       "            text-align:  left;\n",
       "        }    #T_9880d208_e203_11ea_93a6_d4c9ef63ccb2row2_col0 {\n",
       "            text-align:  left;\n",
       "        }    #T_9880d208_e203_11ea_93a6_d4c9ef63ccb2row2_col1 {\n",
       "            : ;\n",
       "            text-align:  left;\n",
       "        }    #T_9880d208_e203_11ea_93a6_d4c9ef63ccb2row2_col2 {\n",
       "            : ;\n",
       "            text-align:  left;\n",
       "        }    #T_9880d208_e203_11ea_93a6_d4c9ef63ccb2row2_col3 {\n",
       "            : ;\n",
       "            text-align:  left;\n",
       "        }    #T_9880d208_e203_11ea_93a6_d4c9ef63ccb2row2_col4 {\n",
       "            : ;\n",
       "            text-align:  left;\n",
       "        }    #T_9880d208_e203_11ea_93a6_d4c9ef63ccb2row2_col5 {\n",
       "            : ;\n",
       "            text-align:  left;\n",
       "        }    #T_9880d208_e203_11ea_93a6_d4c9ef63ccb2row2_col6 {\n",
       "            : ;\n",
       "            text-align:  left;\n",
       "        }    #T_9880d208_e203_11ea_93a6_d4c9ef63ccb2row2_col7 {\n",
       "            : ;\n",
       "            text-align:  left;\n",
       "        }    #T_9880d208_e203_11ea_93a6_d4c9ef63ccb2row2_col8 {\n",
       "            background-color:  lightgrey;\n",
       "            text-align:  left;\n",
       "        }    #T_9880d208_e203_11ea_93a6_d4c9ef63ccb2row3_col0 {\n",
       "            text-align:  left;\n",
       "        }    #T_9880d208_e203_11ea_93a6_d4c9ef63ccb2row3_col1 {\n",
       "            : ;\n",
       "            text-align:  left;\n",
       "        }    #T_9880d208_e203_11ea_93a6_d4c9ef63ccb2row3_col2 {\n",
       "            : ;\n",
       "            text-align:  left;\n",
       "        }    #T_9880d208_e203_11ea_93a6_d4c9ef63ccb2row3_col3 {\n",
       "            : ;\n",
       "            text-align:  left;\n",
       "        }    #T_9880d208_e203_11ea_93a6_d4c9ef63ccb2row3_col4 {\n",
       "            : ;\n",
       "            text-align:  left;\n",
       "        }    #T_9880d208_e203_11ea_93a6_d4c9ef63ccb2row3_col5 {\n",
       "            : ;\n",
       "            text-align:  left;\n",
       "        }    #T_9880d208_e203_11ea_93a6_d4c9ef63ccb2row3_col6 {\n",
       "            : ;\n",
       "            text-align:  left;\n",
       "        }    #T_9880d208_e203_11ea_93a6_d4c9ef63ccb2row3_col7 {\n",
       "            : ;\n",
       "            text-align:  left;\n",
       "        }    #T_9880d208_e203_11ea_93a6_d4c9ef63ccb2row3_col8 {\n",
       "            background-color:  lightgrey;\n",
       "            text-align:  left;\n",
       "        }    #T_9880d208_e203_11ea_93a6_d4c9ef63ccb2row4_col0 {\n",
       "            text-align:  left;\n",
       "        }    #T_9880d208_e203_11ea_93a6_d4c9ef63ccb2row4_col1 {\n",
       "            : ;\n",
       "            text-align:  left;\n",
       "        }    #T_9880d208_e203_11ea_93a6_d4c9ef63ccb2row4_col2 {\n",
       "            : ;\n",
       "            text-align:  left;\n",
       "        }    #T_9880d208_e203_11ea_93a6_d4c9ef63ccb2row4_col3 {\n",
       "            : ;\n",
       "            text-align:  left;\n",
       "        }    #T_9880d208_e203_11ea_93a6_d4c9ef63ccb2row4_col4 {\n",
       "            : ;\n",
       "            text-align:  left;\n",
       "        }    #T_9880d208_e203_11ea_93a6_d4c9ef63ccb2row4_col5 {\n",
       "            : ;\n",
       "            text-align:  left;\n",
       "        }    #T_9880d208_e203_11ea_93a6_d4c9ef63ccb2row4_col6 {\n",
       "            : ;\n",
       "            text-align:  left;\n",
       "        }    #T_9880d208_e203_11ea_93a6_d4c9ef63ccb2row4_col7 {\n",
       "            : ;\n",
       "            text-align:  left;\n",
       "        }    #T_9880d208_e203_11ea_93a6_d4c9ef63ccb2row4_col8 {\n",
       "            background-color:  lightgrey;\n",
       "            text-align:  left;\n",
       "        }    #T_9880d208_e203_11ea_93a6_d4c9ef63ccb2row5_col0 {\n",
       "            text-align:  left;\n",
       "        }    #T_9880d208_e203_11ea_93a6_d4c9ef63ccb2row5_col1 {\n",
       "            : ;\n",
       "            text-align:  left;\n",
       "        }    #T_9880d208_e203_11ea_93a6_d4c9ef63ccb2row5_col2 {\n",
       "            : ;\n",
       "            text-align:  left;\n",
       "        }    #T_9880d208_e203_11ea_93a6_d4c9ef63ccb2row5_col3 {\n",
       "            : ;\n",
       "            text-align:  left;\n",
       "        }    #T_9880d208_e203_11ea_93a6_d4c9ef63ccb2row5_col4 {\n",
       "            : ;\n",
       "            text-align:  left;\n",
       "        }    #T_9880d208_e203_11ea_93a6_d4c9ef63ccb2row5_col5 {\n",
       "            : ;\n",
       "            text-align:  left;\n",
       "        }    #T_9880d208_e203_11ea_93a6_d4c9ef63ccb2row5_col6 {\n",
       "            : ;\n",
       "            text-align:  left;\n",
       "        }    #T_9880d208_e203_11ea_93a6_d4c9ef63ccb2row5_col7 {\n",
       "            : ;\n",
       "            text-align:  left;\n",
       "        }    #T_9880d208_e203_11ea_93a6_d4c9ef63ccb2row5_col8 {\n",
       "            background-color:  lightgrey;\n",
       "            text-align:  left;\n",
       "        }    #T_9880d208_e203_11ea_93a6_d4c9ef63ccb2row6_col0 {\n",
       "            text-align:  left;\n",
       "        }    #T_9880d208_e203_11ea_93a6_d4c9ef63ccb2row6_col1 {\n",
       "            : ;\n",
       "            text-align:  left;\n",
       "        }    #T_9880d208_e203_11ea_93a6_d4c9ef63ccb2row6_col2 {\n",
       "            : ;\n",
       "            text-align:  left;\n",
       "        }    #T_9880d208_e203_11ea_93a6_d4c9ef63ccb2row6_col3 {\n",
       "            background-color:  yellow;\n",
       "            text-align:  left;\n",
       "        }    #T_9880d208_e203_11ea_93a6_d4c9ef63ccb2row6_col4 {\n",
       "            : ;\n",
       "            text-align:  left;\n",
       "        }    #T_9880d208_e203_11ea_93a6_d4c9ef63ccb2row6_col5 {\n",
       "            : ;\n",
       "            text-align:  left;\n",
       "        }    #T_9880d208_e203_11ea_93a6_d4c9ef63ccb2row6_col6 {\n",
       "            : ;\n",
       "            text-align:  left;\n",
       "        }    #T_9880d208_e203_11ea_93a6_d4c9ef63ccb2row6_col7 {\n",
       "            : ;\n",
       "            text-align:  left;\n",
       "        }    #T_9880d208_e203_11ea_93a6_d4c9ef63ccb2row6_col8 {\n",
       "            background-color:  lightgrey;\n",
       "            text-align:  left;\n",
       "        }    #T_9880d208_e203_11ea_93a6_d4c9ef63ccb2row7_col0 {\n",
       "            text-align:  left;\n",
       "        }    #T_9880d208_e203_11ea_93a6_d4c9ef63ccb2row7_col1 {\n",
       "            : ;\n",
       "            text-align:  left;\n",
       "        }    #T_9880d208_e203_11ea_93a6_d4c9ef63ccb2row7_col2 {\n",
       "            : ;\n",
       "            text-align:  left;\n",
       "        }    #T_9880d208_e203_11ea_93a6_d4c9ef63ccb2row7_col3 {\n",
       "            : ;\n",
       "            text-align:  left;\n",
       "        }    #T_9880d208_e203_11ea_93a6_d4c9ef63ccb2row7_col4 {\n",
       "            : ;\n",
       "            text-align:  left;\n",
       "        }    #T_9880d208_e203_11ea_93a6_d4c9ef63ccb2row7_col5 {\n",
       "            : ;\n",
       "            text-align:  left;\n",
       "        }    #T_9880d208_e203_11ea_93a6_d4c9ef63ccb2row7_col6 {\n",
       "            : ;\n",
       "            text-align:  left;\n",
       "        }    #T_9880d208_e203_11ea_93a6_d4c9ef63ccb2row7_col7 {\n",
       "            : ;\n",
       "            text-align:  left;\n",
       "        }    #T_9880d208_e203_11ea_93a6_d4c9ef63ccb2row7_col8 {\n",
       "            background-color:  lightgrey;\n",
       "            text-align:  left;\n",
       "        }    #T_9880d208_e203_11ea_93a6_d4c9ef63ccb2row8_col0 {\n",
       "            text-align:  left;\n",
       "        }    #T_9880d208_e203_11ea_93a6_d4c9ef63ccb2row8_col1 {\n",
       "            : ;\n",
       "            text-align:  left;\n",
       "        }    #T_9880d208_e203_11ea_93a6_d4c9ef63ccb2row8_col2 {\n",
       "            : ;\n",
       "            text-align:  left;\n",
       "        }    #T_9880d208_e203_11ea_93a6_d4c9ef63ccb2row8_col3 {\n",
       "            : ;\n",
       "            text-align:  left;\n",
       "        }    #T_9880d208_e203_11ea_93a6_d4c9ef63ccb2row8_col4 {\n",
       "            : ;\n",
       "            text-align:  left;\n",
       "        }    #T_9880d208_e203_11ea_93a6_d4c9ef63ccb2row8_col5 {\n",
       "            : ;\n",
       "            text-align:  left;\n",
       "        }    #T_9880d208_e203_11ea_93a6_d4c9ef63ccb2row8_col6 {\n",
       "            : ;\n",
       "            text-align:  left;\n",
       "        }    #T_9880d208_e203_11ea_93a6_d4c9ef63ccb2row8_col7 {\n",
       "            : ;\n",
       "            text-align:  left;\n",
       "        }    #T_9880d208_e203_11ea_93a6_d4c9ef63ccb2row8_col8 {\n",
       "            background-color:  lightgrey;\n",
       "            text-align:  left;\n",
       "        }    #T_9880d208_e203_11ea_93a6_d4c9ef63ccb2row9_col0 {\n",
       "            text-align:  left;\n",
       "        }    #T_9880d208_e203_11ea_93a6_d4c9ef63ccb2row9_col1 {\n",
       "            : ;\n",
       "            text-align:  left;\n",
       "        }    #T_9880d208_e203_11ea_93a6_d4c9ef63ccb2row9_col2 {\n",
       "            : ;\n",
       "            text-align:  left;\n",
       "        }    #T_9880d208_e203_11ea_93a6_d4c9ef63ccb2row9_col3 {\n",
       "            : ;\n",
       "            text-align:  left;\n",
       "        }    #T_9880d208_e203_11ea_93a6_d4c9ef63ccb2row9_col4 {\n",
       "            : ;\n",
       "            text-align:  left;\n",
       "        }    #T_9880d208_e203_11ea_93a6_d4c9ef63ccb2row9_col5 {\n",
       "            : ;\n",
       "            text-align:  left;\n",
       "        }    #T_9880d208_e203_11ea_93a6_d4c9ef63ccb2row9_col6 {\n",
       "            : ;\n",
       "            text-align:  left;\n",
       "        }    #T_9880d208_e203_11ea_93a6_d4c9ef63ccb2row9_col7 {\n",
       "            : ;\n",
       "            text-align:  left;\n",
       "        }    #T_9880d208_e203_11ea_93a6_d4c9ef63ccb2row9_col8 {\n",
       "            background-color:  lightgrey;\n",
       "            text-align:  left;\n",
       "        }    #T_9880d208_e203_11ea_93a6_d4c9ef63ccb2row10_col0 {\n",
       "            text-align:  left;\n",
       "        }    #T_9880d208_e203_11ea_93a6_d4c9ef63ccb2row10_col1 {\n",
       "            : ;\n",
       "            text-align:  left;\n",
       "        }    #T_9880d208_e203_11ea_93a6_d4c9ef63ccb2row10_col2 {\n",
       "            : ;\n",
       "            text-align:  left;\n",
       "        }    #T_9880d208_e203_11ea_93a6_d4c9ef63ccb2row10_col3 {\n",
       "            : ;\n",
       "            text-align:  left;\n",
       "        }    #T_9880d208_e203_11ea_93a6_d4c9ef63ccb2row10_col4 {\n",
       "            : ;\n",
       "            text-align:  left;\n",
       "        }    #T_9880d208_e203_11ea_93a6_d4c9ef63ccb2row10_col5 {\n",
       "            : ;\n",
       "            text-align:  left;\n",
       "        }    #T_9880d208_e203_11ea_93a6_d4c9ef63ccb2row10_col6 {\n",
       "            : ;\n",
       "            text-align:  left;\n",
       "        }    #T_9880d208_e203_11ea_93a6_d4c9ef63ccb2row10_col7 {\n",
       "            : ;\n",
       "            text-align:  left;\n",
       "        }    #T_9880d208_e203_11ea_93a6_d4c9ef63ccb2row10_col8 {\n",
       "            background-color:  lightgrey;\n",
       "            text-align:  left;\n",
       "        }    #T_9880d208_e203_11ea_93a6_d4c9ef63ccb2row11_col0 {\n",
       "            text-align:  left;\n",
       "        }    #T_9880d208_e203_11ea_93a6_d4c9ef63ccb2row11_col1 {\n",
       "            : ;\n",
       "            text-align:  left;\n",
       "        }    #T_9880d208_e203_11ea_93a6_d4c9ef63ccb2row11_col2 {\n",
       "            : ;\n",
       "            text-align:  left;\n",
       "        }    #T_9880d208_e203_11ea_93a6_d4c9ef63ccb2row11_col3 {\n",
       "            : ;\n",
       "            text-align:  left;\n",
       "        }    #T_9880d208_e203_11ea_93a6_d4c9ef63ccb2row11_col4 {\n",
       "            : ;\n",
       "            text-align:  left;\n",
       "        }    #T_9880d208_e203_11ea_93a6_d4c9ef63ccb2row11_col5 {\n",
       "            : ;\n",
       "            text-align:  left;\n",
       "        }    #T_9880d208_e203_11ea_93a6_d4c9ef63ccb2row11_col6 {\n",
       "            : ;\n",
       "            text-align:  left;\n",
       "        }    #T_9880d208_e203_11ea_93a6_d4c9ef63ccb2row11_col7 {\n",
       "            : ;\n",
       "            text-align:  left;\n",
       "        }    #T_9880d208_e203_11ea_93a6_d4c9ef63ccb2row11_col8 {\n",
       "            background-color:  lightgrey;\n",
       "            text-align:  left;\n",
       "        }    #T_9880d208_e203_11ea_93a6_d4c9ef63ccb2row12_col0 {\n",
       "            text-align:  left;\n",
       "        }    #T_9880d208_e203_11ea_93a6_d4c9ef63ccb2row12_col1 {\n",
       "            : ;\n",
       "            text-align:  left;\n",
       "        }    #T_9880d208_e203_11ea_93a6_d4c9ef63ccb2row12_col2 {\n",
       "            : ;\n",
       "            text-align:  left;\n",
       "        }    #T_9880d208_e203_11ea_93a6_d4c9ef63ccb2row12_col3 {\n",
       "            : ;\n",
       "            text-align:  left;\n",
       "        }    #T_9880d208_e203_11ea_93a6_d4c9ef63ccb2row12_col4 {\n",
       "            : ;\n",
       "            text-align:  left;\n",
       "        }    #T_9880d208_e203_11ea_93a6_d4c9ef63ccb2row12_col5 {\n",
       "            : ;\n",
       "            text-align:  left;\n",
       "        }    #T_9880d208_e203_11ea_93a6_d4c9ef63ccb2row12_col6 {\n",
       "            : ;\n",
       "            text-align:  left;\n",
       "        }    #T_9880d208_e203_11ea_93a6_d4c9ef63ccb2row12_col7 {\n",
       "            : ;\n",
       "            text-align:  left;\n",
       "        }    #T_9880d208_e203_11ea_93a6_d4c9ef63ccb2row12_col8 {\n",
       "            background-color:  lightgrey;\n",
       "            text-align:  left;\n",
       "        }    #T_9880d208_e203_11ea_93a6_d4c9ef63ccb2row13_col0 {\n",
       "            text-align:  left;\n",
       "        }    #T_9880d208_e203_11ea_93a6_d4c9ef63ccb2row13_col1 {\n",
       "            : ;\n",
       "            text-align:  left;\n",
       "        }    #T_9880d208_e203_11ea_93a6_d4c9ef63ccb2row13_col2 {\n",
       "            : ;\n",
       "            text-align:  left;\n",
       "        }    #T_9880d208_e203_11ea_93a6_d4c9ef63ccb2row13_col3 {\n",
       "            : ;\n",
       "            text-align:  left;\n",
       "        }    #T_9880d208_e203_11ea_93a6_d4c9ef63ccb2row13_col4 {\n",
       "            : ;\n",
       "            text-align:  left;\n",
       "        }    #T_9880d208_e203_11ea_93a6_d4c9ef63ccb2row13_col5 {\n",
       "            : ;\n",
       "            text-align:  left;\n",
       "        }    #T_9880d208_e203_11ea_93a6_d4c9ef63ccb2row13_col6 {\n",
       "            : ;\n",
       "            text-align:  left;\n",
       "        }    #T_9880d208_e203_11ea_93a6_d4c9ef63ccb2row13_col7 {\n",
       "            : ;\n",
       "            text-align:  left;\n",
       "        }    #T_9880d208_e203_11ea_93a6_d4c9ef63ccb2row13_col8 {\n",
       "            background-color:  lightgrey;\n",
       "            text-align:  left;\n",
       "        }    #T_9880d208_e203_11ea_93a6_d4c9ef63ccb2row14_col0 {\n",
       "            text-align:  left;\n",
       "        }    #T_9880d208_e203_11ea_93a6_d4c9ef63ccb2row14_col1 {\n",
       "            : ;\n",
       "            text-align:  left;\n",
       "        }    #T_9880d208_e203_11ea_93a6_d4c9ef63ccb2row14_col2 {\n",
       "            : ;\n",
       "            text-align:  left;\n",
       "        }    #T_9880d208_e203_11ea_93a6_d4c9ef63ccb2row14_col3 {\n",
       "            : ;\n",
       "            text-align:  left;\n",
       "        }    #T_9880d208_e203_11ea_93a6_d4c9ef63ccb2row14_col4 {\n",
       "            : ;\n",
       "            text-align:  left;\n",
       "        }    #T_9880d208_e203_11ea_93a6_d4c9ef63ccb2row14_col5 {\n",
       "            : ;\n",
       "            text-align:  left;\n",
       "        }    #T_9880d208_e203_11ea_93a6_d4c9ef63ccb2row14_col6 {\n",
       "            : ;\n",
       "            text-align:  left;\n",
       "        }    #T_9880d208_e203_11ea_93a6_d4c9ef63ccb2row14_col7 {\n",
       "            : ;\n",
       "            text-align:  left;\n",
       "        }    #T_9880d208_e203_11ea_93a6_d4c9ef63ccb2row14_col8 {\n",
       "            background-color:  lightgrey;\n",
       "            text-align:  left;\n",
       "        }</style><table id=\"T_9880d208_e203_11ea_93a6_d4c9ef63ccb2\" ><thead>    <tr>        <th class=\"blank level0\" ></th>        <th class=\"col_heading level0 col0\" >Model</th>        <th class=\"col_heading level0 col1\" >Accuracy</th>        <th class=\"col_heading level0 col2\" >AUC</th>        <th class=\"col_heading level0 col3\" >Recall</th>        <th class=\"col_heading level0 col4\" >Prec.</th>        <th class=\"col_heading level0 col5\" >F1</th>        <th class=\"col_heading level0 col6\" >Kappa</th>        <th class=\"col_heading level0 col7\" >MCC</th>        <th class=\"col_heading level0 col8\" >TT (Sec)</th>    </tr></thead><tbody>\n",
       "                <tr>\n",
       "                        <th id=\"T_9880d208_e203_11ea_93a6_d4c9ef63ccb2level0_row0\" class=\"row_heading level0 row0\" >0</th>\n",
       "                        <td id=\"T_9880d208_e203_11ea_93a6_d4c9ef63ccb2row0_col0\" class=\"data row0 col0\" >CatBoost Classifier</td>\n",
       "                        <td id=\"T_9880d208_e203_11ea_93a6_d4c9ef63ccb2row0_col1\" class=\"data row0 col1\" >0.7541</td>\n",
       "                        <td id=\"T_9880d208_e203_11ea_93a6_d4c9ef63ccb2row0_col2\" class=\"data row0 col2\" >0.8243</td>\n",
       "                        <td id=\"T_9880d208_e203_11ea_93a6_d4c9ef63ccb2row0_col3\" class=\"data row0 col3\" >0.5664</td>\n",
       "                        <td id=\"T_9880d208_e203_11ea_93a6_d4c9ef63ccb2row0_col4\" class=\"data row0 col4\" >0.6776</td>\n",
       "                        <td id=\"T_9880d208_e203_11ea_93a6_d4c9ef63ccb2row0_col5\" class=\"data row0 col5\" >0.6136</td>\n",
       "                        <td id=\"T_9880d208_e203_11ea_93a6_d4c9ef63ccb2row0_col6\" class=\"data row0 col6\" >0.4363</td>\n",
       "                        <td id=\"T_9880d208_e203_11ea_93a6_d4c9ef63ccb2row0_col7\" class=\"data row0 col7\" >0.4421</td>\n",
       "                        <td id=\"T_9880d208_e203_11ea_93a6_d4c9ef63ccb2row0_col8\" class=\"data row0 col8\" >2.9935</td>\n",
       "            </tr>\n",
       "            <tr>\n",
       "                        <th id=\"T_9880d208_e203_11ea_93a6_d4c9ef63ccb2level0_row1\" class=\"row_heading level0 row1\" >1</th>\n",
       "                        <td id=\"T_9880d208_e203_11ea_93a6_d4c9ef63ccb2row1_col0\" class=\"data row1 col0\" >Logistic Regression</td>\n",
       "                        <td id=\"T_9880d208_e203_11ea_93a6_d4c9ef63ccb2row1_col1\" class=\"data row1 col1\" >0.7446</td>\n",
       "                        <td id=\"T_9880d208_e203_11ea_93a6_d4c9ef63ccb2row1_col2\" class=\"data row1 col2\" >0.7891</td>\n",
       "                        <td id=\"T_9880d208_e203_11ea_93a6_d4c9ef63ccb2row1_col3\" class=\"data row1 col3\" >0.5073</td>\n",
       "                        <td id=\"T_9880d208_e203_11ea_93a6_d4c9ef63ccb2row1_col4\" class=\"data row1 col4\" >0.6726</td>\n",
       "                        <td id=\"T_9880d208_e203_11ea_93a6_d4c9ef63ccb2row1_col5\" class=\"data row1 col5\" >0.5732</td>\n",
       "                        <td id=\"T_9880d208_e203_11ea_93a6_d4c9ef63ccb2row1_col6\" class=\"data row1 col6\" >0.3987</td>\n",
       "                        <td id=\"T_9880d208_e203_11ea_93a6_d4c9ef63ccb2row1_col7\" class=\"data row1 col7\" >0.4090</td>\n",
       "                        <td id=\"T_9880d208_e203_11ea_93a6_d4c9ef63ccb2row1_col8\" class=\"data row1 col8\" >0.0800</td>\n",
       "            </tr>\n",
       "            <tr>\n",
       "                        <th id=\"T_9880d208_e203_11ea_93a6_d4c9ef63ccb2level0_row2\" class=\"row_heading level0 row2\" >2</th>\n",
       "                        <td id=\"T_9880d208_e203_11ea_93a6_d4c9ef63ccb2row2_col0\" class=\"data row2 col0\" >Gradient Boosting Classifier</td>\n",
       "                        <td id=\"T_9880d208_e203_11ea_93a6_d4c9ef63ccb2row2_col1\" class=\"data row2 col1\" >0.7374</td>\n",
       "                        <td id=\"T_9880d208_e203_11ea_93a6_d4c9ef63ccb2row2_col2\" class=\"data row2 col2\" >0.7978</td>\n",
       "                        <td id=\"T_9880d208_e203_11ea_93a6_d4c9ef63ccb2row2_col3\" class=\"data row2 col3\" >0.5503</td>\n",
       "                        <td id=\"T_9880d208_e203_11ea_93a6_d4c9ef63ccb2row2_col4\" class=\"data row2 col4\" >0.6517</td>\n",
       "                        <td id=\"T_9880d208_e203_11ea_93a6_d4c9ef63ccb2row2_col5\" class=\"data row2 col5\" >0.5914</td>\n",
       "                        <td id=\"T_9880d208_e203_11ea_93a6_d4c9ef63ccb2row2_col6\" class=\"data row2 col6\" >0.4010</td>\n",
       "                        <td id=\"T_9880d208_e203_11ea_93a6_d4c9ef63ccb2row2_col7\" class=\"data row2 col7\" >0.4075</td>\n",
       "                        <td id=\"T_9880d208_e203_11ea_93a6_d4c9ef63ccb2row2_col8\" class=\"data row2 col8\" >0.2095</td>\n",
       "            </tr>\n",
       "            <tr>\n",
       "                        <th id=\"T_9880d208_e203_11ea_93a6_d4c9ef63ccb2level0_row3\" class=\"row_heading level0 row3\" >3</th>\n",
       "                        <td id=\"T_9880d208_e203_11ea_93a6_d4c9ef63ccb2row3_col0\" class=\"data row3 col0\" >Ridge Classifier</td>\n",
       "                        <td id=\"T_9880d208_e203_11ea_93a6_d4c9ef63ccb2row3_col1\" class=\"data row3 col1\" >0.7371</td>\n",
       "                        <td id=\"T_9880d208_e203_11ea_93a6_d4c9ef63ccb2row3_col2\" class=\"data row3 col2\" >0.0000</td>\n",
       "                        <td id=\"T_9880d208_e203_11ea_93a6_d4c9ef63ccb2row3_col3\" class=\"data row3 col3\" >0.5126</td>\n",
       "                        <td id=\"T_9880d208_e203_11ea_93a6_d4c9ef63ccb2row3_col4\" class=\"data row3 col4\" >0.6626</td>\n",
       "                        <td id=\"T_9880d208_e203_11ea_93a6_d4c9ef63ccb2row3_col5\" class=\"data row3 col5\" >0.5743</td>\n",
       "                        <td id=\"T_9880d208_e203_11ea_93a6_d4c9ef63ccb2row3_col6\" class=\"data row3 col6\" >0.3893</td>\n",
       "                        <td id=\"T_9880d208_e203_11ea_93a6_d4c9ef63ccb2row3_col7\" class=\"data row3 col7\" >0.3984</td>\n",
       "                        <td id=\"T_9880d208_e203_11ea_93a6_d4c9ef63ccb2row3_col8\" class=\"data row3 col8\" >0.0510</td>\n",
       "            </tr>\n",
       "            <tr>\n",
       "                        <th id=\"T_9880d208_e203_11ea_93a6_d4c9ef63ccb2level0_row4\" class=\"row_heading level0 row4\" >4</th>\n",
       "                        <td id=\"T_9880d208_e203_11ea_93a6_d4c9ef63ccb2row4_col0\" class=\"data row4 col0\" >Linear Discriminant Analysis</td>\n",
       "                        <td id=\"T_9880d208_e203_11ea_93a6_d4c9ef63ccb2row4_col1\" class=\"data row4 col1\" >0.7371</td>\n",
       "                        <td id=\"T_9880d208_e203_11ea_93a6_d4c9ef63ccb2row4_col2\" class=\"data row4 col2\" >0.7966</td>\n",
       "                        <td id=\"T_9880d208_e203_11ea_93a6_d4c9ef63ccb2row4_col3\" class=\"data row4 col3\" >0.5126</td>\n",
       "                        <td id=\"T_9880d208_e203_11ea_93a6_d4c9ef63ccb2row4_col4\" class=\"data row4 col4\" >0.6644</td>\n",
       "                        <td id=\"T_9880d208_e203_11ea_93a6_d4c9ef63ccb2row4_col5\" class=\"data row4 col5\" >0.5750</td>\n",
       "                        <td id=\"T_9880d208_e203_11ea_93a6_d4c9ef63ccb2row4_col6\" class=\"data row4 col6\" >0.3897</td>\n",
       "                        <td id=\"T_9880d208_e203_11ea_93a6_d4c9ef63ccb2row4_col7\" class=\"data row4 col7\" >0.3991</td>\n",
       "                        <td id=\"T_9880d208_e203_11ea_93a6_d4c9ef63ccb2row4_col8\" class=\"data row4 col8\" >0.0234</td>\n",
       "            </tr>\n",
       "            <tr>\n",
       "                        <th id=\"T_9880d208_e203_11ea_93a6_d4c9ef63ccb2level0_row5\" class=\"row_heading level0 row5\" >5</th>\n",
       "                        <td id=\"T_9880d208_e203_11ea_93a6_d4c9ef63ccb2row5_col0\" class=\"data row5 col0\" >Extra Trees Classifier</td>\n",
       "                        <td id=\"T_9880d208_e203_11ea_93a6_d4c9ef63ccb2row5_col1\" class=\"data row5 col1\" >0.7355</td>\n",
       "                        <td id=\"T_9880d208_e203_11ea_93a6_d4c9ef63ccb2row5_col2\" class=\"data row5 col2\" >0.7831</td>\n",
       "                        <td id=\"T_9880d208_e203_11ea_93a6_d4c9ef63ccb2row5_col3\" class=\"data row5 col3\" >0.4965</td>\n",
       "                        <td id=\"T_9880d208_e203_11ea_93a6_d4c9ef63ccb2row5_col4\" class=\"data row5 col4\" >0.6667</td>\n",
       "                        <td id=\"T_9880d208_e203_11ea_93a6_d4c9ef63ccb2row5_col5\" class=\"data row5 col5\" >0.5606</td>\n",
       "                        <td id=\"T_9880d208_e203_11ea_93a6_d4c9ef63ccb2row5_col6\" class=\"data row5 col6\" >0.3796</td>\n",
       "                        <td id=\"T_9880d208_e203_11ea_93a6_d4c9ef63ccb2row5_col7\" class=\"data row5 col7\" >0.3922</td>\n",
       "                        <td id=\"T_9880d208_e203_11ea_93a6_d4c9ef63ccb2row5_col8\" class=\"data row5 col8\" >0.3408</td>\n",
       "            </tr>\n",
       "            <tr>\n",
       "                        <th id=\"T_9880d208_e203_11ea_93a6_d4c9ef63ccb2level0_row6\" class=\"row_heading level0 row6\" >6</th>\n",
       "                        <td id=\"T_9880d208_e203_11ea_93a6_d4c9ef63ccb2row6_col0\" class=\"data row6 col0\" >Ada Boost Classifier</td>\n",
       "                        <td id=\"T_9880d208_e203_11ea_93a6_d4c9ef63ccb2row6_col1\" class=\"data row6 col1\" >0.7280</td>\n",
       "                        <td id=\"T_9880d208_e203_11ea_93a6_d4c9ef63ccb2row6_col2\" class=\"data row6 col2\" >0.7781</td>\n",
       "                        <td id=\"T_9880d208_e203_11ea_93a6_d4c9ef63ccb2row6_col3\" class=\"data row6 col3\" >0.5664</td>\n",
       "                        <td id=\"T_9880d208_e203_11ea_93a6_d4c9ef63ccb2row6_col4\" class=\"data row6 col4\" >0.6219</td>\n",
       "                        <td id=\"T_9880d208_e203_11ea_93a6_d4c9ef63ccb2row6_col5\" class=\"data row6 col5\" >0.5901</td>\n",
       "                        <td id=\"T_9880d208_e203_11ea_93a6_d4c9ef63ccb2row6_col6\" class=\"data row6 col6\" >0.3879</td>\n",
       "                        <td id=\"T_9880d208_e203_11ea_93a6_d4c9ef63ccb2row6_col7\" class=\"data row6 col7\" >0.3907</td>\n",
       "                        <td id=\"T_9880d208_e203_11ea_93a6_d4c9ef63ccb2row6_col8\" class=\"data row6 col8\" >0.1744</td>\n",
       "            </tr>\n",
       "            <tr>\n",
       "                        <th id=\"T_9880d208_e203_11ea_93a6_d4c9ef63ccb2level0_row7\" class=\"row_heading level0 row7\" >7</th>\n",
       "                        <td id=\"T_9880d208_e203_11ea_93a6_d4c9ef63ccb2row7_col0\" class=\"data row7 col0\" >Light Gradient Boosting Machine</td>\n",
       "                        <td id=\"T_9880d208_e203_11ea_93a6_d4c9ef63ccb2row7_col1\" class=\"data row7 col1\" >0.7222</td>\n",
       "                        <td id=\"T_9880d208_e203_11ea_93a6_d4c9ef63ccb2row7_col2\" class=\"data row7 col2\" >0.7862</td>\n",
       "                        <td id=\"T_9880d208_e203_11ea_93a6_d4c9ef63ccb2row7_col3\" class=\"data row7 col3\" >0.5547</td>\n",
       "                        <td id=\"T_9880d208_e203_11ea_93a6_d4c9ef63ccb2row7_col4\" class=\"data row7 col4\" >0.6135</td>\n",
       "                        <td id=\"T_9880d208_e203_11ea_93a6_d4c9ef63ccb2row7_col5\" class=\"data row7 col5\" >0.5784</td>\n",
       "                        <td id=\"T_9880d208_e203_11ea_93a6_d4c9ef63ccb2row7_col6\" class=\"data row7 col6\" >0.3734</td>\n",
       "                        <td id=\"T_9880d208_e203_11ea_93a6_d4c9ef63ccb2row7_col7\" class=\"data row7 col7\" >0.3768</td>\n",
       "                        <td id=\"T_9880d208_e203_11ea_93a6_d4c9ef63ccb2row7_col8\" class=\"data row7 col8\" >0.1122</td>\n",
       "            </tr>\n",
       "            <tr>\n",
       "                        <th id=\"T_9880d208_e203_11ea_93a6_d4c9ef63ccb2level0_row8\" class=\"row_heading level0 row8\" >8</th>\n",
       "                        <td id=\"T_9880d208_e203_11ea_93a6_d4c9ef63ccb2row8_col0\" class=\"data row8 col0\" >Random Forest Classifier</td>\n",
       "                        <td id=\"T_9880d208_e203_11ea_93a6_d4c9ef63ccb2row8_col1\" class=\"data row8 col1\" >0.7167</td>\n",
       "                        <td id=\"T_9880d208_e203_11ea_93a6_d4c9ef63ccb2row8_col2\" class=\"data row8 col2\" >0.7598</td>\n",
       "                        <td id=\"T_9880d208_e203_11ea_93a6_d4c9ef63ccb2row8_col3\" class=\"data row8 col3\" >0.4263</td>\n",
       "                        <td id=\"T_9880d208_e203_11ea_93a6_d4c9ef63ccb2row8_col4\" class=\"data row8 col4\" >0.6564</td>\n",
       "                        <td id=\"T_9880d208_e203_11ea_93a6_d4c9ef63ccb2row8_col5\" class=\"data row8 col5\" >0.5085</td>\n",
       "                        <td id=\"T_9880d208_e203_11ea_93a6_d4c9ef63ccb2row8_col6\" class=\"data row8 col6\" >0.3228</td>\n",
       "                        <td id=\"T_9880d208_e203_11ea_93a6_d4c9ef63ccb2row8_col7\" class=\"data row8 col7\" >0.3423</td>\n",
       "                        <td id=\"T_9880d208_e203_11ea_93a6_d4c9ef63ccb2row8_col8\" class=\"data row8 col8\" >0.1323</td>\n",
       "            </tr>\n",
       "            <tr>\n",
       "                        <th id=\"T_9880d208_e203_11ea_93a6_d4c9ef63ccb2level0_row9\" class=\"row_heading level0 row9\" >9</th>\n",
       "                        <td id=\"T_9880d208_e203_11ea_93a6_d4c9ef63ccb2row9_col0\" class=\"data row9 col0\" >Extreme Gradient Boosting</td>\n",
       "                        <td id=\"T_9880d208_e203_11ea_93a6_d4c9ef63ccb2row9_col1\" class=\"data row9 col1\" >0.7110</td>\n",
       "                        <td id=\"T_9880d208_e203_11ea_93a6_d4c9ef63ccb2row9_col2\" class=\"data row9 col2\" >0.7718</td>\n",
       "                        <td id=\"T_9880d208_e203_11ea_93a6_d4c9ef63ccb2row9_col3\" class=\"data row9 col3\" >0.5602</td>\n",
       "                        <td id=\"T_9880d208_e203_11ea_93a6_d4c9ef63ccb2row9_col4\" class=\"data row9 col4\" >0.5940</td>\n",
       "                        <td id=\"T_9880d208_e203_11ea_93a6_d4c9ef63ccb2row9_col5\" class=\"data row9 col5\" >0.5718</td>\n",
       "                        <td id=\"T_9880d208_e203_11ea_93a6_d4c9ef63ccb2row9_col6\" class=\"data row9 col6\" >0.3556</td>\n",
       "                        <td id=\"T_9880d208_e203_11ea_93a6_d4c9ef63ccb2row9_col7\" class=\"data row9 col7\" >0.3584</td>\n",
       "                        <td id=\"T_9880d208_e203_11ea_93a6_d4c9ef63ccb2row9_col8\" class=\"data row9 col8\" >0.1343</td>\n",
       "            </tr>\n",
       "            <tr>\n",
       "                        <th id=\"T_9880d208_e203_11ea_93a6_d4c9ef63ccb2level0_row10\" class=\"row_heading level0 row10\" >10</th>\n",
       "                        <td id=\"T_9880d208_e203_11ea_93a6_d4c9ef63ccb2row10_col0\" class=\"data row10 col0\" >K Neighbors Classifier</td>\n",
       "                        <td id=\"T_9880d208_e203_11ea_93a6_d4c9ef63ccb2row10_col1\" class=\"data row10 col1\" >0.7035</td>\n",
       "                        <td id=\"T_9880d208_e203_11ea_93a6_d4c9ef63ccb2row10_col2\" class=\"data row10 col2\" >0.7374</td>\n",
       "                        <td id=\"T_9880d208_e203_11ea_93a6_d4c9ef63ccb2row10_col3\" class=\"data row10 col3\" >0.5178</td>\n",
       "                        <td id=\"T_9880d208_e203_11ea_93a6_d4c9ef63ccb2row10_col4\" class=\"data row10 col4\" >0.6001</td>\n",
       "                        <td id=\"T_9880d208_e203_11ea_93a6_d4c9ef63ccb2row10_col5\" class=\"data row10 col5\" >0.5506</td>\n",
       "                        <td id=\"T_9880d208_e203_11ea_93a6_d4c9ef63ccb2row10_col6\" class=\"data row10 col6\" >0.3317</td>\n",
       "                        <td id=\"T_9880d208_e203_11ea_93a6_d4c9ef63ccb2row10_col7\" class=\"data row10 col7\" >0.3378</td>\n",
       "                        <td id=\"T_9880d208_e203_11ea_93a6_d4c9ef63ccb2row10_col8\" class=\"data row10 col8\" >0.0108</td>\n",
       "            </tr>\n",
       "            <tr>\n",
       "                        <th id=\"T_9880d208_e203_11ea_93a6_d4c9ef63ccb2level0_row11\" class=\"row_heading level0 row11\" >11</th>\n",
       "                        <td id=\"T_9880d208_e203_11ea_93a6_d4c9ef63ccb2row11_col0\" class=\"data row11 col0\" >Decision Tree Classifier</td>\n",
       "                        <td id=\"T_9880d208_e203_11ea_93a6_d4c9ef63ccb2row11_col1\" class=\"data row11 col1\" >0.6721</td>\n",
       "                        <td id=\"T_9880d208_e203_11ea_93a6_d4c9ef63ccb2row11_col2\" class=\"data row11 col2\" >0.6440</td>\n",
       "                        <td id=\"T_9880d208_e203_11ea_93a6_d4c9ef63ccb2row11_col3\" class=\"data row11 col3\" >0.5509</td>\n",
       "                        <td id=\"T_9880d208_e203_11ea_93a6_d4c9ef63ccb2row11_col4\" class=\"data row11 col4\" >0.5333</td>\n",
       "                        <td id=\"T_9880d208_e203_11ea_93a6_d4c9ef63ccb2row11_col5\" class=\"data row11 col5\" >0.5379</td>\n",
       "                        <td id=\"T_9880d208_e203_11ea_93a6_d4c9ef63ccb2row11_col6\" class=\"data row11 col6\" >0.2856</td>\n",
       "                        <td id=\"T_9880d208_e203_11ea_93a6_d4c9ef63ccb2row11_col7\" class=\"data row11 col7\" >0.2879</td>\n",
       "                        <td id=\"T_9880d208_e203_11ea_93a6_d4c9ef63ccb2row11_col8\" class=\"data row11 col8\" >0.0088</td>\n",
       "            </tr>\n",
       "            <tr>\n",
       "                        <th id=\"T_9880d208_e203_11ea_93a6_d4c9ef63ccb2level0_row12\" class=\"row_heading level0 row12\" >12</th>\n",
       "                        <td id=\"T_9880d208_e203_11ea_93a6_d4c9ef63ccb2row12_col0\" class=\"data row12 col0\" >Naive Bayes</td>\n",
       "                        <td id=\"T_9880d208_e203_11ea_93a6_d4c9ef63ccb2row12_col1\" class=\"data row12 col1\" >0.6626</td>\n",
       "                        <td id=\"T_9880d208_e203_11ea_93a6_d4c9ef63ccb2row12_col2\" class=\"data row12 col2\" >0.7257</td>\n",
       "                        <td id=\"T_9880d208_e203_11ea_93a6_d4c9ef63ccb2row12_col3\" class=\"data row12 col3\" >0.2120</td>\n",
       "                        <td id=\"T_9880d208_e203_11ea_93a6_d4c9ef63ccb2row12_col4\" class=\"data row12 col4\" >0.5389</td>\n",
       "                        <td id=\"T_9880d208_e203_11ea_93a6_d4c9ef63ccb2row12_col5\" class=\"data row12 col5\" >0.2995</td>\n",
       "                        <td id=\"T_9880d208_e203_11ea_93a6_d4c9ef63ccb2row12_col6\" class=\"data row12 col6\" >0.1324</td>\n",
       "                        <td id=\"T_9880d208_e203_11ea_93a6_d4c9ef63ccb2row12_col7\" class=\"data row12 col7\" >0.1585</td>\n",
       "                        <td id=\"T_9880d208_e203_11ea_93a6_d4c9ef63ccb2row12_col8\" class=\"data row12 col8\" >0.0068</td>\n",
       "            </tr>\n",
       "            <tr>\n",
       "                        <th id=\"T_9880d208_e203_11ea_93a6_d4c9ef63ccb2level0_row13\" class=\"row_heading level0 row13\" >13</th>\n",
       "                        <td id=\"T_9880d208_e203_11ea_93a6_d4c9ef63ccb2row13_col0\" class=\"data row13 col0\" >SVM - Linear Kernel</td>\n",
       "                        <td id=\"T_9880d208_e203_11ea_93a6_d4c9ef63ccb2row13_col1\" class=\"data row13 col1\" >0.6498</td>\n",
       "                        <td id=\"T_9880d208_e203_11ea_93a6_d4c9ef63ccb2row13_col2\" class=\"data row13 col2\" >0.0000</td>\n",
       "                        <td id=\"T_9880d208_e203_11ea_93a6_d4c9ef63ccb2row13_col3\" class=\"data row13 col3\" >0.1132</td>\n",
       "                        <td id=\"T_9880d208_e203_11ea_93a6_d4c9ef63ccb2row13_col4\" class=\"data row13 col4\" >0.3425</td>\n",
       "                        <td id=\"T_9880d208_e203_11ea_93a6_d4c9ef63ccb2row13_col5\" class=\"data row13 col5\" >0.1295</td>\n",
       "                        <td id=\"T_9880d208_e203_11ea_93a6_d4c9ef63ccb2row13_col6\" class=\"data row13 col6\" >0.0556</td>\n",
       "                        <td id=\"T_9880d208_e203_11ea_93a6_d4c9ef63ccb2row13_col7\" class=\"data row13 col7\" >0.0845</td>\n",
       "                        <td id=\"T_9880d208_e203_11ea_93a6_d4c9ef63ccb2row13_col8\" class=\"data row13 col8\" >0.0211</td>\n",
       "            </tr>\n",
       "            <tr>\n",
       "                        <th id=\"T_9880d208_e203_11ea_93a6_d4c9ef63ccb2level0_row14\" class=\"row_heading level0 row14\" >14</th>\n",
       "                        <td id=\"T_9880d208_e203_11ea_93a6_d4c9ef63ccb2row14_col0\" class=\"data row14 col0\" >Quadratic Discriminant Analysis</td>\n",
       "                        <td id=\"T_9880d208_e203_11ea_93a6_d4c9ef63ccb2row14_col1\" class=\"data row14 col1\" >0.5803</td>\n",
       "                        <td id=\"T_9880d208_e203_11ea_93a6_d4c9ef63ccb2row14_col2\" class=\"data row14 col2\" >0.5325</td>\n",
       "                        <td id=\"T_9880d208_e203_11ea_93a6_d4c9ef63ccb2row14_col3\" class=\"data row14 col3\" >0.4330</td>\n",
       "                        <td id=\"T_9880d208_e203_11ea_93a6_d4c9ef63ccb2row14_col4\" class=\"data row14 col4\" >0.4655</td>\n",
       "                        <td id=\"T_9880d208_e203_11ea_93a6_d4c9ef63ccb2row14_col5\" class=\"data row14 col5\" >0.3549</td>\n",
       "                        <td id=\"T_9880d208_e203_11ea_93a6_d4c9ef63ccb2row14_col6\" class=\"data row14 col6\" >0.1034</td>\n",
       "                        <td id=\"T_9880d208_e203_11ea_93a6_d4c9ef63ccb2row14_col7\" class=\"data row14 col7\" >0.1319</td>\n",
       "                        <td id=\"T_9880d208_e203_11ea_93a6_d4c9ef63ccb2row14_col8\" class=\"data row14 col8\" >0.0693</td>\n",
       "            </tr>\n",
       "    </tbody></table>"
      ],
      "text/plain": [
       "<pandas.io.formats.style.Styler at 0x28e0629a048>"
      ]
     },
     "metadata": {},
     "output_type": "display_data"
    },
    {
     "data": {
      "text/plain": [
       "<catboost.core.CatBoostClassifier at 0x28e06f581c8>"
      ]
     },
     "execution_count": 49,
     "metadata": {},
     "output_type": "execute_result"
    }
   ],
   "source": [
    "#from pycaret.datasets import get_data \n",
    "diabetes = df\n",
    "# Importing module and initializing setup \n",
    "from pycaret.classification import * \n",
    "clf1 = setup(data = diabetes, target = 'Outcome')\n",
    "# train logistic regression model\n",
    "compare_models()"
   ]
  },
  {
   "cell_type": "markdown",
   "metadata": {},
   "source": [
    "# REMOVING OUTLIER(After apply simple imputer)"
   ]
  },
  {
   "cell_type": "code",
   "execution_count": null,
   "metadata": {},
   "outputs": [],
   "source": []
  },
  {
   "cell_type": "code",
   "execution_count": 49,
   "metadata": {},
   "outputs": [
    {
     "data": {
      "text/html": [
       "<div>\n",
       "<style scoped>\n",
       "    .dataframe tbody tr th:only-of-type {\n",
       "        vertical-align: middle;\n",
       "    }\n",
       "\n",
       "    .dataframe tbody tr th {\n",
       "        vertical-align: top;\n",
       "    }\n",
       "\n",
       "    .dataframe thead th {\n",
       "        text-align: right;\n",
       "    }\n",
       "</style>\n",
       "<table border=\"1\" class=\"dataframe\">\n",
       "  <thead>\n",
       "    <tr style=\"text-align: right;\">\n",
       "      <th></th>\n",
       "      <th>Pregnancies</th>\n",
       "      <th>Glucose</th>\n",
       "      <th>BloodPressure</th>\n",
       "      <th>SkinThickness</th>\n",
       "      <th>Insulin</th>\n",
       "      <th>BMI</th>\n",
       "      <th>DiabetesPedigreeFunction</th>\n",
       "      <th>Age</th>\n",
       "      <th>Outcome</th>\n",
       "    </tr>\n",
       "  </thead>\n",
       "  <tbody>\n",
       "    <tr>\n",
       "      <th>0</th>\n",
       "      <td>6</td>\n",
       "      <td>148.0</td>\n",
       "      <td>72.0</td>\n",
       "      <td>35.0</td>\n",
       "      <td>125.0</td>\n",
       "      <td>33.6</td>\n",
       "      <td>0.627</td>\n",
       "      <td>50</td>\n",
       "      <td>1</td>\n",
       "    </tr>\n",
       "    <tr>\n",
       "      <th>1</th>\n",
       "      <td>1</td>\n",
       "      <td>85.0</td>\n",
       "      <td>66.0</td>\n",
       "      <td>29.0</td>\n",
       "      <td>125.0</td>\n",
       "      <td>26.6</td>\n",
       "      <td>0.351</td>\n",
       "      <td>31</td>\n",
       "      <td>0</td>\n",
       "    </tr>\n",
       "    <tr>\n",
       "      <th>2</th>\n",
       "      <td>8</td>\n",
       "      <td>183.0</td>\n",
       "      <td>64.0</td>\n",
       "      <td>29.0</td>\n",
       "      <td>125.0</td>\n",
       "      <td>23.3</td>\n",
       "      <td>0.672</td>\n",
       "      <td>32</td>\n",
       "      <td>1</td>\n",
       "    </tr>\n",
       "    <tr>\n",
       "      <th>3</th>\n",
       "      <td>1</td>\n",
       "      <td>89.0</td>\n",
       "      <td>66.0</td>\n",
       "      <td>23.0</td>\n",
       "      <td>94.0</td>\n",
       "      <td>28.1</td>\n",
       "      <td>0.167</td>\n",
       "      <td>21</td>\n",
       "      <td>0</td>\n",
       "    </tr>\n",
       "    <tr>\n",
       "      <th>4</th>\n",
       "      <td>0</td>\n",
       "      <td>137.0</td>\n",
       "      <td>40.0</td>\n",
       "      <td>35.0</td>\n",
       "      <td>168.0</td>\n",
       "      <td>43.1</td>\n",
       "      <td>2.288</td>\n",
       "      <td>33</td>\n",
       "      <td>1</td>\n",
       "    </tr>\n",
       "    <tr>\n",
       "      <th>...</th>\n",
       "      <td>...</td>\n",
       "      <td>...</td>\n",
       "      <td>...</td>\n",
       "      <td>...</td>\n",
       "      <td>...</td>\n",
       "      <td>...</td>\n",
       "      <td>...</td>\n",
       "      <td>...</td>\n",
       "      <td>...</td>\n",
       "    </tr>\n",
       "    <tr>\n",
       "      <th>763</th>\n",
       "      <td>10</td>\n",
       "      <td>101.0</td>\n",
       "      <td>76.0</td>\n",
       "      <td>48.0</td>\n",
       "      <td>180.0</td>\n",
       "      <td>32.9</td>\n",
       "      <td>0.171</td>\n",
       "      <td>63</td>\n",
       "      <td>0</td>\n",
       "    </tr>\n",
       "    <tr>\n",
       "      <th>764</th>\n",
       "      <td>2</td>\n",
       "      <td>122.0</td>\n",
       "      <td>70.0</td>\n",
       "      <td>27.0</td>\n",
       "      <td>125.0</td>\n",
       "      <td>36.8</td>\n",
       "      <td>0.340</td>\n",
       "      <td>27</td>\n",
       "      <td>0</td>\n",
       "    </tr>\n",
       "    <tr>\n",
       "      <th>765</th>\n",
       "      <td>5</td>\n",
       "      <td>121.0</td>\n",
       "      <td>72.0</td>\n",
       "      <td>23.0</td>\n",
       "      <td>112.0</td>\n",
       "      <td>26.2</td>\n",
       "      <td>0.245</td>\n",
       "      <td>30</td>\n",
       "      <td>0</td>\n",
       "    </tr>\n",
       "    <tr>\n",
       "      <th>766</th>\n",
       "      <td>1</td>\n",
       "      <td>126.0</td>\n",
       "      <td>60.0</td>\n",
       "      <td>29.0</td>\n",
       "      <td>125.0</td>\n",
       "      <td>30.1</td>\n",
       "      <td>0.349</td>\n",
       "      <td>47</td>\n",
       "      <td>1</td>\n",
       "    </tr>\n",
       "    <tr>\n",
       "      <th>767</th>\n",
       "      <td>1</td>\n",
       "      <td>93.0</td>\n",
       "      <td>70.0</td>\n",
       "      <td>31.0</td>\n",
       "      <td>125.0</td>\n",
       "      <td>30.4</td>\n",
       "      <td>0.315</td>\n",
       "      <td>23</td>\n",
       "      <td>0</td>\n",
       "    </tr>\n",
       "  </tbody>\n",
       "</table>\n",
       "<p>768 rows × 9 columns</p>\n",
       "</div>"
      ],
      "text/plain": [
       "     Pregnancies  Glucose  BloodPressure  SkinThickness  Insulin   BMI  \\\n",
       "0              6    148.0           72.0           35.0    125.0  33.6   \n",
       "1              1     85.0           66.0           29.0    125.0  26.6   \n",
       "2              8    183.0           64.0           29.0    125.0  23.3   \n",
       "3              1     89.0           66.0           23.0     94.0  28.1   \n",
       "4              0    137.0           40.0           35.0    168.0  43.1   \n",
       "..           ...      ...            ...            ...      ...   ...   \n",
       "763           10    101.0           76.0           48.0    180.0  32.9   \n",
       "764            2    122.0           70.0           27.0    125.0  36.8   \n",
       "765            5    121.0           72.0           23.0    112.0  26.2   \n",
       "766            1    126.0           60.0           29.0    125.0  30.1   \n",
       "767            1     93.0           70.0           31.0    125.0  30.4   \n",
       "\n",
       "     DiabetesPedigreeFunction  Age  Outcome  \n",
       "0                       0.627   50        1  \n",
       "1                       0.351   31        0  \n",
       "2                       0.672   32        1  \n",
       "3                       0.167   21        0  \n",
       "4                       2.288   33        1  \n",
       "..                        ...  ...      ...  \n",
       "763                     0.171   63        0  \n",
       "764                     0.340   27        0  \n",
       "765                     0.245   30        0  \n",
       "766                     0.349   47        1  \n",
       "767                     0.315   23        0  \n",
       "\n",
       "[768 rows x 9 columns]"
      ]
     },
     "execution_count": 49,
     "metadata": {},
     "output_type": "execute_result"
    }
   ],
   "source": [
    "df"
   ]
  },
  {
   "cell_type": "code",
   "execution_count": 50,
   "metadata": {},
   "outputs": [
    {
     "data": {
      "text/html": [
       "<div>\n",
       "<style scoped>\n",
       "    .dataframe tbody tr th:only-of-type {\n",
       "        vertical-align: middle;\n",
       "    }\n",
       "\n",
       "    .dataframe tbody tr th {\n",
       "        vertical-align: top;\n",
       "    }\n",
       "\n",
       "    .dataframe thead th {\n",
       "        text-align: right;\n",
       "    }\n",
       "</style>\n",
       "<table border=\"1\" class=\"dataframe\">\n",
       "  <thead>\n",
       "    <tr style=\"text-align: right;\">\n",
       "      <th></th>\n",
       "      <th>Pregnancies</th>\n",
       "      <th>Glucose</th>\n",
       "      <th>BloodPressure</th>\n",
       "      <th>SkinThickness</th>\n",
       "      <th>Insulin</th>\n",
       "      <th>BMI</th>\n",
       "      <th>DiabetesPedigreeFunction</th>\n",
       "      <th>Age</th>\n",
       "      <th>Outcome</th>\n",
       "    </tr>\n",
       "  </thead>\n",
       "  <tbody>\n",
       "    <tr>\n",
       "      <th>count</th>\n",
       "      <td>768.000000</td>\n",
       "      <td>768.000000</td>\n",
       "      <td>768.000000</td>\n",
       "      <td>768.000000</td>\n",
       "      <td>768.000000</td>\n",
       "      <td>768.000000</td>\n",
       "      <td>768.000000</td>\n",
       "      <td>768.000000</td>\n",
       "      <td>768.000000</td>\n",
       "    </tr>\n",
       "    <tr>\n",
       "      <th>mean</th>\n",
       "      <td>3.845052</td>\n",
       "      <td>121.656250</td>\n",
       "      <td>72.386719</td>\n",
       "      <td>29.108073</td>\n",
       "      <td>140.671875</td>\n",
       "      <td>32.457464</td>\n",
       "      <td>0.471876</td>\n",
       "      <td>33.240885</td>\n",
       "      <td>0.348958</td>\n",
       "    </tr>\n",
       "    <tr>\n",
       "      <th>std</th>\n",
       "      <td>3.369578</td>\n",
       "      <td>30.438286</td>\n",
       "      <td>12.096642</td>\n",
       "      <td>8.791221</td>\n",
       "      <td>86.383060</td>\n",
       "      <td>6.875151</td>\n",
       "      <td>0.331329</td>\n",
       "      <td>11.760232</td>\n",
       "      <td>0.476951</td>\n",
       "    </tr>\n",
       "    <tr>\n",
       "      <th>min</th>\n",
       "      <td>0.000000</td>\n",
       "      <td>44.000000</td>\n",
       "      <td>24.000000</td>\n",
       "      <td>7.000000</td>\n",
       "      <td>14.000000</td>\n",
       "      <td>18.200000</td>\n",
       "      <td>0.078000</td>\n",
       "      <td>21.000000</td>\n",
       "      <td>0.000000</td>\n",
       "    </tr>\n",
       "    <tr>\n",
       "      <th>25%</th>\n",
       "      <td>1.000000</td>\n",
       "      <td>99.750000</td>\n",
       "      <td>64.000000</td>\n",
       "      <td>25.000000</td>\n",
       "      <td>121.500000</td>\n",
       "      <td>27.500000</td>\n",
       "      <td>0.243750</td>\n",
       "      <td>24.000000</td>\n",
       "      <td>0.000000</td>\n",
       "    </tr>\n",
       "    <tr>\n",
       "      <th>50%</th>\n",
       "      <td>3.000000</td>\n",
       "      <td>117.000000</td>\n",
       "      <td>72.000000</td>\n",
       "      <td>29.000000</td>\n",
       "      <td>125.000000</td>\n",
       "      <td>32.400000</td>\n",
       "      <td>0.372500</td>\n",
       "      <td>29.000000</td>\n",
       "      <td>0.000000</td>\n",
       "    </tr>\n",
       "    <tr>\n",
       "      <th>75%</th>\n",
       "      <td>6.000000</td>\n",
       "      <td>140.250000</td>\n",
       "      <td>80.000000</td>\n",
       "      <td>32.000000</td>\n",
       "      <td>127.250000</td>\n",
       "      <td>36.600000</td>\n",
       "      <td>0.626250</td>\n",
       "      <td>41.000000</td>\n",
       "      <td>1.000000</td>\n",
       "    </tr>\n",
       "    <tr>\n",
       "      <th>max</th>\n",
       "      <td>17.000000</td>\n",
       "      <td>199.000000</td>\n",
       "      <td>122.000000</td>\n",
       "      <td>99.000000</td>\n",
       "      <td>846.000000</td>\n",
       "      <td>67.100000</td>\n",
       "      <td>2.420000</td>\n",
       "      <td>81.000000</td>\n",
       "      <td>1.000000</td>\n",
       "    </tr>\n",
       "  </tbody>\n",
       "</table>\n",
       "</div>"
      ],
      "text/plain": [
       "       Pregnancies     Glucose  BloodPressure  SkinThickness     Insulin  \\\n",
       "count   768.000000  768.000000     768.000000     768.000000  768.000000   \n",
       "mean      3.845052  121.656250      72.386719      29.108073  140.671875   \n",
       "std       3.369578   30.438286      12.096642       8.791221   86.383060   \n",
       "min       0.000000   44.000000      24.000000       7.000000   14.000000   \n",
       "25%       1.000000   99.750000      64.000000      25.000000  121.500000   \n",
       "50%       3.000000  117.000000      72.000000      29.000000  125.000000   \n",
       "75%       6.000000  140.250000      80.000000      32.000000  127.250000   \n",
       "max      17.000000  199.000000     122.000000      99.000000  846.000000   \n",
       "\n",
       "              BMI  DiabetesPedigreeFunction         Age     Outcome  \n",
       "count  768.000000                768.000000  768.000000  768.000000  \n",
       "mean    32.457464                  0.471876   33.240885    0.348958  \n",
       "std      6.875151                  0.331329   11.760232    0.476951  \n",
       "min     18.200000                  0.078000   21.000000    0.000000  \n",
       "25%     27.500000                  0.243750   24.000000    0.000000  \n",
       "50%     32.400000                  0.372500   29.000000    0.000000  \n",
       "75%     36.600000                  0.626250   41.000000    1.000000  \n",
       "max     67.100000                  2.420000   81.000000    1.000000  "
      ]
     },
     "execution_count": 50,
     "metadata": {},
     "output_type": "execute_result"
    }
   ],
   "source": [
    "df.describe()"
   ]
  },
  {
   "cell_type": "code",
   "execution_count": 51,
   "metadata": {},
   "outputs": [
    {
     "data": {
      "text/plain": [
       "<matplotlib.collections.PathCollection at 0x1f0ab0b5108>"
      ]
     },
     "execution_count": 51,
     "metadata": {},
     "output_type": "execute_result"
    },
    {
     "data": {
      "image/png": "[encoded data removed]",
      "text/plain": [
       "<Figure size 432x288 with 1 Axes>"
      ]
     },
     "metadata": {
      "needs_background": "light"
     },
     "output_type": "display_data"
    }
   ],
   "source": [
    "#AS we seen there are very few whose Gluocse value is less than 65\n",
    "plt.scatter(range(1,769),df.Glucose)\n"
   ]
  },
  {
   "cell_type": "code",
   "execution_count": 52,
   "metadata": {},
   "outputs": [
    {
     "data": {
      "text/html": [
       "<div>\n",
       "<style scoped>\n",
       "    .dataframe tbody tr th:only-of-type {\n",
       "        vertical-align: middle;\n",
       "    }\n",
       "\n",
       "    .dataframe tbody tr th {\n",
       "        vertical-align: top;\n",
       "    }\n",
       "\n",
       "    .dataframe thead th {\n",
       "        text-align: right;\n",
       "    }\n",
       "</style>\n",
       "<table border=\"1\" class=\"dataframe\">\n",
       "  <thead>\n",
       "    <tr style=\"text-align: right;\">\n",
       "      <th></th>\n",
       "      <th>Pregnancies</th>\n",
       "      <th>Glucose</th>\n",
       "      <th>BloodPressure</th>\n",
       "      <th>SkinThickness</th>\n",
       "      <th>Insulin</th>\n",
       "      <th>BMI</th>\n",
       "      <th>DiabetesPedigreeFunction</th>\n",
       "      <th>Age</th>\n",
       "      <th>Outcome</th>\n",
       "    </tr>\n",
       "  </thead>\n",
       "  <tbody>\n",
       "    <tr>\n",
       "      <th>0</th>\n",
       "      <td>6</td>\n",
       "      <td>148.0</td>\n",
       "      <td>72.0</td>\n",
       "      <td>35.0</td>\n",
       "      <td>125.0</td>\n",
       "      <td>33.6</td>\n",
       "      <td>0.627</td>\n",
       "      <td>50</td>\n",
       "      <td>1</td>\n",
       "    </tr>\n",
       "    <tr>\n",
       "      <th>1</th>\n",
       "      <td>1</td>\n",
       "      <td>85.0</td>\n",
       "      <td>66.0</td>\n",
       "      <td>29.0</td>\n",
       "      <td>125.0</td>\n",
       "      <td>26.6</td>\n",
       "      <td>0.351</td>\n",
       "      <td>31</td>\n",
       "      <td>0</td>\n",
       "    </tr>\n",
       "    <tr>\n",
       "      <th>2</th>\n",
       "      <td>8</td>\n",
       "      <td>183.0</td>\n",
       "      <td>64.0</td>\n",
       "      <td>29.0</td>\n",
       "      <td>125.0</td>\n",
       "      <td>23.3</td>\n",
       "      <td>0.672</td>\n",
       "      <td>32</td>\n",
       "      <td>1</td>\n",
       "    </tr>\n",
       "    <tr>\n",
       "      <th>3</th>\n",
       "      <td>1</td>\n",
       "      <td>89.0</td>\n",
       "      <td>66.0</td>\n",
       "      <td>23.0</td>\n",
       "      <td>94.0</td>\n",
       "      <td>28.1</td>\n",
       "      <td>0.167</td>\n",
       "      <td>21</td>\n",
       "      <td>0</td>\n",
       "    </tr>\n",
       "    <tr>\n",
       "      <th>4</th>\n",
       "      <td>0</td>\n",
       "      <td>137.0</td>\n",
       "      <td>40.0</td>\n",
       "      <td>35.0</td>\n",
       "      <td>168.0</td>\n",
       "      <td>43.1</td>\n",
       "      <td>2.288</td>\n",
       "      <td>33</td>\n",
       "      <td>1</td>\n",
       "    </tr>\n",
       "    <tr>\n",
       "      <th>...</th>\n",
       "      <td>...</td>\n",
       "      <td>...</td>\n",
       "      <td>...</td>\n",
       "      <td>...</td>\n",
       "      <td>...</td>\n",
       "      <td>...</td>\n",
       "      <td>...</td>\n",
       "      <td>...</td>\n",
       "      <td>...</td>\n",
       "    </tr>\n",
       "    <tr>\n",
       "      <th>763</th>\n",
       "      <td>10</td>\n",
       "      <td>101.0</td>\n",
       "      <td>76.0</td>\n",
       "      <td>48.0</td>\n",
       "      <td>180.0</td>\n",
       "      <td>32.9</td>\n",
       "      <td>0.171</td>\n",
       "      <td>63</td>\n",
       "      <td>0</td>\n",
       "    </tr>\n",
       "    <tr>\n",
       "      <th>764</th>\n",
       "      <td>2</td>\n",
       "      <td>122.0</td>\n",
       "      <td>70.0</td>\n",
       "      <td>27.0</td>\n",
       "      <td>125.0</td>\n",
       "      <td>36.8</td>\n",
       "      <td>0.340</td>\n",
       "      <td>27</td>\n",
       "      <td>0</td>\n",
       "    </tr>\n",
       "    <tr>\n",
       "      <th>765</th>\n",
       "      <td>5</td>\n",
       "      <td>121.0</td>\n",
       "      <td>72.0</td>\n",
       "      <td>23.0</td>\n",
       "      <td>112.0</td>\n",
       "      <td>26.2</td>\n",
       "      <td>0.245</td>\n",
       "      <td>30</td>\n",
       "      <td>0</td>\n",
       "    </tr>\n",
       "    <tr>\n",
       "      <th>766</th>\n",
       "      <td>1</td>\n",
       "      <td>126.0</td>\n",
       "      <td>60.0</td>\n",
       "      <td>29.0</td>\n",
       "      <td>125.0</td>\n",
       "      <td>30.1</td>\n",
       "      <td>0.349</td>\n",
       "      <td>47</td>\n",
       "      <td>1</td>\n",
       "    </tr>\n",
       "    <tr>\n",
       "      <th>767</th>\n",
       "      <td>1</td>\n",
       "      <td>93.0</td>\n",
       "      <td>70.0</td>\n",
       "      <td>31.0</td>\n",
       "      <td>125.0</td>\n",
       "      <td>30.4</td>\n",
       "      <td>0.315</td>\n",
       "      <td>23</td>\n",
       "      <td>0</td>\n",
       "    </tr>\n",
       "  </tbody>\n",
       "</table>\n",
       "<p>757 rows × 9 columns</p>\n",
       "</div>"
      ],
      "text/plain": [
       "     Pregnancies  Glucose  BloodPressure  SkinThickness  Insulin   BMI  \\\n",
       "0              6    148.0           72.0           35.0    125.0  33.6   \n",
       "1              1     85.0           66.0           29.0    125.0  26.6   \n",
       "2              8    183.0           64.0           29.0    125.0  23.3   \n",
       "3              1     89.0           66.0           23.0     94.0  28.1   \n",
       "4              0    137.0           40.0           35.0    168.0  43.1   \n",
       "..           ...      ...            ...            ...      ...   ...   \n",
       "763           10    101.0           76.0           48.0    180.0  32.9   \n",
       "764            2    122.0           70.0           27.0    125.0  36.8   \n",
       "765            5    121.0           72.0           23.0    112.0  26.2   \n",
       "766            1    126.0           60.0           29.0    125.0  30.1   \n",
       "767            1     93.0           70.0           31.0    125.0  30.4   \n",
       "\n",
       "     DiabetesPedigreeFunction  Age  Outcome  \n",
       "0                       0.627   50        1  \n",
       "1                       0.351   31        0  \n",
       "2                       0.672   32        1  \n",
       "3                       0.167   21        0  \n",
       "4                       2.288   33        1  \n",
       "..                        ...  ...      ...  \n",
       "763                     0.171   63        0  \n",
       "764                     0.340   27        0  \n",
       "765                     0.245   30        0  \n",
       "766                     0.349   47        1  \n",
       "767                     0.315   23        0  \n",
       "\n",
       "[757 rows x 9 columns]"
      ]
     },
     "execution_count": 52,
     "metadata": {},
     "output_type": "execute_result"
    }
   ],
   "source": [
    "df1 = df[df['Glucose']>70]\n",
    "df1"
   ]
  },
  {
   "cell_type": "code",
   "execution_count": 53,
   "metadata": {},
   "outputs": [
    {
     "data": {
      "text/plain": [
       "<matplotlib.collections.PathCollection at 0x1f0ab0dd548>"
      ]
     },
     "execution_count": 53,
     "metadata": {},
     "output_type": "execute_result"
    },
    {
     "data": {
      "image/png": "[encoded data removed]",
      "text/plain": [
       "<Figure size 432x288 with 1 Axes>"
      ]
     },
     "metadata": {
      "needs_background": "light"
     },
     "output_type": "display_data"
    }
   ],
   "source": [
    "plt.scatter(range(1,758),df1.Glucose)"
   ]
  },
  {
   "cell_type": "code",
   "execution_count": 54,
   "metadata": {},
   "outputs": [
    {
     "data": {
      "text/plain": [
       "<matplotlib.collections.PathCollection at 0x1f0ab153c88>"
      ]
     },
     "execution_count": 54,
     "metadata": {},
     "output_type": "execute_result"
    },
    {
     "data": {
      "image/png": "[encoded data removed]",
      "text/plain": [
       "<Figure size 432x288 with 1 Axes>"
      ]
     },
     "metadata": {
      "needs_background": "light"
     },
     "output_type": "display_data"
    }
   ],
   "source": [
    "#as we seen there are very few those BMI index are greater than 55\n",
    "plt.scatter(range(1,769),df.BMI)"
   ]
  },
  {
   "cell_type": "code",
   "execution_count": 55,
   "metadata": {},
   "outputs": [],
   "source": [
    "df2 = df1[df1['BMI']<50]"
   ]
  },
  {
   "cell_type": "code",
   "execution_count": 56,
   "metadata": {},
   "outputs": [
    {
     "data": {
      "text/html": [
       "<div>\n",
       "<style scoped>\n",
       "    .dataframe tbody tr th:only-of-type {\n",
       "        vertical-align: middle;\n",
       "    }\n",
       "\n",
       "    .dataframe tbody tr th {\n",
       "        vertical-align: top;\n",
       "    }\n",
       "\n",
       "    .dataframe thead th {\n",
       "        text-align: right;\n",
       "    }\n",
       "</style>\n",
       "<table border=\"1\" class=\"dataframe\">\n",
       "  <thead>\n",
       "    <tr style=\"text-align: right;\">\n",
       "      <th></th>\n",
       "      <th>Pregnancies</th>\n",
       "      <th>Glucose</th>\n",
       "      <th>BloodPressure</th>\n",
       "      <th>SkinThickness</th>\n",
       "      <th>Insulin</th>\n",
       "      <th>BMI</th>\n",
       "      <th>DiabetesPedigreeFunction</th>\n",
       "      <th>Age</th>\n",
       "      <th>Outcome</th>\n",
       "    </tr>\n",
       "  </thead>\n",
       "  <tbody>\n",
       "    <tr>\n",
       "      <th>0</th>\n",
       "      <td>6</td>\n",
       "      <td>148.0</td>\n",
       "      <td>72.0</td>\n",
       "      <td>35.0</td>\n",
       "      <td>125.0</td>\n",
       "      <td>33.6</td>\n",
       "      <td>0.627</td>\n",
       "      <td>50</td>\n",
       "      <td>1</td>\n",
       "    </tr>\n",
       "    <tr>\n",
       "      <th>1</th>\n",
       "      <td>1</td>\n",
       "      <td>85.0</td>\n",
       "      <td>66.0</td>\n",
       "      <td>29.0</td>\n",
       "      <td>125.0</td>\n",
       "      <td>26.6</td>\n",
       "      <td>0.351</td>\n",
       "      <td>31</td>\n",
       "      <td>0</td>\n",
       "    </tr>\n",
       "    <tr>\n",
       "      <th>2</th>\n",
       "      <td>8</td>\n",
       "      <td>183.0</td>\n",
       "      <td>64.0</td>\n",
       "      <td>29.0</td>\n",
       "      <td>125.0</td>\n",
       "      <td>23.3</td>\n",
       "      <td>0.672</td>\n",
       "      <td>32</td>\n",
       "      <td>1</td>\n",
       "    </tr>\n",
       "    <tr>\n",
       "      <th>3</th>\n",
       "      <td>1</td>\n",
       "      <td>89.0</td>\n",
       "      <td>66.0</td>\n",
       "      <td>23.0</td>\n",
       "      <td>94.0</td>\n",
       "      <td>28.1</td>\n",
       "      <td>0.167</td>\n",
       "      <td>21</td>\n",
       "      <td>0</td>\n",
       "    </tr>\n",
       "    <tr>\n",
       "      <th>4</th>\n",
       "      <td>0</td>\n",
       "      <td>137.0</td>\n",
       "      <td>40.0</td>\n",
       "      <td>35.0</td>\n",
       "      <td>168.0</td>\n",
       "      <td>43.1</td>\n",
       "      <td>2.288</td>\n",
       "      <td>33</td>\n",
       "      <td>1</td>\n",
       "    </tr>\n",
       "    <tr>\n",
       "      <th>...</th>\n",
       "      <td>...</td>\n",
       "      <td>...</td>\n",
       "      <td>...</td>\n",
       "      <td>...</td>\n",
       "      <td>...</td>\n",
       "      <td>...</td>\n",
       "      <td>...</td>\n",
       "      <td>...</td>\n",
       "      <td>...</td>\n",
       "    </tr>\n",
       "    <tr>\n",
       "      <th>763</th>\n",
       "      <td>10</td>\n",
       "      <td>101.0</td>\n",
       "      <td>76.0</td>\n",
       "      <td>48.0</td>\n",
       "      <td>180.0</td>\n",
       "      <td>32.9</td>\n",
       "      <td>0.171</td>\n",
       "      <td>63</td>\n",
       "      <td>0</td>\n",
       "    </tr>\n",
       "    <tr>\n",
       "      <th>764</th>\n",
       "      <td>2</td>\n",
       "      <td>122.0</td>\n",
       "      <td>70.0</td>\n",
       "      <td>27.0</td>\n",
       "      <td>125.0</td>\n",
       "      <td>36.8</td>\n",
       "      <td>0.340</td>\n",
       "      <td>27</td>\n",
       "      <td>0</td>\n",
       "    </tr>\n",
       "    <tr>\n",
       "      <th>765</th>\n",
       "      <td>5</td>\n",
       "      <td>121.0</td>\n",
       "      <td>72.0</td>\n",
       "      <td>23.0</td>\n",
       "      <td>112.0</td>\n",
       "      <td>26.2</td>\n",
       "      <td>0.245</td>\n",
       "      <td>30</td>\n",
       "      <td>0</td>\n",
       "    </tr>\n",
       "    <tr>\n",
       "      <th>766</th>\n",
       "      <td>1</td>\n",
       "      <td>126.0</td>\n",
       "      <td>60.0</td>\n",
       "      <td>29.0</td>\n",
       "      <td>125.0</td>\n",
       "      <td>30.1</td>\n",
       "      <td>0.349</td>\n",
       "      <td>47</td>\n",
       "      <td>1</td>\n",
       "    </tr>\n",
       "    <tr>\n",
       "      <th>767</th>\n",
       "      <td>1</td>\n",
       "      <td>93.0</td>\n",
       "      <td>70.0</td>\n",
       "      <td>31.0</td>\n",
       "      <td>125.0</td>\n",
       "      <td>30.4</td>\n",
       "      <td>0.315</td>\n",
       "      <td>23</td>\n",
       "      <td>0</td>\n",
       "    </tr>\n",
       "  </tbody>\n",
       "</table>\n",
       "<p>748 rows × 9 columns</p>\n",
       "</div>"
      ],
      "text/plain": [
       "     Pregnancies  Glucose  BloodPressure  SkinThickness  Insulin   BMI  \\\n",
       "0              6    148.0           72.0           35.0    125.0  33.6   \n",
       "1              1     85.0           66.0           29.0    125.0  26.6   \n",
       "2              8    183.0           64.0           29.0    125.0  23.3   \n",
       "3              1     89.0           66.0           23.0     94.0  28.1   \n",
       "4              0    137.0           40.0           35.0    168.0  43.1   \n",
       "..           ...      ...            ...            ...      ...   ...   \n",
       "763           10    101.0           76.0           48.0    180.0  32.9   \n",
       "764            2    122.0           70.0           27.0    125.0  36.8   \n",
       "765            5    121.0           72.0           23.0    112.0  26.2   \n",
       "766            1    126.0           60.0           29.0    125.0  30.1   \n",
       "767            1     93.0           70.0           31.0    125.0  30.4   \n",
       "\n",
       "     DiabetesPedigreeFunction  Age  Outcome  \n",
       "0                       0.627   50        1  \n",
       "1                       0.351   31        0  \n",
       "2                       0.672   32        1  \n",
       "3                       0.167   21        0  \n",
       "4                       2.288   33        1  \n",
       "..                        ...  ...      ...  \n",
       "763                     0.171   63        0  \n",
       "764                     0.340   27        0  \n",
       "765                     0.245   30        0  \n",
       "766                     0.349   47        1  \n",
       "767                     0.315   23        0  \n",
       "\n",
       "[748 rows x 9 columns]"
      ]
     },
     "execution_count": 56,
     "metadata": {},
     "output_type": "execute_result"
    }
   ],
   "source": [
    "df2"
   ]
  },
  {
   "cell_type": "code",
   "execution_count": 57,
   "metadata": {},
   "outputs": [
    {
     "data": {
      "text/plain": [
       "<matplotlib.collections.PathCollection at 0x1f0ab1c1848>"
      ]
     },
     "execution_count": 57,
     "metadata": {},
     "output_type": "execute_result"
    },
    {
     "data": {
      "image/png": "[encoded data removed]",
      "text/plain": [
       "<Figure size 432x288 with 1 Axes>"
      ]
     },
     "metadata": {
      "needs_background": "light"
     },
     "output_type": "display_data"
    }
   ],
   "source": [
    "plt.scatter(range(1,749),df2.BMI)"
   ]
  },
  {
   "cell_type": "code",
   "execution_count": 58,
   "metadata": {},
   "outputs": [],
   "source": [
    "X1= df2.iloc[:,:-1].values\n",
    "\n",
    "Y1 = df2.iloc[:,-1].values"
   ]
  },
  {
   "cell_type": "code",
   "execution_count": 59,
   "metadata": {},
   "outputs": [],
   "source": [
    "from sklearn.model_selection import train_test_split\n",
    "X_train1, X_test1, Y_train1, Y_test1 = train_test_split(X1, Y1, test_size = 0.3, random_state = 42)"
   ]
  },
  {
   "cell_type": "code",
   "execution_count": 60,
   "metadata": {},
   "outputs": [],
   "source": [
    "from  sklearn.preprocessing import StandardScaler \n",
    "sc = StandardScaler()\n",
    "X_train1 = sc.fit_transform(X_train1)\n",
    "X_test1  = sc.transform(X_test1)"
   ]
  },
  {
   "cell_type": "code",
   "execution_count": 61,
   "metadata": {},
   "outputs": [],
   "source": [
    "#Using LogisticRegression\n",
    "from sklearn.linear_model import LogisticRegression\n",
    "LR = LogisticRegression(random_state=42)\n",
    "LR.fit(X_train1,Y_train1)\n",
    "YPO = LR.predict(X_test1)"
   ]
  },
  {
   "cell_type": "code",
   "execution_count": 62,
   "metadata": {},
   "outputs": [
    {
     "name": "stdout",
     "output_type": "stream",
     "text": [
      "0.7820267686424475\n",
      "0.7555555555555555\n",
      "[[121  27]\n",
      " [ 28  49]]\n"
     ]
    }
   ],
   "source": [
    "print(LR.score(X_train1,Y_train1))\n",
    "print(accuracy_score(Y_test1,YPO))\n",
    "print(confusion_matrix(Y_test1,YPO))"
   ]
  },
  {
   "cell_type": "code",
   "execution_count": 63,
   "metadata": {},
   "outputs": [],
   "source": [
    "#Using DecisionTree\n",
    "from sklearn.tree import DecisionTreeClassifier\n",
    "DTR = DecisionTreeClassifier(random_state=42)\n",
    "DTR.fit(X_train1, Y_train1)\n",
    "YPO1 = DTR.predict(X_test1)\n"
   ]
  },
  {
   "cell_type": "code",
   "execution_count": 64,
   "metadata": {},
   "outputs": [
    {
     "name": "stdout",
     "output_type": "stream",
     "text": [
      "1.0\n",
      "0.6533333333333333\n",
      "[[100  48]\n",
      " [ 30  47]]\n"
     ]
    }
   ],
   "source": [
    "print(DTR.score(X_train1,Y_train1))\n",
    "\n",
    "print(accuracy_score(Y_test1,YPO1))\n",
    "print(confusion_matrix(Y_test1,YPO1))"
   ]
  },
  {
   "cell_type": "code",
   "execution_count": 65,
   "metadata": {},
   "outputs": [],
   "source": [
    "from sklearn.ensemble import RandomForestClassifier\n",
    "RFG = RandomForestClassifier(n_estimators=120,random_state=42)\n",
    "RFG.fit(X_train1,Y_train1)\n",
    "YPO2 = RFG.predict(X_test1)\n"
   ]
  },
  {
   "cell_type": "code",
   "execution_count": 66,
   "metadata": {},
   "outputs": [
    {
     "name": "stdout",
     "output_type": "stream",
     "text": [
      "1.0\n",
      "0.7244444444444444\n",
      "[[115  33]\n",
      " [ 29  48]]\n"
     ]
    }
   ],
   "source": [
    "print(RFG.score(X_train1,Y_train1))\n",
    "print(accuracy_score(Y_test1,YPO2))\n",
    "print(confusion_matrix(Y_test1,YPO2))"
   ]
  },
  {
   "cell_type": "code",
   "execution_count": 67,
   "metadata": {},
   "outputs": [
    {
     "data": {
      "text/html": [
       "<div>\n",
       "<style scoped>\n",
       "    .dataframe tbody tr th:only-of-type {\n",
       "        vertical-align: middle;\n",
       "    }\n",
       "\n",
       "    .dataframe tbody tr th {\n",
       "        vertical-align: top;\n",
       "    }\n",
       "\n",
       "    .dataframe thead th {\n",
       "        text-align: right;\n",
       "    }\n",
       "</style>\n",
       "<table border=\"1\" class=\"dataframe\">\n",
       "  <thead>\n",
       "    <tr style=\"text-align: right;\">\n",
       "      <th></th>\n",
       "      <th>Pregnancies</th>\n",
       "      <th>Glucose</th>\n",
       "      <th>BloodPressure</th>\n",
       "      <th>SkinThickness</th>\n",
       "      <th>Insulin</th>\n",
       "      <th>BMI</th>\n",
       "      <th>DiabetesPedigreeFunction</th>\n",
       "      <th>Age</th>\n",
       "      <th>Outcome</th>\n",
       "    </tr>\n",
       "  </thead>\n",
       "  <tbody>\n",
       "    <tr>\n",
       "      <th>0</th>\n",
       "      <td>6</td>\n",
       "      <td>148.0</td>\n",
       "      <td>72.0</td>\n",
       "      <td>35.0</td>\n",
       "      <td>125.0</td>\n",
       "      <td>33.6</td>\n",
       "      <td>0.627</td>\n",
       "      <td>50</td>\n",
       "      <td>1</td>\n",
       "    </tr>\n",
       "    <tr>\n",
       "      <th>1</th>\n",
       "      <td>1</td>\n",
       "      <td>85.0</td>\n",
       "      <td>66.0</td>\n",
       "      <td>29.0</td>\n",
       "      <td>125.0</td>\n",
       "      <td>26.6</td>\n",
       "      <td>0.351</td>\n",
       "      <td>31</td>\n",
       "      <td>0</td>\n",
       "    </tr>\n",
       "    <tr>\n",
       "      <th>2</th>\n",
       "      <td>8</td>\n",
       "      <td>183.0</td>\n",
       "      <td>64.0</td>\n",
       "      <td>29.0</td>\n",
       "      <td>125.0</td>\n",
       "      <td>23.3</td>\n",
       "      <td>0.672</td>\n",
       "      <td>32</td>\n",
       "      <td>1</td>\n",
       "    </tr>\n",
       "    <tr>\n",
       "      <th>3</th>\n",
       "      <td>1</td>\n",
       "      <td>89.0</td>\n",
       "      <td>66.0</td>\n",
       "      <td>23.0</td>\n",
       "      <td>94.0</td>\n",
       "      <td>28.1</td>\n",
       "      <td>0.167</td>\n",
       "      <td>21</td>\n",
       "      <td>0</td>\n",
       "    </tr>\n",
       "    <tr>\n",
       "      <th>4</th>\n",
       "      <td>0</td>\n",
       "      <td>137.0</td>\n",
       "      <td>40.0</td>\n",
       "      <td>35.0</td>\n",
       "      <td>168.0</td>\n",
       "      <td>43.1</td>\n",
       "      <td>2.288</td>\n",
       "      <td>33</td>\n",
       "      <td>1</td>\n",
       "    </tr>\n",
       "    <tr>\n",
       "      <th>...</th>\n",
       "      <td>...</td>\n",
       "      <td>...</td>\n",
       "      <td>...</td>\n",
       "      <td>...</td>\n",
       "      <td>...</td>\n",
       "      <td>...</td>\n",
       "      <td>...</td>\n",
       "      <td>...</td>\n",
       "      <td>...</td>\n",
       "    </tr>\n",
       "    <tr>\n",
       "      <th>763</th>\n",
       "      <td>10</td>\n",
       "      <td>101.0</td>\n",
       "      <td>76.0</td>\n",
       "      <td>48.0</td>\n",
       "      <td>180.0</td>\n",
       "      <td>32.9</td>\n",
       "      <td>0.171</td>\n",
       "      <td>63</td>\n",
       "      <td>0</td>\n",
       "    </tr>\n",
       "    <tr>\n",
       "      <th>764</th>\n",
       "      <td>2</td>\n",
       "      <td>122.0</td>\n",
       "      <td>70.0</td>\n",
       "      <td>27.0</td>\n",
       "      <td>125.0</td>\n",
       "      <td>36.8</td>\n",
       "      <td>0.340</td>\n",
       "      <td>27</td>\n",
       "      <td>0</td>\n",
       "    </tr>\n",
       "    <tr>\n",
       "      <th>765</th>\n",
       "      <td>5</td>\n",
       "      <td>121.0</td>\n",
       "      <td>72.0</td>\n",
       "      <td>23.0</td>\n",
       "      <td>112.0</td>\n",
       "      <td>26.2</td>\n",
       "      <td>0.245</td>\n",
       "      <td>30</td>\n",
       "      <td>0</td>\n",
       "    </tr>\n",
       "    <tr>\n",
       "      <th>766</th>\n",
       "      <td>1</td>\n",
       "      <td>126.0</td>\n",
       "      <td>60.0</td>\n",
       "      <td>29.0</td>\n",
       "      <td>125.0</td>\n",
       "      <td>30.1</td>\n",
       "      <td>0.349</td>\n",
       "      <td>47</td>\n",
       "      <td>1</td>\n",
       "    </tr>\n",
       "    <tr>\n",
       "      <th>767</th>\n",
       "      <td>1</td>\n",
       "      <td>93.0</td>\n",
       "      <td>70.0</td>\n",
       "      <td>31.0</td>\n",
       "      <td>125.0</td>\n",
       "      <td>30.4</td>\n",
       "      <td>0.315</td>\n",
       "      <td>23</td>\n",
       "      <td>0</td>\n",
       "    </tr>\n",
       "  </tbody>\n",
       "</table>\n",
       "<p>748 rows × 9 columns</p>\n",
       "</div>"
      ],
      "text/plain": [
       "     Pregnancies  Glucose  BloodPressure  SkinThickness  Insulin   BMI  \\\n",
       "0              6    148.0           72.0           35.0    125.0  33.6   \n",
       "1              1     85.0           66.0           29.0    125.0  26.6   \n",
       "2              8    183.0           64.0           29.0    125.0  23.3   \n",
       "3              1     89.0           66.0           23.0     94.0  28.1   \n",
       "4              0    137.0           40.0           35.0    168.0  43.1   \n",
       "..           ...      ...            ...            ...      ...   ...   \n",
       "763           10    101.0           76.0           48.0    180.0  32.9   \n",
       "764            2    122.0           70.0           27.0    125.0  36.8   \n",
       "765            5    121.0           72.0           23.0    112.0  26.2   \n",
       "766            1    126.0           60.0           29.0    125.0  30.1   \n",
       "767            1     93.0           70.0           31.0    125.0  30.4   \n",
       "\n",
       "     DiabetesPedigreeFunction  Age  Outcome  \n",
       "0                       0.627   50        1  \n",
       "1                       0.351   31        0  \n",
       "2                       0.672   32        1  \n",
       "3                       0.167   21        0  \n",
       "4                       2.288   33        1  \n",
       "..                        ...  ...      ...  \n",
       "763                     0.171   63        0  \n",
       "764                     0.340   27        0  \n",
       "765                     0.245   30        0  \n",
       "766                     0.349   47        1  \n",
       "767                     0.315   23        0  \n",
       "\n",
       "[748 rows x 9 columns]"
      ]
     },
     "execution_count": 67,
     "metadata": {},
     "output_type": "execute_result"
    }
   ],
   "source": [
    "df2"
   ]
  },
  {
   "cell_type": "code",
   "execution_count": 68,
   "metadata": {},
   "outputs": [
    {
     "data": {
      "text/html": [
       "<div>\n",
       "<style scoped>\n",
       "    .dataframe tbody tr th:only-of-type {\n",
       "        vertical-align: middle;\n",
       "    }\n",
       "\n",
       "    .dataframe tbody tr th {\n",
       "        vertical-align: top;\n",
       "    }\n",
       "\n",
       "    .dataframe thead th {\n",
       "        text-align: right;\n",
       "    }\n",
       "</style>\n",
       "<table border=\"1\" class=\"dataframe\">\n",
       "  <thead>\n",
       "    <tr style=\"text-align: right;\">\n",
       "      <th></th>\n",
       "      <th>Pregnancies</th>\n",
       "      <th>Glucose</th>\n",
       "      <th>BloodPressure</th>\n",
       "      <th>SkinThickness</th>\n",
       "      <th>Insulin</th>\n",
       "      <th>BMI</th>\n",
       "      <th>DiabetesPedigreeFunction</th>\n",
       "      <th>Age</th>\n",
       "      <th>Outcome</th>\n",
       "    </tr>\n",
       "  </thead>\n",
       "  <tbody>\n",
       "    <tr>\n",
       "      <th>0</th>\n",
       "      <td>6</td>\n",
       "      <td>148.0</td>\n",
       "      <td>72.0</td>\n",
       "      <td>35.0</td>\n",
       "      <td>125.0</td>\n",
       "      <td>33.6</td>\n",
       "      <td>0.627</td>\n",
       "      <td>50</td>\n",
       "      <td>1</td>\n",
       "    </tr>\n",
       "    <tr>\n",
       "      <th>1</th>\n",
       "      <td>1</td>\n",
       "      <td>85.0</td>\n",
       "      <td>66.0</td>\n",
       "      <td>29.0</td>\n",
       "      <td>125.0</td>\n",
       "      <td>26.6</td>\n",
       "      <td>0.351</td>\n",
       "      <td>31</td>\n",
       "      <td>0</td>\n",
       "    </tr>\n",
       "    <tr>\n",
       "      <th>2</th>\n",
       "      <td>8</td>\n",
       "      <td>183.0</td>\n",
       "      <td>64.0</td>\n",
       "      <td>29.0</td>\n",
       "      <td>125.0</td>\n",
       "      <td>23.3</td>\n",
       "      <td>0.672</td>\n",
       "      <td>32</td>\n",
       "      <td>1</td>\n",
       "    </tr>\n",
       "    <tr>\n",
       "      <th>3</th>\n",
       "      <td>1</td>\n",
       "      <td>89.0</td>\n",
       "      <td>66.0</td>\n",
       "      <td>23.0</td>\n",
       "      <td>94.0</td>\n",
       "      <td>28.1</td>\n",
       "      <td>0.167</td>\n",
       "      <td>21</td>\n",
       "      <td>0</td>\n",
       "    </tr>\n",
       "    <tr>\n",
       "      <th>4</th>\n",
       "      <td>0</td>\n",
       "      <td>137.0</td>\n",
       "      <td>40.0</td>\n",
       "      <td>35.0</td>\n",
       "      <td>168.0</td>\n",
       "      <td>43.1</td>\n",
       "      <td>2.288</td>\n",
       "      <td>33</td>\n",
       "      <td>1</td>\n",
       "    </tr>\n",
       "    <tr>\n",
       "      <th>...</th>\n",
       "      <td>...</td>\n",
       "      <td>...</td>\n",
       "      <td>...</td>\n",
       "      <td>...</td>\n",
       "      <td>...</td>\n",
       "      <td>...</td>\n",
       "      <td>...</td>\n",
       "      <td>...</td>\n",
       "      <td>...</td>\n",
       "    </tr>\n",
       "    <tr>\n",
       "      <th>763</th>\n",
       "      <td>10</td>\n",
       "      <td>101.0</td>\n",
       "      <td>76.0</td>\n",
       "      <td>48.0</td>\n",
       "      <td>180.0</td>\n",
       "      <td>32.9</td>\n",
       "      <td>0.171</td>\n",
       "      <td>63</td>\n",
       "      <td>0</td>\n",
       "    </tr>\n",
       "    <tr>\n",
       "      <th>764</th>\n",
       "      <td>2</td>\n",
       "      <td>122.0</td>\n",
       "      <td>70.0</td>\n",
       "      <td>27.0</td>\n",
       "      <td>125.0</td>\n",
       "      <td>36.8</td>\n",
       "      <td>0.340</td>\n",
       "      <td>27</td>\n",
       "      <td>0</td>\n",
       "    </tr>\n",
       "    <tr>\n",
       "      <th>765</th>\n",
       "      <td>5</td>\n",
       "      <td>121.0</td>\n",
       "      <td>72.0</td>\n",
       "      <td>23.0</td>\n",
       "      <td>112.0</td>\n",
       "      <td>26.2</td>\n",
       "      <td>0.245</td>\n",
       "      <td>30</td>\n",
       "      <td>0</td>\n",
       "    </tr>\n",
       "    <tr>\n",
       "      <th>766</th>\n",
       "      <td>1</td>\n",
       "      <td>126.0</td>\n",
       "      <td>60.0</td>\n",
       "      <td>29.0</td>\n",
       "      <td>125.0</td>\n",
       "      <td>30.1</td>\n",
       "      <td>0.349</td>\n",
       "      <td>47</td>\n",
       "      <td>1</td>\n",
       "    </tr>\n",
       "    <tr>\n",
       "      <th>767</th>\n",
       "      <td>1</td>\n",
       "      <td>93.0</td>\n",
       "      <td>70.0</td>\n",
       "      <td>31.0</td>\n",
       "      <td>125.0</td>\n",
       "      <td>30.4</td>\n",
       "      <td>0.315</td>\n",
       "      <td>23</td>\n",
       "      <td>0</td>\n",
       "    </tr>\n",
       "  </tbody>\n",
       "</table>\n",
       "<p>768 rows × 9 columns</p>\n",
       "</div>"
      ],
      "text/plain": [
       "     Pregnancies  Glucose  BloodPressure  SkinThickness  Insulin   BMI  \\\n",
       "0              6    148.0           72.0           35.0    125.0  33.6   \n",
       "1              1     85.0           66.0           29.0    125.0  26.6   \n",
       "2              8    183.0           64.0           29.0    125.0  23.3   \n",
       "3              1     89.0           66.0           23.0     94.0  28.1   \n",
       "4              0    137.0           40.0           35.0    168.0  43.1   \n",
       "..           ...      ...            ...            ...      ...   ...   \n",
       "763           10    101.0           76.0           48.0    180.0  32.9   \n",
       "764            2    122.0           70.0           27.0    125.0  36.8   \n",
       "765            5    121.0           72.0           23.0    112.0  26.2   \n",
       "766            1    126.0           60.0           29.0    125.0  30.1   \n",
       "767            1     93.0           70.0           31.0    125.0  30.4   \n",
       "\n",
       "     DiabetesPedigreeFunction  Age  Outcome  \n",
       "0                       0.627   50        1  \n",
       "1                       0.351   31        0  \n",
       "2                       0.672   32        1  \n",
       "3                       0.167   21        0  \n",
       "4                       2.288   33        1  \n",
       "..                        ...  ...      ...  \n",
       "763                     0.171   63        0  \n",
       "764                     0.340   27        0  \n",
       "765                     0.245   30        0  \n",
       "766                     0.349   47        1  \n",
       "767                     0.315   23        0  \n",
       "\n",
       "[768 rows x 9 columns]"
      ]
     },
     "execution_count": 68,
     "metadata": {},
     "output_type": "execute_result"
    }
   ],
   "source": [
    "df"
   ]
  },
  {
   "cell_type": "markdown",
   "metadata": {},
   "source": [
    "# removing column"
   ]
  },
  {
   "cell_type": "code",
   "execution_count": 70,
   "metadata": {},
   "outputs": [],
   "source": [
    "df3 = df.drop('BloodPressure',axis=1)\n",
    "df3 = df3.drop('SkinThickness',axis=1)"
   ]
  },
  {
   "cell_type": "code",
   "execution_count": 71,
   "metadata": {},
   "outputs": [
    {
     "data": {
      "text/html": [
       "<div>\n",
       "<style scoped>\n",
       "    .dataframe tbody tr th:only-of-type {\n",
       "        vertical-align: middle;\n",
       "    }\n",
       "\n",
       "    .dataframe tbody tr th {\n",
       "        vertical-align: top;\n",
       "    }\n",
       "\n",
       "    .dataframe thead th {\n",
       "        text-align: right;\n",
       "    }\n",
       "</style>\n",
       "<table border=\"1\" class=\"dataframe\">\n",
       "  <thead>\n",
       "    <tr style=\"text-align: right;\">\n",
       "      <th></th>\n",
       "      <th>Pregnancies</th>\n",
       "      <th>Glucose</th>\n",
       "      <th>BloodPressure</th>\n",
       "      <th>SkinThickness</th>\n",
       "      <th>Insulin</th>\n",
       "      <th>BMI</th>\n",
       "      <th>DiabetesPedigreeFunction</th>\n",
       "      <th>Age</th>\n",
       "      <th>Outcome</th>\n",
       "    </tr>\n",
       "  </thead>\n",
       "  <tbody>\n",
       "    <tr>\n",
       "      <th>0</th>\n",
       "      <td>6</td>\n",
       "      <td>148.0</td>\n",
       "      <td>72.0</td>\n",
       "      <td>35.0</td>\n",
       "      <td>125.0</td>\n",
       "      <td>33.6</td>\n",
       "      <td>0.627</td>\n",
       "      <td>50</td>\n",
       "      <td>1</td>\n",
       "    </tr>\n",
       "    <tr>\n",
       "      <th>1</th>\n",
       "      <td>1</td>\n",
       "      <td>85.0</td>\n",
       "      <td>66.0</td>\n",
       "      <td>29.0</td>\n",
       "      <td>125.0</td>\n",
       "      <td>26.6</td>\n",
       "      <td>0.351</td>\n",
       "      <td>31</td>\n",
       "      <td>0</td>\n",
       "    </tr>\n",
       "    <tr>\n",
       "      <th>2</th>\n",
       "      <td>8</td>\n",
       "      <td>183.0</td>\n",
       "      <td>64.0</td>\n",
       "      <td>29.0</td>\n",
       "      <td>125.0</td>\n",
       "      <td>23.3</td>\n",
       "      <td>0.672</td>\n",
       "      <td>32</td>\n",
       "      <td>1</td>\n",
       "    </tr>\n",
       "    <tr>\n",
       "      <th>3</th>\n",
       "      <td>1</td>\n",
       "      <td>89.0</td>\n",
       "      <td>66.0</td>\n",
       "      <td>23.0</td>\n",
       "      <td>94.0</td>\n",
       "      <td>28.1</td>\n",
       "      <td>0.167</td>\n",
       "      <td>21</td>\n",
       "      <td>0</td>\n",
       "    </tr>\n",
       "    <tr>\n",
       "      <th>4</th>\n",
       "      <td>0</td>\n",
       "      <td>137.0</td>\n",
       "      <td>40.0</td>\n",
       "      <td>35.0</td>\n",
       "      <td>168.0</td>\n",
       "      <td>43.1</td>\n",
       "      <td>2.288</td>\n",
       "      <td>33</td>\n",
       "      <td>1</td>\n",
       "    </tr>\n",
       "    <tr>\n",
       "      <th>...</th>\n",
       "      <td>...</td>\n",
       "      <td>...</td>\n",
       "      <td>...</td>\n",
       "      <td>...</td>\n",
       "      <td>...</td>\n",
       "      <td>...</td>\n",
       "      <td>...</td>\n",
       "      <td>...</td>\n",
       "      <td>...</td>\n",
       "    </tr>\n",
       "    <tr>\n",
       "      <th>763</th>\n",
       "      <td>10</td>\n",
       "      <td>101.0</td>\n",
       "      <td>76.0</td>\n",
       "      <td>48.0</td>\n",
       "      <td>180.0</td>\n",
       "      <td>32.9</td>\n",
       "      <td>0.171</td>\n",
       "      <td>63</td>\n",
       "      <td>0</td>\n",
       "    </tr>\n",
       "    <tr>\n",
       "      <th>764</th>\n",
       "      <td>2</td>\n",
       "      <td>122.0</td>\n",
       "      <td>70.0</td>\n",
       "      <td>27.0</td>\n",
       "      <td>125.0</td>\n",
       "      <td>36.8</td>\n",
       "      <td>0.340</td>\n",
       "      <td>27</td>\n",
       "      <td>0</td>\n",
       "    </tr>\n",
       "    <tr>\n",
       "      <th>765</th>\n",
       "      <td>5</td>\n",
       "      <td>121.0</td>\n",
       "      <td>72.0</td>\n",
       "      <td>23.0</td>\n",
       "      <td>112.0</td>\n",
       "      <td>26.2</td>\n",
       "      <td>0.245</td>\n",
       "      <td>30</td>\n",
       "      <td>0</td>\n",
       "    </tr>\n",
       "    <tr>\n",
       "      <th>766</th>\n",
       "      <td>1</td>\n",
       "      <td>126.0</td>\n",
       "      <td>60.0</td>\n",
       "      <td>29.0</td>\n",
       "      <td>125.0</td>\n",
       "      <td>30.1</td>\n",
       "      <td>0.349</td>\n",
       "      <td>47</td>\n",
       "      <td>1</td>\n",
       "    </tr>\n",
       "    <tr>\n",
       "      <th>767</th>\n",
       "      <td>1</td>\n",
       "      <td>93.0</td>\n",
       "      <td>70.0</td>\n",
       "      <td>31.0</td>\n",
       "      <td>125.0</td>\n",
       "      <td>30.4</td>\n",
       "      <td>0.315</td>\n",
       "      <td>23</td>\n",
       "      <td>0</td>\n",
       "    </tr>\n",
       "  </tbody>\n",
       "</table>\n",
       "<p>768 rows × 9 columns</p>\n",
       "</div>"
      ],
      "text/plain": [
       "     Pregnancies  Glucose  BloodPressure  SkinThickness  Insulin   BMI  \\\n",
       "0              6    148.0           72.0           35.0    125.0  33.6   \n",
       "1              1     85.0           66.0           29.0    125.0  26.6   \n",
       "2              8    183.0           64.0           29.0    125.0  23.3   \n",
       "3              1     89.0           66.0           23.0     94.0  28.1   \n",
       "4              0    137.0           40.0           35.0    168.0  43.1   \n",
       "..           ...      ...            ...            ...      ...   ...   \n",
       "763           10    101.0           76.0           48.0    180.0  32.9   \n",
       "764            2    122.0           70.0           27.0    125.0  36.8   \n",
       "765            5    121.0           72.0           23.0    112.0  26.2   \n",
       "766            1    126.0           60.0           29.0    125.0  30.1   \n",
       "767            1     93.0           70.0           31.0    125.0  30.4   \n",
       "\n",
       "     DiabetesPedigreeFunction  Age  Outcome  \n",
       "0                       0.627   50        1  \n",
       "1                       0.351   31        0  \n",
       "2                       0.672   32        1  \n",
       "3                       0.167   21        0  \n",
       "4                       2.288   33        1  \n",
       "..                        ...  ...      ...  \n",
       "763                     0.171   63        0  \n",
       "764                     0.340   27        0  \n",
       "765                     0.245   30        0  \n",
       "766                     0.349   47        1  \n",
       "767                     0.315   23        0  \n",
       "\n",
       "[768 rows x 9 columns]"
      ]
     },
     "execution_count": 71,
     "metadata": {},
     "output_type": "execute_result"
    }
   ],
   "source": [
    "df"
   ]
  },
  {
   "cell_type": "code",
   "execution_count": 72,
   "metadata": {},
   "outputs": [],
   "source": [
    "X= df2.iloc[:,:-1].values\n",
    "\n",
    "Y = df2.iloc[:,-1].values"
   ]
  },
  {
   "cell_type": "code",
   "execution_count": 73,
   "metadata": {},
   "outputs": [],
   "source": [
    "from sklearn.model_selection import train_test_split\n",
    "X_train, X_test, Y_train, Y_test = train_test_split(X, Y, test_size = 0.3, random_state = 42)"
   ]
  },
  {
   "cell_type": "code",
   "execution_count": 74,
   "metadata": {},
   "outputs": [
    {
     "data": {
      "text/plain": [
       "((523, 8), (225, 8), (523,), (225,))"
      ]
     },
     "execution_count": 74,
     "metadata": {},
     "output_type": "execute_result"
    }
   ],
   "source": [
    "X_train.shape,X_test.shape,Y_train.shape,Y_test.shape"
   ]
  },
  {
   "cell_type": "code",
   "execution_count": 75,
   "metadata": {},
   "outputs": [
    {
     "data": {
      "text/plain": [
       "array([0, 0, 1, 0, 0, 0, 0, 0, 0, 0, 1, 1, 0, 0, 0, 0, 1, 0, 0, 1, 0, 0,\n",
       "       0, 0, 1, 0, 1, 0, 1, 1, 0, 0, 0, 0, 1, 0, 1, 1, 1, 1, 1, 0, 0, 0,\n",
       "       0, 0, 1, 0, 0, 0, 0, 1, 1, 1, 0, 1, 0, 0, 0, 0, 1, 1, 0, 1, 1, 1,\n",
       "       0, 1, 0, 0, 0, 0, 0, 0, 0, 1, 0, 1, 1, 0, 1, 0, 0, 1, 1, 0, 0, 0,\n",
       "       0, 1, 0, 1, 0, 0, 0, 0, 1, 0, 1, 0, 1, 1, 0, 0, 0, 1, 1, 0, 1, 0,\n",
       "       1, 1, 1, 0, 0, 0, 0, 1, 0, 0, 0, 1, 0, 0, 1, 0, 0, 1, 1, 0, 0, 1,\n",
       "       0, 0, 0, 0, 1, 1, 1, 0, 1, 1, 1, 1, 0, 0, 1, 1, 1, 0, 1, 1, 0, 0,\n",
       "       1, 0, 1, 0, 0, 0, 1, 1, 0, 1, 0, 0, 0, 0, 1, 0, 1, 1, 0, 1, 1, 1,\n",
       "       0, 0, 0, 0, 1, 0, 0, 1, 1, 1, 0, 1, 0, 0, 0, 1, 0, 1, 0, 1, 1, 1,\n",
       "       0, 0, 1, 0, 1, 0, 0, 1, 0, 0, 0, 0, 0, 1, 0, 0, 1, 1, 1, 1, 0, 1,\n",
       "       1, 1, 0, 0, 0, 0, 1, 0, 0, 0, 1, 0, 0, 1, 0, 1, 1, 0, 0, 0, 1, 1,\n",
       "       1, 0, 1, 0, 0, 0, 0, 0, 1, 0, 0, 1, 1, 0, 0, 1, 0, 0, 1, 0, 0, 1,\n",
       "       0, 0, 0, 0, 0, 0, 0, 1, 0, 0, 0, 1, 1, 0, 0, 0, 0, 0, 0, 1, 0, 0,\n",
       "       0, 0, 0, 1, 0, 1, 1, 1, 1, 1, 1, 0, 0, 0, 0, 0, 0, 0, 0, 0, 0, 1,\n",
       "       0, 0, 1, 0, 1, 0, 0, 0, 0, 1, 0, 0, 0, 0, 0, 0, 1, 0, 0, 0, 0, 0,\n",
       "       0, 0, 0, 1, 0, 0, 0, 0, 0, 0, 1, 0, 0, 1, 1, 1, 0, 0, 1, 0, 0, 0,\n",
       "       1, 0, 1, 0, 0, 1, 0, 0, 0, 1, 0, 1, 1, 0, 0, 0, 0, 1, 0, 0, 0, 1,\n",
       "       0, 0, 1, 0, 0, 0, 0, 1, 0, 0, 0, 0, 0, 1, 0, 0, 1, 0, 1, 0, 0, 0,\n",
       "       1, 0, 1, 0, 0, 1, 0, 0, 1, 1, 0, 1, 0, 0, 0, 0, 0, 0, 1, 1, 0, 0,\n",
       "       0, 1, 1, 0, 1, 0, 0, 0, 1, 1, 0, 0, 0, 1, 0, 0, 0, 0, 1, 0, 0, 0,\n",
       "       0, 0, 0, 0, 0, 0, 1, 0, 1, 0, 0, 0, 1, 1, 0, 1, 0, 0, 1, 0, 0, 0,\n",
       "       0, 0, 1, 1, 0, 1, 0, 1, 0, 0, 0, 0, 0, 1, 1, 0, 1, 1, 0, 1, 0, 0,\n",
       "       1, 0, 0, 0, 1, 0, 0, 0, 1, 0, 1, 0, 0, 0, 1, 0, 1, 0, 0, 0, 0, 0,\n",
       "       0, 0, 0, 0, 0, 0, 0, 0, 1, 1, 0, 1, 1, 0, 0, 0, 0], dtype=int64)"
      ]
     },
     "execution_count": 75,
     "metadata": {},
     "output_type": "execute_result"
    }
   ],
   "source": [
    "Y_train"
   ]
  },
  {
   "cell_type": "code",
   "execution_count": 86,
   "metadata": {},
   "outputs": [],
   "source": [
    "from  sklearn.preprocessing import StandardScaler \n",
    "sc = StandardScaler()\n",
    "X_train = sc.fit_transform(X_train)\n"
   ]
  },
  {
   "cell_type": "code",
   "execution_count": 87,
   "metadata": {},
   "outputs": [
    {
     "data": {
      "text/plain": [
       "LogisticRegression(C=1.0, class_weight=None, dual=False, fit_intercept=True,\n",
       "                   intercept_scaling=1, l1_ratio=None, max_iter=100,\n",
       "                   multi_class='auto', n_jobs=None, penalty='l2',\n",
       "                   random_state=42, solver='lbfgs', tol=0.0001, verbose=0,\n",
       "                   warm_start=False)"
      ]
     },
     "execution_count": 87,
     "metadata": {},
     "output_type": "execute_result"
    }
   ],
   "source": [
    "#Using LogisticRegression\n",
    "from sklearn.linear_model import LogisticRegression\n",
    "LR = LogisticRegression(random_state=42)\n",
    "LR.fit(X_train,Y_train)"
   ]
  },
  {
   "cell_type": "code",
   "execution_count": 88,
   "metadata": {},
   "outputs": [],
   "source": [
    "YP = LR.predict(X_test)"
   ]
  },
  {
   "cell_type": "code",
   "execution_count": 89,
   "metadata": {},
   "outputs": [
    {
     "name": "stdout",
     "output_type": "stream",
     "text": [
      "0.7820267686424475\n",
      "0.3422222222222222\n",
      "0.3422222222222222\n",
      "[[  0 148]\n",
      " [  0  77]]\n"
     ]
    }
   ],
   "source": [
    "print(LR.score(X_train,Y_train))\n",
    "print(LR.score(X_test,Y_test))\n",
    "print(accuracy_score(Y_test,YP))\n",
    "print(confusion_matrix(Y_test,YP))"
   ]
  },
  {
   "cell_type": "code",
   "execution_count": 90,
   "metadata": {},
   "outputs": [
    {
     "data": {
      "text/plain": [
       "DecisionTreeClassifier(ccp_alpha=0.0, class_weight=None, criterion='gini',\n",
       "                       max_depth=None, max_features=None, max_leaf_nodes=None,\n",
       "                       min_impurity_decrease=0.0, min_impurity_split=None,\n",
       "                       min_samples_leaf=1, min_samples_split=2,\n",
       "                       min_weight_fraction_leaf=0.0, presort='deprecated',\n",
       "                       random_state=42, splitter='best')"
      ]
     },
     "execution_count": 90,
     "metadata": {},
     "output_type": "execute_result"
    }
   ],
   "source": [
    "#Using DecisionTree\n",
    "from sklearn.tree import DecisionTreeClassifier\n",
    "DTR = DecisionTreeClassifier(random_state=42)\n",
    "DTR.fit(X_train, Y_train)"
   ]
  },
  {
   "cell_type": "code",
   "execution_count": 91,
   "metadata": {},
   "outputs": [],
   "source": [
    "YP1 = DTR.predict(X_test)"
   ]
  },
  {
   "cell_type": "code",
   "execution_count": 92,
   "metadata": {},
   "outputs": [
    {
     "name": "stdout",
     "output_type": "stream",
     "text": [
      "1.0\n",
      "0.6577777777777778\n",
      "0.6577777777777778\n",
      "[[148   0]\n",
      " [ 77   0]]\n"
     ]
    }
   ],
   "source": [
    "print(DTR.score(X_train,Y_train))\n",
    "print(DTR.score(X_test,Y_test))\n",
    "print(accuracy_score(Y_test,YP1))\n",
    "print(confusion_matrix(Y_test,YP1))\n"
   ]
  },
  {
   "cell_type": "code",
   "execution_count": 93,
   "metadata": {},
   "outputs": [
    {
     "data": {
      "text/plain": [
       "RandomForestClassifier(bootstrap=True, ccp_alpha=0.0, class_weight=None,\n",
       "                       criterion='gini', max_depth=None, max_features='auto',\n",
       "                       max_leaf_nodes=None, max_samples=None,\n",
       "                       min_impurity_decrease=0.0, min_impurity_split=None,\n",
       "                       min_samples_leaf=1, min_samples_split=2,\n",
       "                       min_weight_fraction_leaf=0.0, n_estimators=120,\n",
       "                       n_jobs=None, oob_score=False, random_state=42, verbose=0,\n",
       "                       warm_start=False)"
      ]
     },
     "execution_count": 93,
     "metadata": {},
     "output_type": "execute_result"
    }
   ],
   "source": [
    "from sklearn.ensemble import RandomForestClassifier\n",
    "RFG = RandomForestClassifier(n_estimators=120,random_state=42)\n",
    "RFG.fit(X_train,Y_train)"
   ]
  },
  {
   "cell_type": "code",
   "execution_count": 94,
   "metadata": {},
   "outputs": [],
   "source": [
    "YP2 = RFG.predict(X_test)"
   ]
  },
  {
   "cell_type": "code",
   "execution_count": 95,
   "metadata": {},
   "outputs": [
    {
     "name": "stdout",
     "output_type": "stream",
     "text": [
      "1.0\n",
      "0.3422222222222222\n",
      "0.3422222222222222\n",
      "[[  0 148]\n",
      " [  0  77]]\n"
     ]
    }
   ],
   "source": [
    "print(RFG.score(X_train,Y_train))\n",
    "print(RFG.score(X_test,Y_test))\n",
    "print(accuracy_score(Y_test,YP2))\n",
    "print(confusion_matrix(Y_test,YP2))\n"
   ]
  },
  {
   "cell_type": "markdown",
   "metadata": {},
   "source": [
    "# With REMOVING OUTLIER + COLUMN"
   ]
  },
  {
   "cell_type": "code",
   "execution_count": 96,
   "metadata": {},
   "outputs": [],
   "source": [
    "\n",
    "df3 = df2.drop('BloodPressure',axis=1)\n",
    "df3 = df3.drop('SkinThickness',axis=1)"
   ]
  },
  {
   "cell_type": "code",
   "execution_count": 97,
   "metadata": {},
   "outputs": [
    {
     "data": {
      "text/html": [
       "<div>\n",
       "<style scoped>\n",
       "    .dataframe tbody tr th:only-of-type {\n",
       "        vertical-align: middle;\n",
       "    }\n",
       "\n",
       "    .dataframe tbody tr th {\n",
       "        vertical-align: top;\n",
       "    }\n",
       "\n",
       "    .dataframe thead th {\n",
       "        text-align: right;\n",
       "    }\n",
       "</style>\n",
       "<table border=\"1\" class=\"dataframe\">\n",
       "  <thead>\n",
       "    <tr style=\"text-align: right;\">\n",
       "      <th></th>\n",
       "      <th>Pregnancies</th>\n",
       "      <th>Glucose</th>\n",
       "      <th>BloodPressure</th>\n",
       "      <th>SkinThickness</th>\n",
       "      <th>Insulin</th>\n",
       "      <th>BMI</th>\n",
       "      <th>DiabetesPedigreeFunction</th>\n",
       "      <th>Age</th>\n",
       "      <th>Outcome</th>\n",
       "    </tr>\n",
       "  </thead>\n",
       "  <tbody>\n",
       "    <tr>\n",
       "      <th>0</th>\n",
       "      <td>6</td>\n",
       "      <td>148.0</td>\n",
       "      <td>72.0</td>\n",
       "      <td>35.0</td>\n",
       "      <td>125.0</td>\n",
       "      <td>33.6</td>\n",
       "      <td>0.627</td>\n",
       "      <td>50</td>\n",
       "      <td>1</td>\n",
       "    </tr>\n",
       "    <tr>\n",
       "      <th>1</th>\n",
       "      <td>1</td>\n",
       "      <td>85.0</td>\n",
       "      <td>66.0</td>\n",
       "      <td>29.0</td>\n",
       "      <td>125.0</td>\n",
       "      <td>26.6</td>\n",
       "      <td>0.351</td>\n",
       "      <td>31</td>\n",
       "      <td>0</td>\n",
       "    </tr>\n",
       "    <tr>\n",
       "      <th>2</th>\n",
       "      <td>8</td>\n",
       "      <td>183.0</td>\n",
       "      <td>64.0</td>\n",
       "      <td>29.0</td>\n",
       "      <td>125.0</td>\n",
       "      <td>23.3</td>\n",
       "      <td>0.672</td>\n",
       "      <td>32</td>\n",
       "      <td>1</td>\n",
       "    </tr>\n",
       "    <tr>\n",
       "      <th>3</th>\n",
       "      <td>1</td>\n",
       "      <td>89.0</td>\n",
       "      <td>66.0</td>\n",
       "      <td>23.0</td>\n",
       "      <td>94.0</td>\n",
       "      <td>28.1</td>\n",
       "      <td>0.167</td>\n",
       "      <td>21</td>\n",
       "      <td>0</td>\n",
       "    </tr>\n",
       "    <tr>\n",
       "      <th>4</th>\n",
       "      <td>0</td>\n",
       "      <td>137.0</td>\n",
       "      <td>40.0</td>\n",
       "      <td>35.0</td>\n",
       "      <td>168.0</td>\n",
       "      <td>43.1</td>\n",
       "      <td>2.288</td>\n",
       "      <td>33</td>\n",
       "      <td>1</td>\n",
       "    </tr>\n",
       "    <tr>\n",
       "      <th>...</th>\n",
       "      <td>...</td>\n",
       "      <td>...</td>\n",
       "      <td>...</td>\n",
       "      <td>...</td>\n",
       "      <td>...</td>\n",
       "      <td>...</td>\n",
       "      <td>...</td>\n",
       "      <td>...</td>\n",
       "      <td>...</td>\n",
       "    </tr>\n",
       "    <tr>\n",
       "      <th>763</th>\n",
       "      <td>10</td>\n",
       "      <td>101.0</td>\n",
       "      <td>76.0</td>\n",
       "      <td>48.0</td>\n",
       "      <td>180.0</td>\n",
       "      <td>32.9</td>\n",
       "      <td>0.171</td>\n",
       "      <td>63</td>\n",
       "      <td>0</td>\n",
       "    </tr>\n",
       "    <tr>\n",
       "      <th>764</th>\n",
       "      <td>2</td>\n",
       "      <td>122.0</td>\n",
       "      <td>70.0</td>\n",
       "      <td>27.0</td>\n",
       "      <td>125.0</td>\n",
       "      <td>36.8</td>\n",
       "      <td>0.340</td>\n",
       "      <td>27</td>\n",
       "      <td>0</td>\n",
       "    </tr>\n",
       "    <tr>\n",
       "      <th>765</th>\n",
       "      <td>5</td>\n",
       "      <td>121.0</td>\n",
       "      <td>72.0</td>\n",
       "      <td>23.0</td>\n",
       "      <td>112.0</td>\n",
       "      <td>26.2</td>\n",
       "      <td>0.245</td>\n",
       "      <td>30</td>\n",
       "      <td>0</td>\n",
       "    </tr>\n",
       "    <tr>\n",
       "      <th>766</th>\n",
       "      <td>1</td>\n",
       "      <td>126.0</td>\n",
       "      <td>60.0</td>\n",
       "      <td>29.0</td>\n",
       "      <td>125.0</td>\n",
       "      <td>30.1</td>\n",
       "      <td>0.349</td>\n",
       "      <td>47</td>\n",
       "      <td>1</td>\n",
       "    </tr>\n",
       "    <tr>\n",
       "      <th>767</th>\n",
       "      <td>1</td>\n",
       "      <td>93.0</td>\n",
       "      <td>70.0</td>\n",
       "      <td>31.0</td>\n",
       "      <td>125.0</td>\n",
       "      <td>30.4</td>\n",
       "      <td>0.315</td>\n",
       "      <td>23</td>\n",
       "      <td>0</td>\n",
       "    </tr>\n",
       "  </tbody>\n",
       "</table>\n",
       "<p>748 rows × 9 columns</p>\n",
       "</div>"
      ],
      "text/plain": [
       "     Pregnancies  Glucose  BloodPressure  SkinThickness  Insulin   BMI  \\\n",
       "0              6    148.0           72.0           35.0    125.0  33.6   \n",
       "1              1     85.0           66.0           29.0    125.0  26.6   \n",
       "2              8    183.0           64.0           29.0    125.0  23.3   \n",
       "3              1     89.0           66.0           23.0     94.0  28.1   \n",
       "4              0    137.0           40.0           35.0    168.0  43.1   \n",
       "..           ...      ...            ...            ...      ...   ...   \n",
       "763           10    101.0           76.0           48.0    180.0  32.9   \n",
       "764            2    122.0           70.0           27.0    125.0  36.8   \n",
       "765            5    121.0           72.0           23.0    112.0  26.2   \n",
       "766            1    126.0           60.0           29.0    125.0  30.1   \n",
       "767            1     93.0           70.0           31.0    125.0  30.4   \n",
       "\n",
       "     DiabetesPedigreeFunction  Age  Outcome  \n",
       "0                       0.627   50        1  \n",
       "1                       0.351   31        0  \n",
       "2                       0.672   32        1  \n",
       "3                       0.167   21        0  \n",
       "4                       2.288   33        1  \n",
       "..                        ...  ...      ...  \n",
       "763                     0.171   63        0  \n",
       "764                     0.340   27        0  \n",
       "765                     0.245   30        0  \n",
       "766                     0.349   47        1  \n",
       "767                     0.315   23        0  \n",
       "\n",
       "[748 rows x 9 columns]"
      ]
     },
     "execution_count": 97,
     "metadata": {},
     "output_type": "execute_result"
    }
   ],
   "source": [
    "df2"
   ]
  },
  {
   "cell_type": "code",
   "execution_count": 98,
   "metadata": {},
   "outputs": [],
   "source": [
    "X= df3.iloc[:,:-1].values\n",
    "\n",
    "Y = df3.iloc[:,-1].values"
   ]
  },
  {
   "cell_type": "code",
   "execution_count": 99,
   "metadata": {},
   "outputs": [],
   "source": [
    "from sklearn.model_selection import train_test_split\n",
    "X_train, X_test, Y_train, Y_test = train_test_split(X, Y, test_size = 0.3, random_state = 42)"
   ]
  },
  {
   "cell_type": "code",
   "execution_count": 100,
   "metadata": {},
   "outputs": [
    {
     "data": {
      "text/plain": [
       "((523, 6), (225, 6), (523,), (225,))"
      ]
     },
     "execution_count": 100,
     "metadata": {},
     "output_type": "execute_result"
    }
   ],
   "source": [
    "X_train.shape,X_test.shape,Y_train.shape,Y_test.shape"
   ]
  },
  {
   "cell_type": "code",
   "execution_count": 101,
   "metadata": {},
   "outputs": [],
   "source": [
    "from  sklearn.preprocessing import StandardScaler \n",
    "sc = StandardScaler()\n",
    "X_train = sc.fit_transform(X_train)\n",
    "X_test  = sc.fit_transform(X_test)"
   ]
  },
  {
   "cell_type": "code",
   "execution_count": 102,
   "metadata": {},
   "outputs": [
    {
     "data": {
      "text/plain": [
       "LogisticRegression(C=1.0, class_weight=None, dual=False, fit_intercept=True,\n",
       "                   intercept_scaling=1, l1_ratio=None, max_iter=100,\n",
       "                   multi_class='auto', n_jobs=None, penalty='l2',\n",
       "                   random_state=42, solver='lbfgs', tol=0.0001, verbose=0,\n",
       "                   warm_start=False)"
      ]
     },
     "execution_count": 102,
     "metadata": {},
     "output_type": "execute_result"
    }
   ],
   "source": [
    "#Using LogisticRegression\n",
    "from sklearn.linear_model import LogisticRegression\n",
    "LR = LogisticRegression(random_state=42)\n",
    "LR.fit(X_train,Y_train)"
   ]
  },
  {
   "cell_type": "code",
   "execution_count": 103,
   "metadata": {},
   "outputs": [],
   "source": [
    "YP = LR.predict(X_test)"
   ]
  },
  {
   "cell_type": "code",
   "execution_count": 104,
   "metadata": {},
   "outputs": [
    {
     "name": "stdout",
     "output_type": "stream",
     "text": [
      "0.7858508604206501\n",
      "0.7777777777777778\n",
      "0.7777777777777778\n",
      "[[128  20]\n",
      " [ 30  47]]\n"
     ]
    }
   ],
   "source": [
    "print(LR.score(X_train,Y_train))\n",
    "print(LR.score(X_test,Y_test))\n",
    "print(accuracy_score(Y_test,YP))\n",
    "print(confusion_matrix(Y_test,YP))"
   ]
  },
  {
   "cell_type": "code",
   "execution_count": 105,
   "metadata": {},
   "outputs": [
    {
     "data": {
      "text/plain": [
       "DecisionTreeClassifier(ccp_alpha=0.0, class_weight=None, criterion='gini',\n",
       "                       max_depth=None, max_features=None, max_leaf_nodes=None,\n",
       "                       min_impurity_decrease=0.0, min_impurity_split=None,\n",
       "                       min_samples_leaf=1, min_samples_split=2,\n",
       "                       min_weight_fraction_leaf=0.0, presort='deprecated',\n",
       "                       random_state=42, splitter='best')"
      ]
     },
     "execution_count": 105,
     "metadata": {},
     "output_type": "execute_result"
    }
   ],
   "source": [
    "#Using DecisionTree\n",
    "from sklearn.tree import DecisionTreeClassifier\n",
    "DTR = DecisionTreeClassifier(random_state=42)\n",
    "DTR.fit(X_train, Y_train)"
   ]
  },
  {
   "cell_type": "code",
   "execution_count": 106,
   "metadata": {},
   "outputs": [],
   "source": [
    "YP1 = DTR.predict(X_test)"
   ]
  },
  {
   "cell_type": "code",
   "execution_count": 107,
   "metadata": {},
   "outputs": [
    {
     "name": "stdout",
     "output_type": "stream",
     "text": [
      "1.0\n",
      "0.68\n",
      "0.68\n",
      "[[108  40]\n",
      " [ 32  45]]\n"
     ]
    }
   ],
   "source": [
    "print(DTR.score(X_train,Y_train))\n",
    "print(DTR.score(X_test,Y_test))\n",
    "print(accuracy_score(Y_test,YP1))\n",
    "print(confusion_matrix(Y_test,YP1))"
   ]
  },
  {
   "cell_type": "code",
   "execution_count": 108,
   "metadata": {},
   "outputs": [
    {
     "data": {
      "text/plain": [
       "RandomForestClassifier(bootstrap=True, ccp_alpha=0.0, class_weight=None,\n",
       "                       criterion='gini', max_depth=None, max_features='auto',\n",
       "                       max_leaf_nodes=None, max_samples=None,\n",
       "                       min_impurity_decrease=0.0, min_impurity_split=None,\n",
       "                       min_samples_leaf=1, min_samples_split=2,\n",
       "                       min_weight_fraction_leaf=0.0, n_estimators=120,\n",
       "                       n_jobs=None, oob_score=False, random_state=42, verbose=0,\n",
       "                       warm_start=False)"
      ]
     },
     "execution_count": 108,
     "metadata": {},
     "output_type": "execute_result"
    }
   ],
   "source": [
    "from sklearn.ensemble import RandomForestClassifier\n",
    "RFG = RandomForestClassifier(n_estimators=120,random_state=42)\n",
    "RFG.fit(X_train,Y_train)"
   ]
  },
  {
   "cell_type": "code",
   "execution_count": 109,
   "metadata": {},
   "outputs": [],
   "source": [
    "YP2 = RFG.predict(X_test)"
   ]
  },
  {
   "cell_type": "code",
   "execution_count": 110,
   "metadata": {},
   "outputs": [
    {
     "name": "stdout",
     "output_type": "stream",
     "text": [
      "1.0\n",
      "0.72\n",
      "0.72\n",
      "[[120  28]\n",
      " [ 35  42]]\n"
     ]
    }
   ],
   "source": [
    "print(RFG.score(X_train,Y_train))\n",
    "print(RFG.score(X_test,Y_test))\n",
    "print(accuracy_score(Y_test,YP2))\n",
    "print(confusion_matrix(Y_test,YP2))"
   ]
  },
  {
   "cell_type": "code",
   "execution_count": 111,
   "metadata": {},
   "outputs": [],
   "source": [
    "#comparing OUTPUT score"
   ]
  },
  {
   "cell_type": "code",
   "execution_count": 112,
   "metadata": {},
   "outputs": [
    {
     "ename": "NameError",
     "evalue": "name 'Simple' is not defined",
     "output_type": "error",
     "traceback": [
      "\u001b[1;31m---------------------------------------------------------------------------\u001b[0m",
      "\u001b[1;31mNameError\u001b[0m                                 Traceback (most recent call last)",
      "\u001b[1;32m<ipython-input-112-c8af3784894c>\u001b[0m in \u001b[0;36m<module>\u001b[1;34m\u001b[0m\n\u001b[0;32m      1\u001b[0m \u001b[0mSimpleRFG\u001b[0m \u001b[1;33m=\u001b[0m\u001b[1;33m[\u001b[0m \u001b[1;33m[\u001b[0m\u001b[1;36m1.0\u001b[0m\u001b[1;33m,\u001b[0m\u001b[1;36m0.7489177489177489\u001b[0m\u001b[1;33m]\u001b[0m\u001b[1;33m,\u001b[0m\u001b[1;33m[\u001b[0m\u001b[1;36m1.0\u001b[0m\u001b[1;33m,\u001b[0m\u001b[1;36m0.728889\u001b[0m\u001b[1;33m]\u001b[0m\u001b[1;33m,\u001b[0m\u001b[1;33m[\u001b[0m\u001b[1;36m1.0\u001b[0m\u001b[1;33m,\u001b[0m\u001b[1;36m0.72\u001b[0m\u001b[1;33m]\u001b[0m\u001b[1;33m,\u001b[0m\u001b[1;33m[\u001b[0m\u001b[1;36m1\u001b[0m\u001b[1;33m,\u001b[0m\u001b[1;36m0.72\u001b[0m\u001b[1;33m]\u001b[0m\u001b[1;33m]\u001b[0m\u001b[1;33m\u001b[0m\u001b[1;33m\u001b[0m\u001b[0m\n\u001b[0;32m      2\u001b[0m \u001b[1;33m\u001b[0m\u001b[0m\n\u001b[1;32m----> 3\u001b[1;33m \u001b[0mRFGDATA\u001b[0m \u001b[1;33m=\u001b[0m \u001b[0mpd\u001b[0m\u001b[1;33m.\u001b[0m\u001b[0mDataFrame\u001b[0m\u001b[1;33m(\u001b[0m\u001b[0mSimple\u001b[0m\u001b[1;33m,\u001b[0m\u001b[1;33m[\u001b[0m\u001b[1;34m'SimpleRFG'\u001b[0m\u001b[1;33m,\u001b[0m\u001b[1;34m'RemovingColumnsRFG'\u001b[0m\u001b[1;33m,\u001b[0m\u001b[1;34m'RemovingOutlierRFG'\u001b[0m\u001b[1;33m,\u001b[0m\u001b[1;34m'RemovingOitlierColumn'\u001b[0m\u001b[1;33m]\u001b[0m\u001b[1;33m)\u001b[0m\u001b[1;33m\u001b[0m\u001b[1;33m\u001b[0m\u001b[0m\n\u001b[0m\u001b[0;32m      4\u001b[0m \u001b[0mRFGDATA\u001b[0m\u001b[1;33m\u001b[0m\u001b[1;33m\u001b[0m\u001b[0m\n",
      "\u001b[1;31mNameError\u001b[0m: name 'Simple' is not defined"
     ]
    }
   ],
   "source": [
    "SimpleRFG =[ [1.0,0.7489177489177489],[1.0,0.728889],[1.0,0.72],[1,0.72]]\n",
    "\n",
    "RFGDATA = pd.DataFrame(Simple,['SimpleRFG','RemovingColumnsRFG','RemovingOutlierRFG','RemovingOitlierColumn'])\n",
    "RFGDATA"
   ]
  },
  {
   "cell_type": "code",
   "execution_count": 113,
   "metadata": {},
   "outputs": [
    {
     "data": {
      "text/html": [
       "<div>\n",
       "<style scoped>\n",
       "    .dataframe tbody tr th:only-of-type {\n",
       "        vertical-align: middle;\n",
       "    }\n",
       "\n",
       "    .dataframe tbody tr th {\n",
       "        vertical-align: top;\n",
       "    }\n",
       "\n",
       "    .dataframe thead th {\n",
       "        text-align: right;\n",
       "    }\n",
       "</style>\n",
       "<table border=\"1\" class=\"dataframe\">\n",
       "  <thead>\n",
       "    <tr style=\"text-align: right;\">\n",
       "      <th></th>\n",
       "      <th>0</th>\n",
       "      <th>1</th>\n",
       "    </tr>\n",
       "  </thead>\n",
       "  <tbody>\n",
       "    <tr>\n",
       "      <th>SimpleDTR</th>\n",
       "      <td>1.0</td>\n",
       "      <td>0.69</td>\n",
       "    </tr>\n",
       "    <tr>\n",
       "      <th>RemovingColumnsDTR</th>\n",
       "      <td>1.0</td>\n",
       "      <td>0.65</td>\n",
       "    </tr>\n",
       "    <tr>\n",
       "      <th>RemovingOutlierDTR</th>\n",
       "      <td>1.0</td>\n",
       "      <td>0.65</td>\n",
       "    </tr>\n",
       "    <tr>\n",
       "      <th>RemovingOitlierColumn</th>\n",
       "      <td>1.0</td>\n",
       "      <td>0.68</td>\n",
       "    </tr>\n",
       "  </tbody>\n",
       "</table>\n",
       "</div>"
      ],
      "text/plain": [
       "                         0     1\n",
       "SimpleDTR              1.0  0.69\n",
       "RemovingColumnsDTR     1.0  0.65\n",
       "RemovingOutlierDTR     1.0  0.65\n",
       "RemovingOitlierColumn  1.0  0.68"
      ]
     },
     "execution_count": 113,
     "metadata": {},
     "output_type": "execute_result"
    }
   ],
   "source": [
    "Simple =[ [1.0,0.69],[1.0,0.65],[1.0,0.65],[1,0.68]]\n",
    "DTRDATA = pd.DataFrame(Simple,['SimpleDTR','RemovingColumnsDTR','RemovingOutlierDTR','RemovingOitlierColumn'])\n",
    "DTRDATA"
   ]
  },
  {
   "cell_type": "code",
   "execution_count": 114,
   "metadata": {},
   "outputs": [
    {
     "data": {
      "text/html": [
       "<div>\n",
       "<style scoped>\n",
       "    .dataframe tbody tr th:only-of-type {\n",
       "        vertical-align: middle;\n",
       "    }\n",
       "\n",
       "    .dataframe tbody tr th {\n",
       "        vertical-align: top;\n",
       "    }\n",
       "\n",
       "    .dataframe thead th {\n",
       "        text-align: right;\n",
       "    }\n",
       "</style>\n",
       "<table border=\"1\" class=\"dataframe\">\n",
       "  <thead>\n",
       "    <tr style=\"text-align: right;\">\n",
       "      <th></th>\n",
       "      <th>0</th>\n",
       "      <th>1</th>\n",
       "    </tr>\n",
       "  </thead>\n",
       "  <tbody>\n",
       "    <tr>\n",
       "      <th>SimpleLR</th>\n",
       "      <td>1.00</td>\n",
       "      <td>0.690</td>\n",
       "    </tr>\n",
       "    <tr>\n",
       "      <th>RemovingColumnsLR</th>\n",
       "      <td>1.00</td>\n",
       "      <td>0.650</td>\n",
       "    </tr>\n",
       "    <tr>\n",
       "      <th>RemovingOutlierLR</th>\n",
       "      <td>1.00</td>\n",
       "      <td>0.650</td>\n",
       "    </tr>\n",
       "    <tr>\n",
       "      <th>RemovingOitlierColumn</th>\n",
       "      <td>0.78</td>\n",
       "      <td>0.778</td>\n",
       "    </tr>\n",
       "  </tbody>\n",
       "</table>\n",
       "</div>"
      ],
      "text/plain": [
       "                          0      1\n",
       "SimpleLR               1.00  0.690\n",
       "RemovingColumnsLR      1.00  0.650\n",
       "RemovingOutlierLR      1.00  0.650\n",
       "RemovingOitlierColumn  0.78  0.778"
      ]
     },
     "execution_count": 114,
     "metadata": {},
     "output_type": "execute_result"
    }
   ],
   "source": [
    "Simple = [ [1.0,0.69],[1.0,0.65],[1.0,0.65],[0.78,0.778] ]\n",
    "LRDATA = pd.DataFrame(Simple,['SimpleLR','RemovingColumnsLR','RemovingOutlierLR','RemovingOitlierColumn'])\n",
    "LRDATA"
   ]
  },
  {
   "cell_type": "code",
   "execution_count": 115,
   "metadata": {},
   "outputs": [],
   "source": [
    "import pickle"
   ]
  },
  {
   "cell_type": "code",
   "execution_count": 116,
   "metadata": {},
   "outputs": [],
   "source": [
    "pickle.dump(LR,open('diabetesmodel.pkl','wb'))"
   ]
  },
  {
   "cell_type": "code",
   "execution_count": 118,
   "metadata": {},
   "outputs": [
    {
     "name": "stdout",
     "output_type": "stream",
     "text": [
      "[1]\n"
     ]
    }
   ],
   "source": [
    "model = pickle.load(open('diabetesmodel.pkl','rb'))\n",
    "print(model.predict([[1,48.0,72.0,35.0,125.0,33.6]]))"
   ]
  },
  {
   "cell_type": "code",
   "execution_count": null,
   "metadata": {},
   "outputs": [],
   "source": []
  }
 ],
 "metadata": {
  "kernelspec": {
   "display_name": "Python 3",
   "language": "python",
   "name": "python3"
  },
  "language_info": {
   "codemirror_mode": {
    "name": "ipython",
    "version": 3
   },
   "file_extension": ".py",
   "mimetype": "text/x-python",
   "name": "python",
   "nbconvert_exporter": "python",
   "pygments_lexer": "ipython3",
   "version": "3.7.6"
  }
 },
 "nbformat": 4,
 "nbformat_minor": 4
}
